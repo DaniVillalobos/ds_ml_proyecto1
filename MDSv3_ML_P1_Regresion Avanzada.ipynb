{
 "cells": [
  {
   "attachments": {},
   "cell_type": "markdown",
   "id": "d9574140-6c03-44cb-8447-afe8004b026e",
   "metadata": {},
   "source": [
    "# <center> Prediccion de Precios en Bienes Raices - Mercado Australiano - Regresion Avanzada"
   ]
  },
  {
   "attachments": {},
   "cell_type": "markdown",
   "id": "cae6fcb4",
   "metadata": {},
   "source": [
    "### Integrates de Grupo:\n",
    "\n",
    "* Wilder Serdan (wserdan@gmail.com)\n",
    "* Oscar Ramirez (oscar.ramirez.guachalla@gmail.com)\n",
    "* Ruth Daniela Villalobos (ruthdanivillalobos@gmail.com)"
   ]
  },
  {
   "attachments": {},
   "cell_type": "markdown",
   "id": "f3928501",
   "metadata": {},
   "source": [
    "# Tabla de Contenido\n",
    "\n",
    "1. [Introduccion](#1-introducción)\n",
    "    * [Objetivos del negocio](#11-objetivo-del-negocio)\n",
    "2. [Configuracion e Instalacion](#2-configuracion-e-instalacion)\n",
    "    * [Instalaciones Necesarias](#instalaciones-necesarias)\n",
    "    * [Librerías Generales](#librerías-generales)\n",
    "    * [Librerías Machine Learning](#librerias-machine-learning)\n",
    "    * [Librerías Estadística](#librerias-estadística)\n",
    "    * [Alertas](#alertas)\n",
    "    * [Definición de Números de Decimales](#definición-de-número-de-decimales)\n",
    "3. [Entendimiento de los Datos](#3-entendimiento-de-los-datos)  \n",
    "4. [Manipulacion y Limpieza de Datos](#4-manipulación-y-limpieza-de-datos)\n",
    "    * [Cargado y Visualización de Datos](#cargado-y-visualización-de-datos)\n",
    "    * [Evaluación Inicial](#evaluación-inicial)\n",
    "\t    * [Campos Categóricos](#campos-categóricos)\n",
    "\t    * [Correlación](#correlación)\n",
    "\t    * [Correñación entre variables categóricas y numericas](#correlación-entre-variables-categóricas-y-numéricas)\n",
    "\t    * [Datos Faltantes](#datos-faltantes)\n",
    "\t    * [Completado de Valores Nulos](#completado-de-valores-nulos)\n",
    "\t    * [Verificación de Valores Nulos](#verificación-de-valores-nulos)\n",
    "    * [Normalidad](#normalidad)\n",
    "    * [Droping Data](#droping-data)\n",
    "\t    * [Eliminación de Variables Codependientes](#eliminación-de-variables-codependientes)\n",
    "\t    * [Eliminación de variblaes por Multicolinealidad](#eliminación-de-variables-por-multicolinealidad)\n",
    "\t    * [Creación de Variable \"TipoVecindario\"](#creación-de-variable-tipovecindario)\n",
    "    * [Outliers](#outliers)\n",
    "        * [Outliers GrLivArea](#outliers-grlivarea)\n",
    "\t    * [Outliers PoolArea](#outliers-poolarea)\n",
    "\t    * [Outliers MiscVal](#outliers-miscval)\n",
    "\t    * [Outliers LotArea](#outliers-lotarea)\n",
    "\t    * [Outliers MasVnrArea](#outliers-masvnrarea)\n",
    "    * [Derived Data](#derived-data)\n",
    "\t    * [Variables Dummy](#variables-dummy)\n",
    "5. [Analisis de Datos](#5-análisis-de-datos)\n",
    "6. [Preparacion de Datos y Modelado](#6-preparación-de-datos)\n",
    "7. [Construccion-del-Modelo](#7-construcción-del-modelo)\n",
    "8. [Conclusions y Observaciones](#8-conclusiones-y-observaciones)"
   ]
  },
  {
   "attachments": {},
   "cell_type": "markdown",
   "id": "e9f14557-da2d-4f40-8435-36259572d265",
   "metadata": {},
   "source": [
    "# 1. Introducción \n",
    "\n",
    "Una empresa de vivienda con sede en EE. UU. llamada Surprise Housing ha decidido ingresar al mercado australiano. La empresa utiliza el análisis de datos para comprar casas a un precio inferior a sus valores reales y venderlas a un precio más alto. Con el mismo propósito, la empresa ha recopilado un conjunto de datos de la venta de casas en Australia. Los datos se proporcionan en el archivo CSV a continuación.\n",
    "\n",
    "La compañía está buscando posibles propiedades para comprar e ingresar al mercado. Debe construir un modelo de regresión utilizando la regularización para predecir el valor real de las posibles propiedades y decidir si invertir en ellas o no.\n",
    "\n",
    "La empresa quiere saber:\n",
    "\n",
    "* Qué variables son significativas para predecir el precio de una casa, y\n",
    "* Qué tan bien esas variables describen el precio de una casa.\n",
    "\n",
    "Además, determine el valor óptimo de lambda para la regresión de Ridge y Lasso.\n",
    " \n",
    "### Objetivo del Negocio:\n",
    "\n",
    "Debe modelar el precio de las casas con las variables independientes disponibles. Luego, la gerencia utilizará este modelo para comprender cómo varían exactamente los precios con las variables. En consecuencia, pueden manipular la estrategia de la empresa y concentrarse en áreas que generarán altos rendimientos. Además, el modelo será una buena manera para que la gerencia entienda la dinámica de precios de un nuevo mercado."
   ]
  },
  {
   "attachments": {},
   "cell_type": "markdown",
   "id": "954c88e6-0dc4-40a4-89d0-1dab6f510980",
   "metadata": {},
   "source": [
    "# 2. Configuración e Instalación"
   ]
  },
  {
   "attachments": {},
   "cell_type": "markdown",
   "id": "83c22fd8",
   "metadata": {},
   "source": [
    "### Instalaciones Necesarias"
   ]
  },
  {
   "cell_type": "code",
   "execution_count": 31,
   "id": "7f87c344",
   "metadata": {},
   "outputs": [
    {
     "name": "stdout",
     "output_type": "stream",
     "text": [
      "Requirement already satisfied: impyute in c:\\users\\dani villalobos\\anaconda3\\lib\\site-packages (0.0.8)\n",
      "Requirement already satisfied: numpy in c:\\users\\dani villalobos\\anaconda3\\lib\\site-packages (from impyute) (1.21.5)\n",
      "Requirement already satisfied: scikit-learn in c:\\users\\dani villalobos\\anaconda3\\lib\\site-packages (from impyute) (1.0.2)\n",
      "Requirement already satisfied: scipy in c:\\users\\dani villalobos\\anaconda3\\lib\\site-packages (from impyute) (1.7.3)\n",
      "Requirement already satisfied: threadpoolctl>=2.0.0 in c:\\users\\dani villalobos\\anaconda3\\lib\\site-packages (from scikit-learn->impyute) (2.2.0)\n",
      "Requirement already satisfied: joblib>=0.11 in c:\\users\\dani villalobos\\anaconda3\\lib\\site-packages (from scikit-learn->impyute) (1.1.0)\n"
     ]
    }
   ],
   "source": [
    "!pip install impyute"
   ]
  },
  {
   "attachments": {},
   "cell_type": "markdown",
   "id": "15799732",
   "metadata": {},
   "source": [
    "### Librerías Generales"
   ]
  },
  {
   "cell_type": "code",
   "execution_count": 32,
   "id": "148adb49-0538-45f8-9de6-bb7f2a4bbd54",
   "metadata": {},
   "outputs": [],
   "source": [
    "import numpy as np\n",
    "import pandas as pd\n",
    "import matplotlib.pyplot as plt\n",
    "import pylab \n",
    "import seaborn as sns\n",
    "import sys\n",
    "from impyute.imputation.cs import mice"
   ]
  },
  {
   "attachments": {},
   "cell_type": "markdown",
   "id": "739eb3be",
   "metadata": {},
   "source": [
    "### Librerias Machine Learning"
   ]
  },
  {
   "cell_type": "code",
   "execution_count": 33,
   "id": "e0911ca9",
   "metadata": {},
   "outputs": [],
   "source": [
    "import sklearn\n",
    "from sklearn.feature_selection import RFE\n",
    "from sklearn.linear_model import LinearRegression, Ridge, Lasso\n",
    "from sklearn.metrics import r2_score, mean_squared_error,make_scorer\n",
    "from sklearn.model_selection import train_test_split, GridSearchCV, KFold,cross_val_score\n",
    "from sklearn.preprocessing import StandardScaler, MinMaxScaler, LabelEncoder,OrdinalEncoder\n",
    "from sklearn import metrics"
   ]
  },
  {
   "attachments": {},
   "cell_type": "markdown",
   "id": "aab69b28",
   "metadata": {},
   "source": [
    "### Librerias Estadística"
   ]
  },
  {
   "cell_type": "code",
   "execution_count": 34,
   "id": "f02cf726",
   "metadata": {},
   "outputs": [],
   "source": [
    "import statsmodels.api as stats\n",
    "from statsmodels.api import OLS\n",
    "from statsmodels.stats.outliers_influence import variance_inflation_factor\n",
    "from statsmodels.stats.stattools import durbin_watson\n",
    "from scipy.stats import shapiro, kstest, norm,f_oneway\n",
    "from scipy import stats\n",
    "\n",
    "from sklearn.ensemble import RandomForestRegressor\n",
    "from sklearn.inspection import permutation_importance"
   ]
  },
  {
   "attachments": {},
   "cell_type": "markdown",
   "id": "969888c6",
   "metadata": {},
   "source": [
    "### Alertas"
   ]
  },
  {
   "cell_type": "code",
   "execution_count": 35,
   "id": "07d02e15",
   "metadata": {},
   "outputs": [],
   "source": [
    "import warnings\n",
    "warnings.filterwarnings('ignore')"
   ]
  },
  {
   "attachments": {},
   "cell_type": "markdown",
   "id": "44e755a9",
   "metadata": {},
   "source": [
    "### Definición de Número de Decimales"
   ]
  },
  {
   "cell_type": "code",
   "execution_count": 36,
   "id": "7e01d542",
   "metadata": {},
   "outputs": [],
   "source": [
    "pd.options.display.float_format = '{:.2f}'.format "
   ]
  },
  {
   "attachments": {},
   "cell_type": "markdown",
   "id": "5444c31f",
   "metadata": {},
   "source": [
    "# 3. Entendimiento de los Datos"
   ]
  },
  {
   "attachments": {},
   "cell_type": "markdown",
   "id": "b678b438",
   "metadata": {},
   "source": [
    "| N° | Nombre Dato | Significado|   \n",
    "|---|---|---|\n",
    "| 1 | Id | Identificador de posición |\n",
    "| 2 | MSSubClass | Identifica el tipo de vivienda objeto de la venta. |\n",
    "| 3 | MSZoning | Identifica la clasificación de zonificación general de la venta. |\n",
    "|   |    |                a.|\n",
    "|   |    |                 b.|\n",
    "| 4 | LotFrontage |  | \n",
    "| 5 | LotArea |  | \n",
    "| 6 | Street |  | \n",
    "| 7 | Alley |  | \n",
    "| 8 | LotShape |  | \n",
    "| 9 | LandContour |  | \n",
    "| 10 | Utilities |  | \n",
    "| 11 | LotConfig |  | \n",
    "| 12 | LandSlope |  | \n",
    "| 13 | Neighborhood |  | \n",
    "| 14 | Condition1 |  | \n",
    "| 15 | Contition2 |  | \n",
    "| 16 | BldgType |  | \n",
    "| 17 | HouseStyle |  | \n",
    "| 18 | OverallQual |  | \n",
    "| 19 | OveralCond |  |\n",
    "| 20 | YearBuilt |  | \n",
    "| 21 | YearRemodAdd |  | \n",
    "| 22 | RoofStyle |  | \n",
    "| 23 | RoofMatl |  | \n",
    "| 24 | Exterior1st |  | \n",
    "| 25 | Exterior2nd |  | \n",
    "| 26 | MasVnrType |  | \n",
    "| 27 | MasVnrArea |  | \n",
    "| 28 | ExterQual |  | \n",
    "| 29 | ExterCond |  | \n",
    "| 30 | Foundation |  | \n",
    "| 31 | BsmtQual |  | \n",
    "| 32 | BsmtCond |  | \n",
    "| 33 | BsmtExposure |  | \n",
    "| 34 | BsmtFinType1 |  | \n",
    "| 35 | BsmtFinSF1 |  | \n",
    "| 36 | BsmtFinType2 |  | \n",
    "| 37 | BsmtFinSF2 |  | \n",
    "| 38 | BsmtUnfSF |  | \n",
    "| 39 | TotalBsmtSF |  | \n",
    "| 40 | Heating |  | \n",
    "| 41 | HeatingQC |  | \n",
    "| 42 | CentralAir |  | \n",
    "| 43 | Electrical |  | \n",
    "| 44 | 1stFlrSF |  | \n",
    "| 45 | 2ndFlrSF |  | \n",
    "| 46 | LowQualFinSF |  | \n",
    "| 47 | GrLivArea |  | \n",
    "| 48 | BsmtFullBath |  | \n",
    "| 49 | BsmtHalfBath |  | \n",
    "| 50 | FullBath |  | \n",
    "| 51 | HalfBath |  | \n",
    "| 52 | BedroomAbvGr |  | \n",
    "| 53 | KitchenAbvGr |  | \n",
    "| 54 | KitchenQual |  | \n",
    "| 55 | TotRmsAbvGrd |  | \n",
    "| 56 | Functional |  | \n",
    "| 57 | Fireplaces |  | \n",
    "| 58 | FireplaceQu |  | \n",
    "| 59 | GarageType |  | \n",
    "| 60 | GarageYrBlt |  | \n",
    "| 61 | GarageFinish |  | \n",
    "| 62 | GarageCars |  | \n",
    "| 63 | GarageArea |  | \n",
    "| 64 | GarageQual |  | \n",
    "| 65 | GarageCond |  | \n",
    "| 66 | PavedDrive |  | \n",
    "| 67 | WoodDeckSF |  | \n",
    "| 68 | OpenPorchSF |  | \n",
    "| 69 | EnclosedPorch |  | \n",
    "| 70 | 3SsnPorch |  | \n",
    "| 71 | ScreenPorch |  | \n",
    "| 72 | PoolArea |  | \n",
    "| 73 | PoolQC |  | \n",
    "| 74 | Fence |  | \n",
    "| 75 | MiscFeature |  | \n",
    "| 76 | MiscVal |  | \n",
    "| 77 | MoSold |  | \n",
    "| 78 | YrSold |  | \n",
    "| 79 | SaleType |  | \n",
    "| 80 | SaleCondition |  | \n",
    "| 81 | SalePrice |  | \n"
   ]
  },
  {
   "cell_type": "markdown",
   "id": "13624eb6",
   "metadata": {},
   "source": [
    "#### Outliers GrLivArea"
   ]
  },
  {
   "attachments": {},
   "cell_type": "markdown",
   "id": "f3a19e0f",
   "metadata": {},
   "source": [
    "# 4. Manipulación y Limpieza de datos"
   ]
  },
  {
   "attachments": {},
   "cell_type": "markdown",
   "id": "4cbae5a4",
   "metadata": {},
   "source": [
    "### Cargado y Visualización de Datos "
   ]
  },
  {
   "cell_type": "code",
   "execution_count": 7,
   "id": "2e7ae7b9",
   "metadata": {},
   "outputs": [
    {
     "name": "stdout",
     "output_type": "stream",
     "text": [
      "<class 'pandas.core.frame.DataFrame'>\n",
      "RangeIndex: 1460 entries, 0 to 1459\n",
      "Data columns (total 81 columns):\n",
      " #   Column         Non-Null Count  Dtype  \n",
      "---  ------         --------------  -----  \n",
      " 0   Id             1460 non-null   int64  \n",
      " 1   MSSubClass     1460 non-null   int64  \n",
      " 2   MSZoning       1460 non-null   object \n",
      " 3   LotFrontage    1201 non-null   float64\n",
      " 4   LotArea        1460 non-null   int64  \n",
      " 5   Street         1460 non-null   object \n",
      " 6   Alley          91 non-null     object \n",
      " 7   LotShape       1460 non-null   object \n",
      " 8   LandContour    1460 non-null   object \n",
      " 9   Utilities      1460 non-null   object \n",
      " 10  LotConfig      1460 non-null   object \n",
      " 11  LandSlope      1460 non-null   object \n",
      " 12  Neighborhood   1460 non-null   object \n",
      " 13  Condition1     1460 non-null   object \n",
      " 14  Condition2     1460 non-null   object \n",
      " 15  BldgType       1460 non-null   object \n",
      " 16  HouseStyle     1460 non-null   object \n",
      " 17  OverallQual    1460 non-null   int64  \n",
      " 18  OverallCond    1460 non-null   int64  \n",
      " 19  YearBuilt      1460 non-null   int64  \n",
      " 20  YearRemodAdd   1460 non-null   int64  \n",
      " 21  RoofStyle      1460 non-null   object \n",
      " 22  RoofMatl       1460 non-null   object \n",
      " 23  Exterior1st    1460 non-null   object \n",
      " 24  Exterior2nd    1460 non-null   object \n",
      " 25  MasVnrType     1452 non-null   object \n",
      " 26  MasVnrArea     1452 non-null   float64\n",
      " 27  ExterQual      1460 non-null   object \n",
      " 28  ExterCond      1460 non-null   object \n",
      " 29  Foundation     1460 non-null   object \n",
      " 30  BsmtQual       1423 non-null   object \n",
      " 31  BsmtCond       1423 non-null   object \n",
      " 32  BsmtExposure   1422 non-null   object \n",
      " 33  BsmtFinType1   1423 non-null   object \n",
      " 34  BsmtFinSF1     1460 non-null   int64  \n",
      " 35  BsmtFinType2   1422 non-null   object \n",
      " 36  BsmtFinSF2     1460 non-null   int64  \n",
      " 37  BsmtUnfSF      1460 non-null   int64  \n",
      " 38  TotalBsmtSF    1460 non-null   int64  \n",
      " 39  Heating        1460 non-null   object \n",
      " 40  HeatingQC      1460 non-null   object \n",
      " 41  CentralAir     1460 non-null   object \n",
      " 42  Electrical     1459 non-null   object \n",
      " 43  1stFlrSF       1460 non-null   int64  \n",
      " 44  2ndFlrSF       1460 non-null   int64  \n",
      " 45  LowQualFinSF   1460 non-null   int64  \n",
      " 46  GrLivArea      1460 non-null   int64  \n",
      " 47  BsmtFullBath   1460 non-null   int64  \n",
      " 48  BsmtHalfBath   1460 non-null   int64  \n",
      " 49  FullBath       1460 non-null   int64  \n",
      " 50  HalfBath       1460 non-null   int64  \n",
      " 51  BedroomAbvGr   1460 non-null   int64  \n",
      " 52  KitchenAbvGr   1460 non-null   int64  \n",
      " 53  KitchenQual    1460 non-null   object \n",
      " 54  TotRmsAbvGrd   1460 non-null   int64  \n",
      " 55  Functional     1460 non-null   object \n",
      " 56  Fireplaces     1460 non-null   int64  \n",
      " 57  FireplaceQu    770 non-null    object \n",
      " 58  GarageType     1379 non-null   object \n",
      " 59  GarageYrBlt    1379 non-null   float64\n",
      " 60  GarageFinish   1379 non-null   object \n",
      " 61  GarageCars     1460 non-null   int64  \n",
      " 62  GarageArea     1460 non-null   int64  \n",
      " 63  GarageQual     1379 non-null   object \n",
      " 64  GarageCond     1379 non-null   object \n",
      " 65  PavedDrive     1460 non-null   object \n",
      " 66  WoodDeckSF     1460 non-null   int64  \n",
      " 67  OpenPorchSF    1460 non-null   int64  \n",
      " 68  EnclosedPorch  1460 non-null   int64  \n",
      " 69  3SsnPorch      1460 non-null   int64  \n",
      " 70  ScreenPorch    1460 non-null   int64  \n",
      " 71  PoolArea       1460 non-null   int64  \n",
      " 72  PoolQC         7 non-null      object \n",
      " 73  Fence          281 non-null    object \n",
      " 74  MiscFeature    54 non-null     object \n",
      " 75  MiscVal        1460 non-null   int64  \n",
      " 76  MoSold         1460 non-null   int64  \n",
      " 77  YrSold         1460 non-null   int64  \n",
      " 78  SaleType       1460 non-null   object \n",
      " 79  SaleCondition  1460 non-null   object \n",
      " 80  SalePrice      1460 non-null   int64  \n",
      "dtypes: float64(3), int64(35), object(43)\n",
      "memory usage: 924.0+ KB\n"
     ]
    }
   ],
   "source": [
    "data=pd.read_csv(\"_data/dataset.csv\")\n",
    "data.info()"
   ]
  },
  {
   "cell_type": "code",
   "execution_count": 8,
   "id": "fed5c9a1",
   "metadata": {},
   "outputs": [
    {
     "data": {
      "text/html": [
       "<div>\n",
       "<style scoped>\n",
       "    .dataframe tbody tr th:only-of-type {\n",
       "        vertical-align: middle;\n",
       "    }\n",
       "\n",
       "    .dataframe tbody tr th {\n",
       "        vertical-align: top;\n",
       "    }\n",
       "\n",
       "    .dataframe thead th {\n",
       "        text-align: right;\n",
       "    }\n",
       "</style>\n",
       "<table border=\"1\" class=\"dataframe\">\n",
       "  <thead>\n",
       "    <tr style=\"text-align: right;\">\n",
       "      <th></th>\n",
       "      <th>Id</th>\n",
       "      <th>MSSubClass</th>\n",
       "      <th>MSZoning</th>\n",
       "      <th>LotFrontage</th>\n",
       "      <th>LotArea</th>\n",
       "      <th>Street</th>\n",
       "      <th>Alley</th>\n",
       "      <th>LotShape</th>\n",
       "      <th>LandContour</th>\n",
       "      <th>Utilities</th>\n",
       "      <th>...</th>\n",
       "      <th>PoolArea</th>\n",
       "      <th>PoolQC</th>\n",
       "      <th>Fence</th>\n",
       "      <th>MiscFeature</th>\n",
       "      <th>MiscVal</th>\n",
       "      <th>MoSold</th>\n",
       "      <th>YrSold</th>\n",
       "      <th>SaleType</th>\n",
       "      <th>SaleCondition</th>\n",
       "      <th>SalePrice</th>\n",
       "    </tr>\n",
       "  </thead>\n",
       "  <tbody>\n",
       "    <tr>\n",
       "      <th>0</th>\n",
       "      <td>1</td>\n",
       "      <td>60</td>\n",
       "      <td>RL</td>\n",
       "      <td>65.00</td>\n",
       "      <td>8450</td>\n",
       "      <td>Pave</td>\n",
       "      <td>NaN</td>\n",
       "      <td>Reg</td>\n",
       "      <td>Lvl</td>\n",
       "      <td>AllPub</td>\n",
       "      <td>...</td>\n",
       "      <td>0</td>\n",
       "      <td>NaN</td>\n",
       "      <td>NaN</td>\n",
       "      <td>NaN</td>\n",
       "      <td>0</td>\n",
       "      <td>2</td>\n",
       "      <td>2008</td>\n",
       "      <td>WD</td>\n",
       "      <td>Normal</td>\n",
       "      <td>208500</td>\n",
       "    </tr>\n",
       "    <tr>\n",
       "      <th>1</th>\n",
       "      <td>2</td>\n",
       "      <td>20</td>\n",
       "      <td>RL</td>\n",
       "      <td>80.00</td>\n",
       "      <td>9600</td>\n",
       "      <td>Pave</td>\n",
       "      <td>NaN</td>\n",
       "      <td>Reg</td>\n",
       "      <td>Lvl</td>\n",
       "      <td>AllPub</td>\n",
       "      <td>...</td>\n",
       "      <td>0</td>\n",
       "      <td>NaN</td>\n",
       "      <td>NaN</td>\n",
       "      <td>NaN</td>\n",
       "      <td>0</td>\n",
       "      <td>5</td>\n",
       "      <td>2007</td>\n",
       "      <td>WD</td>\n",
       "      <td>Normal</td>\n",
       "      <td>181500</td>\n",
       "    </tr>\n",
       "    <tr>\n",
       "      <th>2</th>\n",
       "      <td>3</td>\n",
       "      <td>60</td>\n",
       "      <td>RL</td>\n",
       "      <td>68.00</td>\n",
       "      <td>11250</td>\n",
       "      <td>Pave</td>\n",
       "      <td>NaN</td>\n",
       "      <td>IR1</td>\n",
       "      <td>Lvl</td>\n",
       "      <td>AllPub</td>\n",
       "      <td>...</td>\n",
       "      <td>0</td>\n",
       "      <td>NaN</td>\n",
       "      <td>NaN</td>\n",
       "      <td>NaN</td>\n",
       "      <td>0</td>\n",
       "      <td>9</td>\n",
       "      <td>2008</td>\n",
       "      <td>WD</td>\n",
       "      <td>Normal</td>\n",
       "      <td>223500</td>\n",
       "    </tr>\n",
       "    <tr>\n",
       "      <th>3</th>\n",
       "      <td>4</td>\n",
       "      <td>70</td>\n",
       "      <td>RL</td>\n",
       "      <td>60.00</td>\n",
       "      <td>9550</td>\n",
       "      <td>Pave</td>\n",
       "      <td>NaN</td>\n",
       "      <td>IR1</td>\n",
       "      <td>Lvl</td>\n",
       "      <td>AllPub</td>\n",
       "      <td>...</td>\n",
       "      <td>0</td>\n",
       "      <td>NaN</td>\n",
       "      <td>NaN</td>\n",
       "      <td>NaN</td>\n",
       "      <td>0</td>\n",
       "      <td>2</td>\n",
       "      <td>2006</td>\n",
       "      <td>WD</td>\n",
       "      <td>Abnorml</td>\n",
       "      <td>140000</td>\n",
       "    </tr>\n",
       "    <tr>\n",
       "      <th>4</th>\n",
       "      <td>5</td>\n",
       "      <td>60</td>\n",
       "      <td>RL</td>\n",
       "      <td>84.00</td>\n",
       "      <td>14260</td>\n",
       "      <td>Pave</td>\n",
       "      <td>NaN</td>\n",
       "      <td>IR1</td>\n",
       "      <td>Lvl</td>\n",
       "      <td>AllPub</td>\n",
       "      <td>...</td>\n",
       "      <td>0</td>\n",
       "      <td>NaN</td>\n",
       "      <td>NaN</td>\n",
       "      <td>NaN</td>\n",
       "      <td>0</td>\n",
       "      <td>12</td>\n",
       "      <td>2008</td>\n",
       "      <td>WD</td>\n",
       "      <td>Normal</td>\n",
       "      <td>250000</td>\n",
       "    </tr>\n",
       "  </tbody>\n",
       "</table>\n",
       "<p>5 rows × 81 columns</p>\n",
       "</div>"
      ],
      "text/plain": [
       "   Id  MSSubClass MSZoning  LotFrontage  LotArea Street Alley LotShape  \\\n",
       "0   1          60       RL        65.00     8450   Pave   NaN      Reg   \n",
       "1   2          20       RL        80.00     9600   Pave   NaN      Reg   \n",
       "2   3          60       RL        68.00    11250   Pave   NaN      IR1   \n",
       "3   4          70       RL        60.00     9550   Pave   NaN      IR1   \n",
       "4   5          60       RL        84.00    14260   Pave   NaN      IR1   \n",
       "\n",
       "  LandContour Utilities  ... PoolArea PoolQC Fence MiscFeature MiscVal MoSold  \\\n",
       "0         Lvl    AllPub  ...        0    NaN   NaN         NaN       0      2   \n",
       "1         Lvl    AllPub  ...        0    NaN   NaN         NaN       0      5   \n",
       "2         Lvl    AllPub  ...        0    NaN   NaN         NaN       0      9   \n",
       "3         Lvl    AllPub  ...        0    NaN   NaN         NaN       0      2   \n",
       "4         Lvl    AllPub  ...        0    NaN   NaN         NaN       0     12   \n",
       "\n",
       "  YrSold  SaleType  SaleCondition  SalePrice  \n",
       "0   2008        WD         Normal     208500  \n",
       "1   2007        WD         Normal     181500  \n",
       "2   2008        WD         Normal     223500  \n",
       "3   2006        WD        Abnorml     140000  \n",
       "4   2008        WD         Normal     250000  \n",
       "\n",
       "[5 rows x 81 columns]"
      ]
     },
     "execution_count": 8,
     "metadata": {},
     "output_type": "execute_result"
    }
   ],
   "source": [
    "data.head()"
   ]
  },
  {
   "cell_type": "code",
   "execution_count": 9,
   "id": "a4bb5030",
   "metadata": {},
   "outputs": [
    {
     "data": {
      "text/plain": [
       "Index(['Id', 'MSSubClass', 'MSZoning', 'LotFrontage', 'LotArea', 'Street',\n",
       "       'Alley', 'LotShape', 'LandContour', 'Utilities', 'LotConfig',\n",
       "       'LandSlope', 'Neighborhood', 'Condition1', 'Condition2', 'BldgType',\n",
       "       'HouseStyle', 'OverallQual', 'OverallCond', 'YearBuilt', 'YearRemodAdd',\n",
       "       'RoofStyle', 'RoofMatl', 'Exterior1st', 'Exterior2nd', 'MasVnrType',\n",
       "       'MasVnrArea', 'ExterQual', 'ExterCond', 'Foundation', 'BsmtQual',\n",
       "       'BsmtCond', 'BsmtExposure', 'BsmtFinType1', 'BsmtFinSF1',\n",
       "       'BsmtFinType2', 'BsmtFinSF2', 'BsmtUnfSF', 'TotalBsmtSF', 'Heating',\n",
       "       'HeatingQC', 'CentralAir', 'Electrical', '1stFlrSF', '2ndFlrSF',\n",
       "       'LowQualFinSF', 'GrLivArea', 'BsmtFullBath', 'BsmtHalfBath', 'FullBath',\n",
       "       'HalfBath', 'BedroomAbvGr', 'KitchenAbvGr', 'KitchenQual',\n",
       "       'TotRmsAbvGrd', 'Functional', 'Fireplaces', 'FireplaceQu', 'GarageType',\n",
       "       'GarageYrBlt', 'GarageFinish', 'GarageCars', 'GarageArea', 'GarageQual',\n",
       "       'GarageCond', 'PavedDrive', 'WoodDeckSF', 'OpenPorchSF',\n",
       "       'EnclosedPorch', '3SsnPorch', 'ScreenPorch', 'PoolArea', 'PoolQC',\n",
       "       'Fence', 'MiscFeature', 'MiscVal', 'MoSold', 'YrSold', 'SaleType',\n",
       "       'SaleCondition', 'SalePrice'],\n",
       "      dtype='object')"
      ]
     },
     "execution_count": 9,
     "metadata": {},
     "output_type": "execute_result"
    }
   ],
   "source": [
    "data.columns"
   ]
  },
  {
   "cell_type": "code",
   "execution_count": 10,
   "id": "8934943f",
   "metadata": {},
   "outputs": [
    {
     "data": {
      "text/html": [
       "<div>\n",
       "<style scoped>\n",
       "    .dataframe tbody tr th:only-of-type {\n",
       "        vertical-align: middle;\n",
       "    }\n",
       "\n",
       "    .dataframe tbody tr th {\n",
       "        vertical-align: top;\n",
       "    }\n",
       "\n",
       "    .dataframe thead th {\n",
       "        text-align: right;\n",
       "    }\n",
       "</style>\n",
       "<table border=\"1\" class=\"dataframe\">\n",
       "  <thead>\n",
       "    <tr style=\"text-align: right;\">\n",
       "      <th></th>\n",
       "      <th>Id</th>\n",
       "      <th>MSSubClass</th>\n",
       "      <th>LotFrontage</th>\n",
       "      <th>LotArea</th>\n",
       "      <th>OverallQual</th>\n",
       "      <th>OverallCond</th>\n",
       "      <th>YearBuilt</th>\n",
       "      <th>YearRemodAdd</th>\n",
       "      <th>MasVnrArea</th>\n",
       "      <th>BsmtFinSF1</th>\n",
       "      <th>...</th>\n",
       "      <th>WoodDeckSF</th>\n",
       "      <th>OpenPorchSF</th>\n",
       "      <th>EnclosedPorch</th>\n",
       "      <th>3SsnPorch</th>\n",
       "      <th>ScreenPorch</th>\n",
       "      <th>PoolArea</th>\n",
       "      <th>MiscVal</th>\n",
       "      <th>MoSold</th>\n",
       "      <th>YrSold</th>\n",
       "      <th>SalePrice</th>\n",
       "    </tr>\n",
       "  </thead>\n",
       "  <tbody>\n",
       "    <tr>\n",
       "      <th>count</th>\n",
       "      <td>1460.00</td>\n",
       "      <td>1460.00</td>\n",
       "      <td>1201.00</td>\n",
       "      <td>1460.00</td>\n",
       "      <td>1460.00</td>\n",
       "      <td>1460.00</td>\n",
       "      <td>1460.00</td>\n",
       "      <td>1460.00</td>\n",
       "      <td>1452.00</td>\n",
       "      <td>1460.00</td>\n",
       "      <td>...</td>\n",
       "      <td>1460.00</td>\n",
       "      <td>1460.00</td>\n",
       "      <td>1460.00</td>\n",
       "      <td>1460.00</td>\n",
       "      <td>1460.00</td>\n",
       "      <td>1460.00</td>\n",
       "      <td>1460.00</td>\n",
       "      <td>1460.00</td>\n",
       "      <td>1460.00</td>\n",
       "      <td>1460.00</td>\n",
       "    </tr>\n",
       "    <tr>\n",
       "      <th>mean</th>\n",
       "      <td>730.50</td>\n",
       "      <td>56.90</td>\n",
       "      <td>70.05</td>\n",
       "      <td>10516.83</td>\n",
       "      <td>6.10</td>\n",
       "      <td>5.58</td>\n",
       "      <td>1971.27</td>\n",
       "      <td>1984.87</td>\n",
       "      <td>103.69</td>\n",
       "      <td>443.64</td>\n",
       "      <td>...</td>\n",
       "      <td>94.24</td>\n",
       "      <td>46.66</td>\n",
       "      <td>21.95</td>\n",
       "      <td>3.41</td>\n",
       "      <td>15.06</td>\n",
       "      <td>2.76</td>\n",
       "      <td>43.49</td>\n",
       "      <td>6.32</td>\n",
       "      <td>2007.82</td>\n",
       "      <td>180921.20</td>\n",
       "    </tr>\n",
       "    <tr>\n",
       "      <th>std</th>\n",
       "      <td>421.61</td>\n",
       "      <td>42.30</td>\n",
       "      <td>24.28</td>\n",
       "      <td>9981.26</td>\n",
       "      <td>1.38</td>\n",
       "      <td>1.11</td>\n",
       "      <td>30.20</td>\n",
       "      <td>20.65</td>\n",
       "      <td>181.07</td>\n",
       "      <td>456.10</td>\n",
       "      <td>...</td>\n",
       "      <td>125.34</td>\n",
       "      <td>66.26</td>\n",
       "      <td>61.12</td>\n",
       "      <td>29.32</td>\n",
       "      <td>55.76</td>\n",
       "      <td>40.18</td>\n",
       "      <td>496.12</td>\n",
       "      <td>2.70</td>\n",
       "      <td>1.33</td>\n",
       "      <td>79442.50</td>\n",
       "    </tr>\n",
       "    <tr>\n",
       "      <th>min</th>\n",
       "      <td>1.00</td>\n",
       "      <td>20.00</td>\n",
       "      <td>21.00</td>\n",
       "      <td>1300.00</td>\n",
       "      <td>1.00</td>\n",
       "      <td>1.00</td>\n",
       "      <td>1872.00</td>\n",
       "      <td>1950.00</td>\n",
       "      <td>0.00</td>\n",
       "      <td>0.00</td>\n",
       "      <td>...</td>\n",
       "      <td>0.00</td>\n",
       "      <td>0.00</td>\n",
       "      <td>0.00</td>\n",
       "      <td>0.00</td>\n",
       "      <td>0.00</td>\n",
       "      <td>0.00</td>\n",
       "      <td>0.00</td>\n",
       "      <td>1.00</td>\n",
       "      <td>2006.00</td>\n",
       "      <td>34900.00</td>\n",
       "    </tr>\n",
       "    <tr>\n",
       "      <th>25%</th>\n",
       "      <td>365.75</td>\n",
       "      <td>20.00</td>\n",
       "      <td>59.00</td>\n",
       "      <td>7553.50</td>\n",
       "      <td>5.00</td>\n",
       "      <td>5.00</td>\n",
       "      <td>1954.00</td>\n",
       "      <td>1967.00</td>\n",
       "      <td>0.00</td>\n",
       "      <td>0.00</td>\n",
       "      <td>...</td>\n",
       "      <td>0.00</td>\n",
       "      <td>0.00</td>\n",
       "      <td>0.00</td>\n",
       "      <td>0.00</td>\n",
       "      <td>0.00</td>\n",
       "      <td>0.00</td>\n",
       "      <td>0.00</td>\n",
       "      <td>5.00</td>\n",
       "      <td>2007.00</td>\n",
       "      <td>129975.00</td>\n",
       "    </tr>\n",
       "    <tr>\n",
       "      <th>50%</th>\n",
       "      <td>730.50</td>\n",
       "      <td>50.00</td>\n",
       "      <td>69.00</td>\n",
       "      <td>9478.50</td>\n",
       "      <td>6.00</td>\n",
       "      <td>5.00</td>\n",
       "      <td>1973.00</td>\n",
       "      <td>1994.00</td>\n",
       "      <td>0.00</td>\n",
       "      <td>383.50</td>\n",
       "      <td>...</td>\n",
       "      <td>0.00</td>\n",
       "      <td>25.00</td>\n",
       "      <td>0.00</td>\n",
       "      <td>0.00</td>\n",
       "      <td>0.00</td>\n",
       "      <td>0.00</td>\n",
       "      <td>0.00</td>\n",
       "      <td>6.00</td>\n",
       "      <td>2008.00</td>\n",
       "      <td>163000.00</td>\n",
       "    </tr>\n",
       "    <tr>\n",
       "      <th>75%</th>\n",
       "      <td>1095.25</td>\n",
       "      <td>70.00</td>\n",
       "      <td>80.00</td>\n",
       "      <td>11601.50</td>\n",
       "      <td>7.00</td>\n",
       "      <td>6.00</td>\n",
       "      <td>2000.00</td>\n",
       "      <td>2004.00</td>\n",
       "      <td>166.00</td>\n",
       "      <td>712.25</td>\n",
       "      <td>...</td>\n",
       "      <td>168.00</td>\n",
       "      <td>68.00</td>\n",
       "      <td>0.00</td>\n",
       "      <td>0.00</td>\n",
       "      <td>0.00</td>\n",
       "      <td>0.00</td>\n",
       "      <td>0.00</td>\n",
       "      <td>8.00</td>\n",
       "      <td>2009.00</td>\n",
       "      <td>214000.00</td>\n",
       "    </tr>\n",
       "    <tr>\n",
       "      <th>max</th>\n",
       "      <td>1460.00</td>\n",
       "      <td>190.00</td>\n",
       "      <td>313.00</td>\n",
       "      <td>215245.00</td>\n",
       "      <td>10.00</td>\n",
       "      <td>9.00</td>\n",
       "      <td>2010.00</td>\n",
       "      <td>2010.00</td>\n",
       "      <td>1600.00</td>\n",
       "      <td>5644.00</td>\n",
       "      <td>...</td>\n",
       "      <td>857.00</td>\n",
       "      <td>547.00</td>\n",
       "      <td>552.00</td>\n",
       "      <td>508.00</td>\n",
       "      <td>480.00</td>\n",
       "      <td>738.00</td>\n",
       "      <td>15500.00</td>\n",
       "      <td>12.00</td>\n",
       "      <td>2010.00</td>\n",
       "      <td>755000.00</td>\n",
       "    </tr>\n",
       "  </tbody>\n",
       "</table>\n",
       "<p>8 rows × 38 columns</p>\n",
       "</div>"
      ],
      "text/plain": [
       "           Id  MSSubClass  LotFrontage   LotArea  OverallQual  OverallCond  \\\n",
       "count 1460.00     1460.00      1201.00   1460.00      1460.00      1460.00   \n",
       "mean   730.50       56.90        70.05  10516.83         6.10         5.58   \n",
       "std    421.61       42.30        24.28   9981.26         1.38         1.11   \n",
       "min      1.00       20.00        21.00   1300.00         1.00         1.00   \n",
       "25%    365.75       20.00        59.00   7553.50         5.00         5.00   \n",
       "50%    730.50       50.00        69.00   9478.50         6.00         5.00   \n",
       "75%   1095.25       70.00        80.00  11601.50         7.00         6.00   \n",
       "max   1460.00      190.00       313.00 215245.00        10.00         9.00   \n",
       "\n",
       "       YearBuilt  YearRemodAdd  MasVnrArea  BsmtFinSF1  ...  WoodDeckSF  \\\n",
       "count    1460.00       1460.00     1452.00     1460.00  ...     1460.00   \n",
       "mean     1971.27       1984.87      103.69      443.64  ...       94.24   \n",
       "std        30.20         20.65      181.07      456.10  ...      125.34   \n",
       "min      1872.00       1950.00        0.00        0.00  ...        0.00   \n",
       "25%      1954.00       1967.00        0.00        0.00  ...        0.00   \n",
       "50%      1973.00       1994.00        0.00      383.50  ...        0.00   \n",
       "75%      2000.00       2004.00      166.00      712.25  ...      168.00   \n",
       "max      2010.00       2010.00     1600.00     5644.00  ...      857.00   \n",
       "\n",
       "       OpenPorchSF  EnclosedPorch  3SsnPorch  ScreenPorch  PoolArea  MiscVal  \\\n",
       "count      1460.00        1460.00    1460.00      1460.00   1460.00  1460.00   \n",
       "mean         46.66          21.95       3.41        15.06      2.76    43.49   \n",
       "std          66.26          61.12      29.32        55.76     40.18   496.12   \n",
       "min           0.00           0.00       0.00         0.00      0.00     0.00   \n",
       "25%           0.00           0.00       0.00         0.00      0.00     0.00   \n",
       "50%          25.00           0.00       0.00         0.00      0.00     0.00   \n",
       "75%          68.00           0.00       0.00         0.00      0.00     0.00   \n",
       "max         547.00         552.00     508.00       480.00    738.00 15500.00   \n",
       "\n",
       "       MoSold  YrSold  SalePrice  \n",
       "count 1460.00 1460.00    1460.00  \n",
       "mean     6.32 2007.82  180921.20  \n",
       "std      2.70    1.33   79442.50  \n",
       "min      1.00 2006.00   34900.00  \n",
       "25%      5.00 2007.00  129975.00  \n",
       "50%      6.00 2008.00  163000.00  \n",
       "75%      8.00 2009.00  214000.00  \n",
       "max     12.00 2010.00  755000.00  \n",
       "\n",
       "[8 rows x 38 columns]"
      ]
     },
     "execution_count": 10,
     "metadata": {},
     "output_type": "execute_result"
    }
   ],
   "source": [
    "data.describe()"
   ]
  },
  {
   "attachments": {},
   "cell_type": "markdown",
   "id": "e6115d43",
   "metadata": {},
   "source": [
    "### Evaluación Inicial"
   ]
  },
  {
   "attachments": {},
   "cell_type": "markdown",
   "id": "d0275ec4",
   "metadata": {},
   "source": [
    "#### Campos Categóricos"
   ]
  },
  {
   "cell_type": "code",
   "execution_count": 12,
   "id": "147a8018",
   "metadata": {},
   "outputs": [
    {
     "name": "stdout",
     "output_type": "stream",
     "text": [
      "<class 'pandas.core.frame.DataFrame'>\n",
      "RangeIndex: 1460 entries, 0 to 1459\n",
      "Data columns (total 81 columns):\n",
      " #   Column         Non-Null Count  Dtype  \n",
      "---  ------         --------------  -----  \n",
      " 0   Id             1460 non-null   int64  \n",
      " 1   MSSubClass     1460 non-null   object \n",
      " 2   MSZoning       1460 non-null   object \n",
      " 3   LotFrontage    1201 non-null   float64\n",
      " 4   LotArea        1460 non-null   int64  \n",
      " 5   Street         1460 non-null   object \n",
      " 6   Alley          91 non-null     object \n",
      " 7   LotShape       1460 non-null   object \n",
      " 8   LandContour    1460 non-null   object \n",
      " 9   Utilities      1460 non-null   object \n",
      " 10  LotConfig      1460 non-null   object \n",
      " 11  LandSlope      1460 non-null   object \n",
      " 12  Neighborhood   1460 non-null   object \n",
      " 13  Condition1     1460 non-null   object \n",
      " 14  Condition2     1460 non-null   object \n",
      " 15  BldgType       1460 non-null   object \n",
      " 16  HouseStyle     1460 non-null   object \n",
      " 17  OverallQual    1460 non-null   int64  \n",
      " 18  OverallCond    1460 non-null   int64  \n",
      " 19  YearBuilt      1460 non-null   int64  \n",
      " 20  YearRemodAdd   1460 non-null   int64  \n",
      " 21  RoofStyle      1460 non-null   object \n",
      " 22  RoofMatl       1460 non-null   object \n",
      " 23  Exterior1st    1460 non-null   object \n",
      " 24  Exterior2nd    1460 non-null   object \n",
      " 25  MasVnrType     1452 non-null   object \n",
      " 26  MasVnrArea     1452 non-null   float64\n",
      " 27  ExterQual      1460 non-null   object \n",
      " 28  ExterCond      1460 non-null   object \n",
      " 29  Foundation     1460 non-null   object \n",
      " 30  BsmtQual       1423 non-null   object \n",
      " 31  BsmtCond       1423 non-null   object \n",
      " 32  BsmtExposure   1422 non-null   object \n",
      " 33  BsmtFinType1   1423 non-null   object \n",
      " 34  BsmtFinSF1     1460 non-null   int64  \n",
      " 35  BsmtFinType2   1422 non-null   object \n",
      " 36  BsmtFinSF2     1460 non-null   int64  \n",
      " 37  BsmtUnfSF      1460 non-null   int64  \n",
      " 38  TotalBsmtSF    1460 non-null   int64  \n",
      " 39  Heating        1460 non-null   object \n",
      " 40  HeatingQC      1460 non-null   object \n",
      " 41  CentralAir     1460 non-null   object \n",
      " 42  Electrical     1459 non-null   object \n",
      " 43  1stFlrSF       1460 non-null   int64  \n",
      " 44  2ndFlrSF       1460 non-null   int64  \n",
      " 45  LowQualFinSF   1460 non-null   int64  \n",
      " 46  GrLivArea      1460 non-null   int64  \n",
      " 47  BsmtFullBath   1460 non-null   int64  \n",
      " 48  BsmtHalfBath   1460 non-null   int64  \n",
      " 49  FullBath       1460 non-null   int64  \n",
      " 50  HalfBath       1460 non-null   int64  \n",
      " 51  BedroomAbvGr   1460 non-null   int64  \n",
      " 52  KitchenAbvGr   1460 non-null   int64  \n",
      " 53  KitchenQual    1460 non-null   object \n",
      " 54  TotRmsAbvGrd   1460 non-null   int64  \n",
      " 55  Functional     1460 non-null   object \n",
      " 56  Fireplaces     1460 non-null   int64  \n",
      " 57  FireplaceQu    770 non-null    object \n",
      " 58  GarageType     1379 non-null   object \n",
      " 59  GarageYrBlt    1379 non-null   float64\n",
      " 60  GarageFinish   1379 non-null   object \n",
      " 61  GarageCars     1460 non-null   int64  \n",
      " 62  GarageArea     1460 non-null   int64  \n",
      " 63  GarageQual     1379 non-null   object \n",
      " 64  GarageCond     1379 non-null   object \n",
      " 65  PavedDrive     1460 non-null   object \n",
      " 66  WoodDeckSF     1460 non-null   int64  \n",
      " 67  OpenPorchSF    1460 non-null   int64  \n",
      " 68  EnclosedPorch  1460 non-null   int64  \n",
      " 69  3SsnPorch      1460 non-null   int64  \n",
      " 70  ScreenPorch    1460 non-null   int64  \n",
      " 71  PoolArea       1460 non-null   int64  \n",
      " 72  PoolQC         7 non-null      object \n",
      " 73  Fence          281 non-null    object \n",
      " 74  MiscFeature    54 non-null     object \n",
      " 75  MiscVal        1460 non-null   int64  \n",
      " 76  MoSold         1460 non-null   int64  \n",
      " 77  YrSold         1460 non-null   int64  \n",
      " 78  SaleType       1460 non-null   object \n",
      " 79  SaleCondition  1460 non-null   object \n",
      " 80  SalePrice      1460 non-null   int64  \n",
      "dtypes: float64(3), int64(34), object(44)\n",
      "memory usage: 924.0+ KB\n"
     ]
    }
   ],
   "source": [
    "num_to_cat=['MSSubClass']#, 'OverallQual', 'OverallCond']#, 'YearBuilt', 'YearRemodAdd','GarageYrBlt', 'MoSold', 'YrSold']\n",
    "data_recat= data.copy()\n",
    "data_recat[num_to_cat] = data_recat[num_to_cat].astype(str)\n",
    "data_recat.info()\n"
   ]
  },
  {
   "attachments": {},
   "cell_type": "markdown",
   "id": "548d84c4",
   "metadata": {},
   "source": [
    "#### Correlación\n"
   ]
  },
  {
   "cell_type": "code",
   "execution_count": 13,
   "id": "83c55ad0",
   "metadata": {},
   "outputs": [
    {
     "data": {
      "text/plain": [
       "<matplotlib.collections.LineCollection at 0x182db2c01f0>"
      ]
     },
     "execution_count": 13,
     "metadata": {},
     "output_type": "execute_result"
    },
    {
     "data": {
      "image/png": "[encoded data removed]",
      "text/plain": [
       "<Figure size 864x648 with 2 Axes>"
      ]
     },
     "metadata": {
      "needs_background": "light"
     },
     "output_type": "display_data"
    }
   ],
   "source": [
    "corrmat = data.corr()\n",
    "f, ax = plt.subplots(figsize=(12, 9))\n",
    "sns.heatmap(corrmat, vmax=.8, square=True)#, annot=True,fmt=\".1f\");\n",
    "#YearBulit y GarageYrBlt\n",
    "ax.hlines([6,7], colors=\"yellow\",*ax.get_xlim())\n",
    "ax.vlines([25,26], colors=\"yellow\",*ax.get_ylim())\n",
    "\n",
    "#TotalRooms\n",
    "ax.hlines([16,17], colors=\"green\",*ax.get_xlim())\n",
    "ax.vlines([23,24], colors=\"green\",*ax.get_ylim())"
   ]
  },
  {
   "attachments": {},
   "cell_type": "markdown",
   "id": "003f007a",
   "metadata": {},
   "source": [
    "#### Correlación entre Variables Categóricas y Numéricas"
   ]
  },
  {
   "cell_type": "code",
   "execution_count": 14,
   "id": "61407a26",
   "metadata": {},
   "outputs": [],
   "source": [
    "def corrNumCat(d,c,n):\n",
    "  encoder=LabelEncoder()\n",
    "  encoder.fit(d[c])\n",
    "  new=c + \"_enc\"\n",
    "  d[new]=encoder.transform(d[c])\n",
    "  corr=d[n].corr(d[new])\n",
    "  #Esto podemos obviar si vamos a necesitar\n",
    "  d.drop([new],axis=1, inplace=True)\n",
    "  print(\"correlación entre \",c ,\" y \",n, \" es: \",corr)\n",
    "def corrCatCat(d,c1,c2):\n",
    "  encoder1=LabelEncoder()\n",
    "  encoder2=LabelEncoder()\n",
    "  encoder1.fit(d[c1])\n",
    "  encoder2.fit(d[c2])\n",
    "  new1=c1 + \"_enc\"\n",
    "  new2=c2 + \"_enc\"\n",
    "  d[new1]=encoder1.transform(d[c1])\n",
    "  d[new2]=encoder2.transform(d[c2])\n",
    "  corr=d[new1].corr(d[new2])\n",
    "  #Esto podemos obviar si vamos a necesitar\n",
    "  d.drop([new1],axis=1, inplace=True)\n",
    "  d.drop([new2],axis=1, inplace=True)\n",
    "  print(\"correlación entre \",c1 ,\" y \",c2, \" es: \",corr)\n",
    "\n",
    "def CorrNumNum(d,n1,n2):\n",
    "  x= d[n1]\n",
    "  y= d[n2]\n",
    "  corr=x.corr(y)\n",
    "  print(\"correlación entre \",n1 ,\" y \",n2, \" es: \",corr)"
   ]
  },
  {
   "cell_type": "code",
   "execution_count": 15,
   "id": "05af57f4",
   "metadata": {},
   "outputs": [
    {
     "name": "stdout",
     "output_type": "stream",
     "text": [
      "correlación entre  PoolQC  y  PoolArea  es:  -0.8842503024390972\n",
      "correlación entre  GarageCond  y  GarageQual  es:  0.5970304958136524\n",
      "correlación entre  GarageCars  y  GarageArea  es:  0.8824754142814629\n",
      "correlación entre  FireplaceQu  y  Fireplaces  es:  -0.7282891760748211\n",
      "correlación entre  GarageCond  y  GarageQual  es:  0.5970304958136524\n"
     ]
    }
   ],
   "source": [
    "corrNumCat(data,\"PoolQC\",\"PoolArea\")\n",
    "corrCatCat(data,\"GarageCond\",\"GarageQual\") # Ver esto\n",
    "corrNumCat(data,\"GarageCars\",\"GarageArea\")\n",
    "corrNumCat(data,\"FireplaceQu\",\"Fireplaces\")\n",
    "corrCatCat(data_recat,\"GarageCond\",\"GarageQual\") # Ver esto"
   ]
  },
  {
   "attachments": {},
   "cell_type": "markdown",
   "id": "326b3a99",
   "metadata": {},
   "source": [
    "#### Datos Faltantes"
   ]
  },
  {
   "cell_type": "code",
   "execution_count": 16,
   "id": "d41a4005",
   "metadata": {},
   "outputs": [
    {
     "name": "stdout",
     "output_type": "stream",
     "text": [
      "                 0\n",
      "PoolQC        1453\n",
      "MiscFeature   1406\n",
      "Alley         1369\n",
      "Fence         1179\n",
      "FireplaceQu    690\n",
      "LotFrontage    259\n",
      "GarageType      81\n",
      "GarageYrBlt     81\n",
      "GarageFinish    81\n",
      "GarageQual      81\n",
      "GarageCond      81\n",
      "BsmtExposure    38\n",
      "BsmtFinType2    38\n",
      "BsmtFinType1    37\n",
      "BsmtCond        37\n",
      "BsmtQual        37\n",
      "MasVnrArea       8\n",
      "MasVnrType       8\n",
      "Electrical       1\n"
     ]
    }
   ],
   "source": [
    "nulos= pd.DataFrame(data.isnull().sum())\n",
    "nulos= nulos[nulos[0]!=0]\n",
    "nulos= nulos.sort_values(ascending=False,by=0)\n",
    "#print(\"nulos\",nulos.isnull().any())\n",
    "print(nulos[nulos[0]!=0])\n",
    "#print(x.to_markdown())\n",
    "#ratio=(nulos/len(data.index)*100)\n",
    "#print(ratio[ratio[0]!=0])"
   ]
  },
  {
   "attachments": {},
   "cell_type": "markdown",
   "id": "58de0a8f",
   "metadata": {},
   "source": [
    "#### Completado de Valores Nulos"
   ]
  },
  {
   "cell_type": "code",
   "execution_count": 17,
   "id": "7b69903e",
   "metadata": {},
   "outputs": [],
   "source": [
    "def datosFaltantes(d,campo,x):\n",
    "  d[campo]=d[campo].fillna(x)"
   ]
  },
  {
   "cell_type": "code",
   "execution_count": 18,
   "id": "19cd9abd",
   "metadata": {},
   "outputs": [],
   "source": [
    "camposMissData=[\"PoolQC\",\"Alley\",\"Fence\",\"FireplaceQu\",\"GarageType\",\"GarageFinish\",\n",
    "                \"GarageQual\",\"GarageCond\",\"BsmtExposure\",\"BsmtFinType2\",\"BsmtCond\",\"BsmtFinType1\",\n",
    "                \"BsmtQual\",\"MasVnrType\",\"MiscFeature\"]\n",
    "\n",
    "for campo in camposMissData:\n",
    "  datosFaltantes(data_recat,campo,\"No\")  \n",
    "\n",
    "# Campos especiales\n",
    "datosFaltantes(data_recat,\"MasVnrArea\",0) \n",
    "datosFaltantes(data_recat,\"GarageYrBlt\",0)  # ver esto\n",
    "datosFaltantes(data_recat,\"Electrical\",\"SBrkr\") "
   ]
  },
  {
   "cell_type": "code",
   "execution_count": 19,
   "id": "8b7c053b",
   "metadata": {},
   "outputs": [],
   "source": [
    "# \"LotFrontage\",\n",
    "dataLot=data_recat[[\"LotFrontage\",\"LotArea\"]].copy()\n",
    "#dataLot#=dataLot.reset_index()\n",
    "imputados = pd.DataFrame(mice(dataLot.values))\n",
    "imputados\n",
    "data_recat[\"LotFrontage\"]= imputados[0]"
   ]
  },
  {
   "cell_type": "code",
   "execution_count": 20,
   "id": "fb499204",
   "metadata": {},
   "outputs": [
    {
     "data": {
      "text/plain": [
       "False"
      ]
     },
     "execution_count": 20,
     "metadata": {},
     "output_type": "execute_result"
    }
   ],
   "source": [
    "data_recat[\"LotFrontage\"].isnull().any()"
   ]
  },
  {
   "attachments": {},
   "cell_type": "markdown",
   "id": "fa685764",
   "metadata": {},
   "source": [
    "#### Verificación de Valores Nulos"
   ]
  },
  {
   "cell_type": "code",
   "execution_count": 21,
   "id": "20d17ac7",
   "metadata": {},
   "outputs": [
    {
     "name": "stdout",
     "output_type": "stream",
     "text": [
      "Empty DataFrame\n",
      "Columns: [0]\n",
      "Index: []\n",
      "Empty DataFrame\n",
      "Columns: [0]\n",
      "Index: []\n"
     ]
    }
   ],
   "source": [
    "nulos= pd.DataFrame(data_recat.isnull().sum())\n",
    "nulos= nulos[nulos[0]!=0]\n",
    "\n",
    "nulos= nulos.sort_values(ascending=False,by=0)\n",
    "#print(nulos.sort_values(ascending=True, by=nulos[1]))\n",
    "print(nulos[nulos[0]!=0])\n",
    "#print(x.to_markdown())\n",
    "ratio=(nulos/len(data_recat.index)*100)\n",
    "print(ratio[ratio[0]!=0])"
   ]
  },
  {
   "cell_type": "code",
   "execution_count": 22,
   "id": "a64e6d8c",
   "metadata": {},
   "outputs": [
    {
     "data": {
      "text/plain": [
       "False"
      ]
     },
     "execution_count": 22,
     "metadata": {},
     "output_type": "execute_result"
    }
   ],
   "source": [
    "data_recat.isnull().sum().any()"
   ]
  },
  {
   "attachments": {},
   "cell_type": "markdown",
   "id": "34811fe0",
   "metadata": {},
   "source": [
    "### Normalidad"
   ]
  },
  {
   "cell_type": "code",
   "execution_count": 23,
   "id": "03f0fa7f",
   "metadata": {},
   "outputs": [
    {
     "data": {
      "text/plain": [
       "<seaborn.axisgrid.FacetGrid at 0x182da82cb20>"
      ]
     },
     "execution_count": 23,
     "metadata": {},
     "output_type": "execute_result"
    },
    {
     "data": {
      "image/png": "[encoded data removed]",
      "text/plain": [
       "<Figure size 360x360 with 1 Axes>"
      ]
     },
     "metadata": {
      "needs_background": "light"
     },
     "output_type": "display_data"
    }
   ],
   "source": [
    "sns.displot(data['SalePrice'])"
   ]
  },
  {
   "cell_type": "code",
   "execution_count": 24,
   "id": "4edfcc0e",
   "metadata": {},
   "outputs": [
    {
     "data": {
      "image/png": "[encoded data removed]",
      "text/plain": [
       "<Figure size 432x288 with 1 Axes>"
      ]
     },
     "metadata": {
      "needs_background": "light"
     },
     "output_type": "display_data"
    }
   ],
   "source": [
    "sns.boxplot(y = data[\"SalePrice\"])\n",
    "plt.show()"
   ]
  },
  {
   "cell_type": "code",
   "execution_count": 25,
   "id": "512c8d67",
   "metadata": {},
   "outputs": [
    {
     "name": "stdout",
     "output_type": "stream",
     "text": [
      "Asimetría: 1.882876\n",
      "Kurtosis: 6.536282\n"
     ]
    },
    {
     "data": {
      "text/plain": [
       "ShapiroResult(statistic=0.869671642780304, pvalue=3.206247534576162e-33)"
      ]
     },
     "execution_count": 25,
     "metadata": {},
     "output_type": "execute_result"
    }
   ],
   "source": [
    "print(\"Asimetría: %f\" % data['SalePrice'].skew())\n",
    "print(\"Kurtosis: %f\" % data['SalePrice'].kurt())\n",
    "shapiro(data['SalePrice'])"
   ]
  },
  {
   "cell_type": "code",
   "execution_count": 26,
   "id": "e87537c5",
   "metadata": {},
   "outputs": [
    {
     "data": {
      "image/png": "[encoded data removed]",
      "text/plain": [
       "<Figure size 432x288 with 1 Axes>"
      ]
     },
     "metadata": {
      "needs_background": "light"
     },
     "output_type": "display_data"
    },
    {
     "data": {
      "image/png": "[encoded data removed]",
      "text/plain": [
       "<Figure size 432x288 with 1 Axes>"
      ]
     },
     "metadata": {
      "needs_background": "light"
     },
     "output_type": "display_data"
    }
   ],
   "source": [
    "sns.distplot(x = np.log(data[\"SalePrice\"]))\n",
    "plt.show()\n",
    "sns.boxplot(y = np.log(data[\"SalePrice\"]))\n",
    "plt.show()"
   ]
  },
  {
   "cell_type": "code",
   "execution_count": 28,
   "id": "71046b05",
   "metadata": {},
   "outputs": [],
   "source": [
    "data['SalePrice'] = np.log(data['SalePrice']) "
   ]
  },
  {
   "cell_type": "code",
   "execution_count": 29,
   "id": "daa24768",
   "metadata": {},
   "outputs": [
    {
     "data": {
      "image/png": "[encoded data removed]",
      "text/plain": [
       "<Figure size 432x288 with 1 Axes>"
      ]
     },
     "metadata": {
      "needs_background": "light"
     },
     "output_type": "display_data"
    },
    {
     "data": {
      "image/png": "[encoded data removed]",
      "text/plain": [
       "<Figure size 432x288 with 1 Axes>"
      ]
     },
     "metadata": {
      "needs_background": "light"
     },
     "output_type": "display_data"
    }
   ],
   "source": [
    "sns.distplot(data['SalePrice'], fit=norm);\n",
    "fig = plt.figure()\n",
    "res = stats.probplot(data['SalePrice'], plot=plt)"
   ]
  },
  {
   "cell_type": "code",
   "execution_count": 30,
   "id": "4be5ad21",
   "metadata": {},
   "outputs": [
    {
     "ename": "NameError",
     "evalue": "name 'campos_numericos' is not defined",
     "output_type": "error",
     "traceback": [
      "\u001b[1;31m---------------------------------------------------------------------------\u001b[0m",
      "\u001b[1;31mNameError\u001b[0m                                 Traceback (most recent call last)",
      "\u001b[1;32mh:\\MESTRÍA\\MODULO 12\\proyecto 1\\Repo\\ds_ml_proyecto1\\MDSv3_ML_P1_Regresion Avanzada.ipynb Celda 42\u001b[0m in \u001b[0;36m<cell line: 1>\u001b[1;34m()\u001b[0m\n\u001b[1;32m----> <a href='vscode-notebook-cell:/h%3A/MESTR%C3%8DA/MODULO%2012/proyecto%201/Repo/ds_ml_proyecto1/MDSv3_ML_P1_Regresion%20Avanzada.ipynb#X64sZmlsZQ%3D%3D?line=0'>1</a>\u001b[0m corrmat \u001b[39m=\u001b[39m campos_numericos\u001b[39m.\u001b[39mcorr()\n\u001b[0;32m      <a href='vscode-notebook-cell:/h%3A/MESTR%C3%8DA/MODULO%2012/proyecto%201/Repo/ds_ml_proyecto1/MDSv3_ML_P1_Regresion%20Avanzada.ipynb#X64sZmlsZQ%3D%3D?line=1'>2</a>\u001b[0m f, ax \u001b[39m=\u001b[39m plt\u001b[39m.\u001b[39msubplots(figsize\u001b[39m=\u001b[39m(\u001b[39m12\u001b[39m, \u001b[39m9\u001b[39m))\n\u001b[0;32m      <a href='vscode-notebook-cell:/h%3A/MESTR%C3%8DA/MODULO%2012/proyecto%201/Repo/ds_ml_proyecto1/MDSv3_ML_P1_Regresion%20Avanzada.ipynb#X64sZmlsZQ%3D%3D?line=2'>3</a>\u001b[0m sns\u001b[39m.\u001b[39mheatmap(corrmat, vmax\u001b[39m=\u001b[39m\u001b[39m.8\u001b[39m, square\u001b[39m=\u001b[39m\u001b[39mTrue\u001b[39;00m)\n",
      "\u001b[1;31mNameError\u001b[0m: name 'campos_numericos' is not defined"
     ]
    }
   ],
   "source": [
    "corrmat = campos_numericos.corr()\n",
    "f, ax = plt.subplots(figsize=(12, 9))\n",
    "sns.heatmap(corrmat, vmax=.8, square=True);"
   ]
  },
  {
   "attachments": {},
   "cell_type": "markdown",
   "id": "ede3fce8",
   "metadata": {},
   "source": [
    "### Droping Data"
   ]
  },
  {
   "attachments": {},
   "cell_type": "markdown",
   "id": "bcf7bcbd",
   "metadata": {},
   "source": [
    "#### Eliminación de Variables Codependientes"
   ]
  },
  {
   "cell_type": "code",
   "execution_count": 37,
   "id": "ddd4a6da",
   "metadata": {},
   "outputs": [
    {
     "data": {
      "text/plain": [
       "Index(['Id', 'MSSubClass', 'MSZoning', 'LotFrontage', 'LotArea', 'Street',\n",
       "       'Alley', 'LotShape', 'LandContour', 'Utilities', 'LotConfig',\n",
       "       'LandSlope', 'Neighborhood', 'Condition1', 'Condition2', 'BldgType',\n",
       "       'HouseStyle', 'OverallQual', 'OverallCond', 'YearBuilt', 'YearRemodAdd',\n",
       "       'RoofStyle', 'RoofMatl', 'Exterior1st', 'Exterior2nd', 'MasVnrType',\n",
       "       'MasVnrArea', 'ExterQual', 'ExterCond', 'Foundation', 'BsmtQual',\n",
       "       'BsmtCond', 'BsmtExposure', 'BsmtFinType1', 'BsmtFinSF1',\n",
       "       'BsmtFinType2', 'BsmtFinSF2', 'BsmtUnfSF', 'TotalBsmtSF', 'Heating',\n",
       "       'HeatingQC', 'CentralAir', 'Electrical', '1stFlrSF', '2ndFlrSF',\n",
       "       'LowQualFinSF', 'GrLivArea', 'BsmtFullBath', 'BsmtHalfBath', 'FullBath',\n",
       "       'HalfBath', 'BedroomAbvGr', 'KitchenAbvGr', 'KitchenQual',\n",
       "       'TotRmsAbvGrd', 'Functional', 'Fireplaces', 'FireplaceQu', 'GarageType',\n",
       "       'GarageYrBlt', 'GarageFinish', 'GarageCars', 'GarageArea', 'GarageQual',\n",
       "       'GarageCond', 'PavedDrive', 'WoodDeckSF', 'OpenPorchSF',\n",
       "       'EnclosedPorch', '3SsnPorch', 'ScreenPorch', 'PoolArea', 'PoolQC',\n",
       "       'Fence', 'MiscFeature', 'MiscVal', 'MoSold', 'YrSold', 'SaleType',\n",
       "       'SaleCondition', 'SalePrice'],\n",
       "      dtype='object')"
      ]
     },
     "execution_count": 37,
     "metadata": {},
     "output_type": "execute_result"
    }
   ],
   "source": [
    "data_recat.columns"
   ]
  },
  {
   "cell_type": "code",
   "execution_count": 38,
   "id": "e0c1196f",
   "metadata": {},
   "outputs": [],
   "source": [
    "data_recat[\"TotalSF\"]=data_recat[\"GrLivArea\"]+data_recat[\"TotalBsmtSF\"]\n",
    "# GrLivArea ='1stFlrSF'+'2ndFlrSF'+'LowQualFinSF'   Por lo tanto podemos desechar sus componentes\n",
    "# TotalBsmtSF =  'BsmtFinSF1' +'BsmtFinSF2'+ 'BsmtUnfSF  Por lo tanto podemos desechar sus componentes\n",
    "\n",
    "data_recat[\"TotalBathrooms\"]=data_recat[\"FullBath\"]+(data_recat[\"HalfBath\"]/2)+data_recat[\"BsmtFullBath\"]+(data_recat[\"BsmtHalfBath\"]/2)\n",
    "data_recat[\"TotaPorchSF\"]=data_recat[\"OpenPorchSF\"]+data_recat[\"3SsnPorch\"]+data_recat[\"EnclosedPorch\"]+data_recat[\"ScreenPorch\"]\n",
    "data_recat[\"EdadCasa\"]=2023-data_recat[\"YearBuilt\"]\n",
    "data_recat[\"EdadGarage\"]=2023-data_recat[\"GarageYrBlt\"]\n",
    "data_recat[\"EdadVendido\"]=2023-data_recat[\"YrSold\"]\n",
    "data_recat[\"EdadRemod\"]=2023-data_recat[\"YearRemodAdd\"]"
   ]
  },
  {
   "cell_type": "code",
   "execution_count": 39,
   "id": "d09b261c",
   "metadata": {},
   "outputs": [],
   "source": [
    "columnas_a_borrar=[\"FullBath\",\"HalfBath\",\"BsmtFullBath\",\"BsmtHalfBath\",\n",
    "                   \"OpenPorchSF\",\"3SsnPorch\",\"EnclosedPorch\",\"ScreenPorch\",\n",
    "                  '1stFlrSF','2ndFlrSF','LowQualFinSF','TotalBsmtSF',\n",
    "                   'BsmtFinSF1','BsmtFinSF2','BsmtUnfSF',\"YearBuilt\",\"GarageYrBlt\",\"YrSold\",\"YearRemodAdd\",\n",
    "                   \n",
    "                   ]\n",
    "data_recat=data_recat.drop(columnas_a_borrar,axis=1)"
   ]
  },
  {
   "attachments": {},
   "cell_type": "markdown",
   "id": "11259018",
   "metadata": {},
   "source": [
    "#### Eliminación de Variables por Multicolinealidad"
   ]
  },
  {
   "cell_type": "code",
   "execution_count": 44,
   "id": "49513c5d",
   "metadata": {},
   "outputs": [
    {
     "name": "stdout",
     "output_type": "stream",
     "text": [
      "correlación entre  GarageYrBlt  y  YearBuilt  es:  0.825667484174342\n",
      "correlación entre  PoolQC  y  PoolArea  es:  -0.8842503024390972\n",
      "correlación entre  GarageCond  y  GarageQual  es:  0.5970304958136524\n",
      "correlación entre  GarageCars  y  GarageArea  es:  0.8824754142814629\n",
      "correlación entre  FireplaceQu  y  Fireplaces  es:  -0.7282891760748211\n",
      "correlación entre  TotRmsAbvGrd  y  GrLivArea  es:  0.8254893743088431\n"
     ]
    }
   ],
   "source": [
    "# Por su alta correlación se elimina\n",
    "CorrNumNum(data,\"GarageYrBlt\",\"YearBuilt\") # esto ya esta transformado, habria que quitar\n",
    "# Borrar  \"GarageYrBlt\"\n",
    "corrNumCat(data,\"PoolQC\",\"PoolArea\")\n",
    "# Borrar  \"PoolQC\"\n",
    "corrCatCat(data,\"GarageCond\",\"GarageQual\")\n",
    "# Borrar  \"GarageCond\"\n",
    "corrNumCat(data,\"GarageCars\",\"GarageArea\")\n",
    "# Borrar  \"GarageArea\"\n",
    "corrNumCat(data,\"FireplaceQu\",\"Fireplaces\")\n",
    "# Borrar  \"Fireplaces\"\n",
    "CorrNumNum(data,\"TotRmsAbvGrd\",\"GrLivArea\")\n",
    "# Borrar  \"TotRmsAbvGrd\""
   ]
  },
  {
   "cell_type": "code",
   "execution_count": 45,
   "id": "ca5d054a",
   "metadata": {},
   "outputs": [],
   "source": [
    "data_recat.drop([\"PoolQC\"],axis=1, inplace=True)\n",
    "data_recat.drop([\"GarageCond\"],axis=1, inplace=True)\n",
    "data_recat.drop([\"GarageArea\"],axis=1, inplace=True)\n",
    "data_recat.drop([\"Fireplaces\"],axis=1, inplace=True)\n",
    "data_recat.drop([\"TotRmsAbvGrd\"],axis=1, inplace=True)"
   ]
  },
  {
   "attachments": {},
   "cell_type": "markdown",
   "id": "564315b9",
   "metadata": {},
   "source": [
    "#### Creación de Variable \"TipoVecindario\""
   ]
  },
  {
   "cell_type": "code",
   "execution_count": 46,
   "id": "46b43dab",
   "metadata": {},
   "outputs": [
    {
     "data": {
      "text/plain": [
       "TipoVecindario\n",
       "0      70\n",
       "1    1247\n",
       "2     143\n",
       "Name: Neighborhood, dtype: int64"
      ]
     },
     "execution_count": 46,
     "metadata": {},
     "output_type": "execute_result"
    }
   ],
   "source": [
    "alto=[\"StoneBr\",\"NridgHt\",\"NoRidge\"]\n",
    "bajo=[\"MeadowV\",\"IDOTRR\",\"BrDale\"]\n",
    "medio=[alto,bajo]\n",
    "condiciones=[\n",
    "            (data_recat[\"Neighborhood\"].isin(alto)),\n",
    "            (data_recat[\"Neighborhood\"].isin(bajo)),\n",
    "            (~data_recat[\"Neighborhood\"].isin(medio))\n",
    "             ]\n",
    "valores=[2,0,1]\n",
    "data_recat[\"TipoVecindario\"]=np.select(condiciones,valores)\n",
    "data_recat.groupby([\"TipoVecindario\"])[\"Neighborhood\"].count()"
   ]
  },
  {
   "attachments": {},
   "cell_type": "markdown",
   "id": "1a587116",
   "metadata": {},
   "source": [
    "### Outliers"
   ]
  },
  {
   "attachments": {},
   "cell_type": "markdown",
   "id": "6a464420",
   "metadata": {},
   "source": [
    "#### Outliers GrLivArea"
   ]
  },
  {
   "attachments": {},
   "cell_type": "markdown",
   "id": "c87f511c",
   "metadata": {},
   "source": [
    "* Gráfica"
   ]
  },
  {
   "cell_type": "code",
   "execution_count": 67,
   "id": "4fd43ab0",
   "metadata": {},
   "outputs": [
    {
     "data": {
      "image/png": "[encoded data removed]",
      "text/plain": [
       "<Figure size 432x288 with 1 Axes>"
      ]
     },
     "metadata": {
      "needs_background": "light"
     },
     "output_type": "display_data"
    }
   ],
   "source": [
    "#scatter plot grlivarea/saleprice\n",
    "def grafDisp(d,x,y):\n",
    "  graf = pd.concat([d[y], d[x]], axis=1)\n",
    "  graf.plot.scatter(x=x, y=y)\n",
    "def borrarFilas(d,c,v):\n",
    "  d.drop(d[d[c] >= v].index, inplace = True)\n",
    "\n",
    "#scatter plot grlivarea/saleprice\n",
    "grafDisp(data_recat,\"GrLivArea\",\"SalePrice\")"
   ]
  },
  {
   "attachments": {},
   "cell_type": "markdown",
   "id": "d5f5aa6a",
   "metadata": {},
   "source": [
    "* Borrado de Outliers"
   ]
  },
  {
   "cell_type": "code",
   "execution_count": 68,
   "id": "1064cff6",
   "metadata": {},
   "outputs": [
    {
     "data": {
      "text/html": [
       "<div>\n",
       "<style scoped>\n",
       "    .dataframe tbody tr th:only-of-type {\n",
       "        vertical-align: middle;\n",
       "    }\n",
       "\n",
       "    .dataframe tbody tr th {\n",
       "        vertical-align: top;\n",
       "    }\n",
       "\n",
       "    .dataframe thead th {\n",
       "        text-align: right;\n",
       "    }\n",
       "</style>\n",
       "<table border=\"1\" class=\"dataframe\">\n",
       "  <thead>\n",
       "    <tr style=\"text-align: right;\">\n",
       "      <th></th>\n",
       "      <th>GrLivArea</th>\n",
       "      <th>SalePrice</th>\n",
       "    </tr>\n",
       "  </thead>\n",
       "  <tbody>\n",
       "  </tbody>\n",
       "</table>\n",
       "</div>"
      ],
      "text/plain": [
       "Empty DataFrame\n",
       "Columns: [GrLivArea, SalePrice]\n",
       "Index: []"
      ]
     },
     "execution_count": 68,
     "metadata": {},
     "output_type": "execute_result"
    }
   ],
   "source": [
    "data_recat[data_recat[\"GrLivArea\"]>4500][[\"GrLivArea\",\"SalePrice\"]]"
   ]
  },
  {
   "cell_type": "code",
   "execution_count": 69,
   "id": "191a8e8d",
   "metadata": {},
   "outputs": [],
   "source": [
    "borrarFilas(data_recat,'GrLivArea',4500)"
   ]
  },
  {
   "attachments": {},
   "cell_type": "markdown",
   "id": "a1960c5e",
   "metadata": {},
   "source": [
    "* Gráfica Final"
   ]
  },
  {
   "cell_type": "code",
   "execution_count": 70,
   "id": "51449fc9",
   "metadata": {},
   "outputs": [
    {
     "data": {
      "image/png": "[encoded data removed]",
      "text/plain": [
       "<Figure size 432x288 with 1 Axes>"
      ]
     },
     "metadata": {
      "needs_background": "light"
     },
     "output_type": "display_data"
    }
   ],
   "source": [
    "#scatter plot grlivarea/saleprice\n",
    "grafDisp(data_recat,\"GrLivArea\",\"SalePrice\")"
   ]
  },
  {
   "attachments": {},
   "cell_type": "markdown",
   "id": "2eb5d996",
   "metadata": {},
   "source": [
    "#### Outliers PoolArea"
   ]
  },
  {
   "attachments": {},
   "cell_type": "markdown",
   "id": "755adb03",
   "metadata": {},
   "source": [
    "* Gráfica Inicial"
   ]
  },
  {
   "cell_type": "code",
   "execution_count": 54,
   "id": "58e0c940",
   "metadata": {},
   "outputs": [
    {
     "data": {
      "image/png": "[encoded data removed]",
      "text/plain": [
       "<Figure size 432x288 with 1 Axes>"
      ]
     },
     "metadata": {
      "needs_background": "light"
     },
     "output_type": "display_data"
    }
   ],
   "source": [
    "#scatter plot poolarea/saleprice\n",
    "grafDisp(data_recat,\"PoolArea\",\"SalePrice\")"
   ]
  },
  {
   "attachments": {},
   "cell_type": "markdown",
   "id": "bffaa824",
   "metadata": {},
   "source": [
    "* Borrado Outliers"
   ]
  },
  {
   "cell_type": "code",
   "execution_count": 55,
   "id": "4099ee90",
   "metadata": {},
   "outputs": [
    {
     "data": {
      "text/html": [
       "<div>\n",
       "<style scoped>\n",
       "    .dataframe tbody tr th:only-of-type {\n",
       "        vertical-align: middle;\n",
       "    }\n",
       "\n",
       "    .dataframe tbody tr th {\n",
       "        vertical-align: top;\n",
       "    }\n",
       "\n",
       "    .dataframe thead th {\n",
       "        text-align: right;\n",
       "    }\n",
       "</style>\n",
       "<table border=\"1\" class=\"dataframe\">\n",
       "  <thead>\n",
       "    <tr style=\"text-align: right;\">\n",
       "      <th></th>\n",
       "      <th>PoolArea</th>\n",
       "      <th>SalePrice</th>\n",
       "    </tr>\n",
       "  </thead>\n",
       "  <tbody>\n",
       "    <tr>\n",
       "      <th>197</th>\n",
       "      <td>512</td>\n",
       "      <td>235000</td>\n",
       "    </tr>\n",
       "    <tr>\n",
       "      <th>810</th>\n",
       "      <td>648</td>\n",
       "      <td>181000</td>\n",
       "    </tr>\n",
       "    <tr>\n",
       "      <th>1170</th>\n",
       "      <td>576</td>\n",
       "      <td>171000</td>\n",
       "    </tr>\n",
       "    <tr>\n",
       "      <th>1182</th>\n",
       "      <td>555</td>\n",
       "      <td>745000</td>\n",
       "    </tr>\n",
       "    <tr>\n",
       "      <th>1386</th>\n",
       "      <td>519</td>\n",
       "      <td>250000</td>\n",
       "    </tr>\n",
       "    <tr>\n",
       "      <th>1423</th>\n",
       "      <td>738</td>\n",
       "      <td>274970</td>\n",
       "    </tr>\n",
       "  </tbody>\n",
       "</table>\n",
       "</div>"
      ],
      "text/plain": [
       "      PoolArea  SalePrice\n",
       "197        512     235000\n",
       "810        648     181000\n",
       "1170       576     171000\n",
       "1182       555     745000\n",
       "1386       519     250000\n",
       "1423       738     274970"
      ]
     },
     "execution_count": 55,
     "metadata": {},
     "output_type": "execute_result"
    }
   ],
   "source": [
    "data_recat[data_recat[\"PoolArea\"]>500][[\"PoolArea\",\"SalePrice\"]]"
   ]
  },
  {
   "cell_type": "code",
   "execution_count": 65,
   "id": "67f83cb8",
   "metadata": {},
   "outputs": [],
   "source": [
    "borrarFilas(data_recat,'PoolArea',500)"
   ]
  },
  {
   "attachments": {},
   "cell_type": "markdown",
   "id": "f762fc41",
   "metadata": {},
   "source": [
    "* Gráfica Final"
   ]
  },
  {
   "cell_type": "code",
   "execution_count": 66,
   "id": "ebb66cee",
   "metadata": {},
   "outputs": [
    {
     "data": {
      "image/png": "[encoded data removed]",
      "text/plain": [
       "<Figure size 432x288 with 1 Axes>"
      ]
     },
     "metadata": {
      "needs_background": "light"
     },
     "output_type": "display_data"
    }
   ],
   "source": [
    "grafDisp(data_recat,\"PoolArea\",\"SalePrice\")"
   ]
  },
  {
   "attachments": {},
   "cell_type": "markdown",
   "id": "559584ba",
   "metadata": {},
   "source": [
    "#### Outliers MiscVal"
   ]
  },
  {
   "attachments": {},
   "cell_type": "markdown",
   "id": "70d6c8bd",
   "metadata": {},
   "source": [
    "* Gráfica Inicial"
   ]
  },
  {
   "cell_type": "code",
   "execution_count": 75,
   "id": "a0cff1d4",
   "metadata": {},
   "outputs": [
    {
     "data": {
      "image/png": "[encoded data removed]",
      "text/plain": [
       "<Figure size 432x288 with 1 Axes>"
      ]
     },
     "metadata": {
      "needs_background": "light"
     },
     "output_type": "display_data"
    }
   ],
   "source": [
    "# Grafica miscval/salesprice\n",
    "grafDisp(data_recat,\"MiscVal\",\"SalePrice\")"
   ]
  },
  {
   "attachments": {},
   "cell_type": "markdown",
   "id": "2a61de0d",
   "metadata": {},
   "source": [
    "* Borrado de Outliers"
   ]
  },
  {
   "cell_type": "code",
   "execution_count": 72,
   "id": "1461c03d",
   "metadata": {},
   "outputs": [
    {
     "data": {
      "text/html": [
       "<div>\n",
       "<style scoped>\n",
       "    .dataframe tbody tr th:only-of-type {\n",
       "        vertical-align: middle;\n",
       "    }\n",
       "\n",
       "    .dataframe tbody tr th {\n",
       "        vertical-align: top;\n",
       "    }\n",
       "\n",
       "    .dataframe thead th {\n",
       "        text-align: right;\n",
       "    }\n",
       "</style>\n",
       "<table border=\"1\" class=\"dataframe\">\n",
       "  <thead>\n",
       "    <tr style=\"text-align: right;\">\n",
       "      <th></th>\n",
       "      <th>MiscVal</th>\n",
       "      <th>SalePrice</th>\n",
       "    </tr>\n",
       "  </thead>\n",
       "  <tbody>\n",
       "    <tr>\n",
       "      <th>346</th>\n",
       "      <td>15500</td>\n",
       "      <td>151500</td>\n",
       "    </tr>\n",
       "    <tr>\n",
       "      <th>1230</th>\n",
       "      <td>8300</td>\n",
       "      <td>190000</td>\n",
       "    </tr>\n",
       "  </tbody>\n",
       "</table>\n",
       "</div>"
      ],
      "text/plain": [
       "      MiscVal  SalePrice\n",
       "346     15500     151500\n",
       "1230     8300     190000"
      ]
     },
     "execution_count": 72,
     "metadata": {},
     "output_type": "execute_result"
    }
   ],
   "source": [
    "data_recat[data_recat[\"MiscVal\"]>8000][[\"MiscVal\",\"SalePrice\"]]"
   ]
  },
  {
   "cell_type": "code",
   "execution_count": 73,
   "id": "64483642",
   "metadata": {},
   "outputs": [],
   "source": [
    "borrarFilas(data_recat,'MiscVal',8000)"
   ]
  },
  {
   "attachments": {},
   "cell_type": "markdown",
   "id": "1f859b70",
   "metadata": {},
   "source": [
    "* Gráfica Final "
   ]
  },
  {
   "cell_type": "code",
   "execution_count": 74,
   "id": "eea4ebd9",
   "metadata": {},
   "outputs": [
    {
     "data": {
      "image/png": "[encoded data removed]",
      "text/plain": [
       "<Figure size 432x288 with 1 Axes>"
      ]
     },
     "metadata": {
      "needs_background": "light"
     },
     "output_type": "display_data"
    }
   ],
   "source": [
    "grafDisp(data_recat,\"MiscVal\",\"SalePrice\")"
   ]
  },
  {
   "attachments": {},
   "cell_type": "markdown",
   "id": "5ca67cee",
   "metadata": {},
   "source": [
    "#### Outliers LotArea"
   ]
  },
  {
   "attachments": {},
   "cell_type": "markdown",
   "id": "9d2e7458",
   "metadata": {},
   "source": [
    "* Gráfica Inicial"
   ]
  },
  {
   "cell_type": "code",
   "execution_count": 76,
   "id": "7987836f",
   "metadata": {},
   "outputs": [
    {
     "data": {
      "image/png": "[encoded data removed]",
      "text/plain": [
       "<Figure size 432x288 with 1 Axes>"
      ]
     },
     "metadata": {
      "needs_background": "light"
     },
     "output_type": "display_data"
    }
   ],
   "source": [
    "#scatter plot lotarea/saleprice\n",
    "grafDisp(data_recat,\"LotArea\",\"SalePrice\")"
   ]
  },
  {
   "attachments": {},
   "cell_type": "markdown",
   "id": "5d9c6ae8",
   "metadata": {},
   "source": [
    "* Borrado de outliers"
   ]
  },
  {
   "cell_type": "code",
   "execution_count": 77,
   "id": "40d315eb",
   "metadata": {},
   "outputs": [
    {
     "data": {
      "text/html": [
       "<div>\n",
       "<style scoped>\n",
       "    .dataframe tbody tr th:only-of-type {\n",
       "        vertical-align: middle;\n",
       "    }\n",
       "\n",
       "    .dataframe tbody tr th {\n",
       "        vertical-align: top;\n",
       "    }\n",
       "\n",
       "    .dataframe thead th {\n",
       "        text-align: right;\n",
       "    }\n",
       "</style>\n",
       "<table border=\"1\" class=\"dataframe\">\n",
       "  <thead>\n",
       "    <tr style=\"text-align: right;\">\n",
       "      <th></th>\n",
       "      <th>LotArea</th>\n",
       "      <th>SalePrice</th>\n",
       "    </tr>\n",
       "  </thead>\n",
       "  <tbody>\n",
       "    <tr>\n",
       "      <th>249</th>\n",
       "      <td>159000</td>\n",
       "      <td>277000</td>\n",
       "    </tr>\n",
       "    <tr>\n",
       "      <th>313</th>\n",
       "      <td>215245</td>\n",
       "      <td>375000</td>\n",
       "    </tr>\n",
       "    <tr>\n",
       "      <th>335</th>\n",
       "      <td>164660</td>\n",
       "      <td>228950</td>\n",
       "    </tr>\n",
       "    <tr>\n",
       "      <th>706</th>\n",
       "      <td>115149</td>\n",
       "      <td>302000</td>\n",
       "    </tr>\n",
       "  </tbody>\n",
       "</table>\n",
       "</div>"
      ],
      "text/plain": [
       "     LotArea  SalePrice\n",
       "249   159000     277000\n",
       "313   215245     375000\n",
       "335   164660     228950\n",
       "706   115149     302000"
      ]
     },
     "execution_count": 77,
     "metadata": {},
     "output_type": "execute_result"
    }
   ],
   "source": [
    "data_recat[data_recat[\"LotArea\"]>100000][[\"LotArea\",\"SalePrice\"]]"
   ]
  },
  {
   "cell_type": "code",
   "execution_count": 78,
   "id": "1b605084",
   "metadata": {},
   "outputs": [],
   "source": [
    "borrarFilas(data_recat,'LotArea',100000)"
   ]
  },
  {
   "attachments": {},
   "cell_type": "markdown",
   "id": "b1583a15",
   "metadata": {},
   "source": [
    "* Gráfica Final"
   ]
  },
  {
   "cell_type": "code",
   "execution_count": 79,
   "id": "8da1bc90",
   "metadata": {},
   "outputs": [
    {
     "data": {
      "image/png": "[encoded data removed]",
      "text/plain": [
       "<Figure size 432x288 with 1 Axes>"
      ]
     },
     "metadata": {
      "needs_background": "light"
     },
     "output_type": "display_data"
    }
   ],
   "source": [
    "grafDisp(data_recat,\"LotArea\",\"SalePrice\")"
   ]
  },
  {
   "attachments": {},
   "cell_type": "markdown",
   "id": "d1ca849f",
   "metadata": {},
   "source": [
    "#### Outliers MasVnrArea"
   ]
  },
  {
   "attachments": {},
   "cell_type": "markdown",
   "id": "55e015b9",
   "metadata": {},
   "source": [
    "* Gráfica Inicial"
   ]
  },
  {
   "cell_type": "code",
   "execution_count": 84,
   "id": "91b15c25",
   "metadata": {},
   "outputs": [
    {
     "data": {
      "image/png": "[encoded data removed]",
      "text/plain": [
       "<Figure size 432x288 with 1 Axes>"
      ]
     },
     "metadata": {
      "needs_background": "light"
     },
     "output_type": "display_data"
    }
   ],
   "source": [
    "#scatter plot masvnrarea/saleprice\n",
    "grafDisp(data_recat,\"MasVnrArea\",\"SalePrice\")"
   ]
  },
  {
   "attachments": {},
   "cell_type": "markdown",
   "id": "63751584",
   "metadata": {},
   "source": [
    "* Borrado Outliers"
   ]
  },
  {
   "cell_type": "code",
   "execution_count": 83,
   "id": "98e4bd7b",
   "metadata": {},
   "outputs": [
    {
     "data": {
      "text/html": [
       "<div>\n",
       "<style scoped>\n",
       "    .dataframe tbody tr th:only-of-type {\n",
       "        vertical-align: middle;\n",
       "    }\n",
       "\n",
       "    .dataframe tbody tr th {\n",
       "        vertical-align: top;\n",
       "    }\n",
       "\n",
       "    .dataframe thead th {\n",
       "        text-align: right;\n",
       "    }\n",
       "</style>\n",
       "<table border=\"1\" class=\"dataframe\">\n",
       "  <thead>\n",
       "    <tr style=\"text-align: right;\">\n",
       "      <th></th>\n",
       "      <th>LotArea</th>\n",
       "      <th>SalePrice</th>\n",
       "    </tr>\n",
       "  </thead>\n",
       "  <tbody>\n",
       "  </tbody>\n",
       "</table>\n",
       "</div>"
      ],
      "text/plain": [
       "Empty DataFrame\n",
       "Columns: [LotArea, SalePrice]\n",
       "Index: []"
      ]
     },
     "execution_count": 83,
     "metadata": {},
     "output_type": "execute_result"
    }
   ],
   "source": [
    "data_recat[data_recat[\"MasVnrArea\"]>1000][[\"LotArea\",\"SalePrice\"]]"
   ]
  },
  {
   "cell_type": "code",
   "execution_count": 85,
   "id": "844eace9",
   "metadata": {},
   "outputs": [],
   "source": [
    "borrarFilas(data_recat,'MasVnrArea',1000)"
   ]
  },
  {
   "attachments": {},
   "cell_type": "markdown",
   "id": "79cc52bd",
   "metadata": {},
   "source": [
    "* Gráfica Final"
   ]
  },
  {
   "cell_type": "code",
   "execution_count": 86,
   "id": "50d47cbd",
   "metadata": {},
   "outputs": [
    {
     "data": {
      "image/png": "[encoded data removed]",
      "text/plain": [
       "<Figure size 432x288 with 1 Axes>"
      ]
     },
     "metadata": {
      "needs_background": "light"
     },
     "output_type": "display_data"
    }
   ],
   "source": [
    "grafDisp(data_recat,\"MasVnrArea\",\"SalePrice\")"
   ]
  },
  {
   "cell_type": "code",
   "execution_count": 87,
   "id": "24bafd12",
   "metadata": {},
   "outputs": [
    {
     "data": {
      "text/plain": [
       "(array([970., 171., 124.,  80.,  43.,  18.,  17.,   7.,   4.,   4.]),\n",
       " array([  0. ,  97.5, 195. , 292.5, 390. , 487.5, 585. , 682.5, 780. ,\n",
       "        877.5, 975. ]),\n",
       " <BarContainer object of 10 artists>)"
      ]
     },
     "execution_count": 87,
     "metadata": {},
     "output_type": "execute_result"
    },
    {
     "data": {
      "image/png": "[encoded data removed]",
      "text/plain": [
       "<Figure size 432x288 with 1 Axes>"
      ]
     },
     "metadata": {
      "needs_background": "light"
     },
     "output_type": "display_data"
    }
   ],
   "source": [
    "plt.hist(data_recat[\"MasVnrArea\"])"
   ]
  },
  {
   "attachments": {},
   "cell_type": "markdown",
   "id": "c44c911f",
   "metadata": {},
   "source": [
    "### Derived Data"
   ]
  },
  {
   "attachments": {},
   "cell_type": "markdown",
   "id": "8ad65e4b",
   "metadata": {},
   "source": [
    "#### Variables Dummy"
   ]
  },
  {
   "cell_type": "code",
   "execution_count": 88,
   "id": "9c846c6c",
   "metadata": {},
   "outputs": [],
   "source": [
    "v1 =  ['Street']\n",
    "def dummies(x):\n",
    "    return x.map({'Pave': 1, \"Grvl\": 0})\n",
    "data_recat[v1] = data_recat[v1].apply(dummies)\n",
    "\n",
    "v2 =  ['Utilities']\n",
    "def dummies(x):\n",
    "    return x.map({'AllPub': 1, \"NoSeWa\": 0})\n",
    "data_recat[v2] = data_recat[v2].apply(dummies)\n",
    "\n",
    "v3 =  ['CentralAir']\n",
    "def dummies(x):\n",
    "    return x.map({'Y': 1, \"N\": 0})\n",
    "data_recat[v3] = data_recat[v3].apply(dummies)"
   ]
  },
  {
   "attachments": {},
   "cell_type": "markdown",
   "id": "cd183d09",
   "metadata": {},
   "source": [
    "# 5. Análisis de Datos"
   ]
  },
  {
   "attachments": {},
   "cell_type": "markdown",
   "id": "076a4fc8",
   "metadata": {},
   "source": [
    "### Análisis Univariable"
   ]
  },
  {
   "attachments": {},
   "cell_type": "markdown",
   "id": "a3c839c8",
   "metadata": {},
   "source": [
    "#### Numeric Data"
   ]
  },
  {
   "attachments": {},
   "cell_type": "markdown",
   "id": "019feaf2",
   "metadata": {},
   "source": [
    "#### Categorical Data"
   ]
  },
  {
   "attachments": {},
   "cell_type": "markdown",
   "id": "05a19b16",
   "metadata": {},
   "source": [
    "### Análisis Bivariblae"
   ]
  },
  {
   "attachments": {},
   "cell_type": "markdown",
   "id": "ac28d26b",
   "metadata": {},
   "source": [
    "# 6. Preparación de Datos"
   ]
  },
  {
   "attachments": {},
   "cell_type": "markdown",
   "id": "8833b49a",
   "metadata": {},
   "source": [
    "### Definición de Datos"
   ]
  },
  {
   "cell_type": "code",
   "execution_count": 89,
   "id": "991a46c4",
   "metadata": {},
   "outputs": [
    {
     "data": {
      "text/html": [
       "<div>\n",
       "<style scoped>\n",
       "    .dataframe tbody tr th:only-of-type {\n",
       "        vertical-align: middle;\n",
       "    }\n",
       "\n",
       "    .dataframe tbody tr th {\n",
       "        vertical-align: top;\n",
       "    }\n",
       "\n",
       "    .dataframe thead th {\n",
       "        text-align: right;\n",
       "    }\n",
       "</style>\n",
       "<table border=\"1\" class=\"dataframe\">\n",
       "  <thead>\n",
       "    <tr style=\"text-align: right;\">\n",
       "      <th></th>\n",
       "      <th>MSSubClass</th>\n",
       "      <th>MSZoning</th>\n",
       "      <th>Alley</th>\n",
       "      <th>LotShape</th>\n",
       "      <th>LandContour</th>\n",
       "      <th>LotConfig</th>\n",
       "      <th>LandSlope</th>\n",
       "      <th>Neighborhood</th>\n",
       "      <th>Condition1</th>\n",
       "      <th>Condition2</th>\n",
       "      <th>...</th>\n",
       "      <th>Functional</th>\n",
       "      <th>FireplaceQu</th>\n",
       "      <th>GarageType</th>\n",
       "      <th>GarageFinish</th>\n",
       "      <th>GarageQual</th>\n",
       "      <th>PavedDrive</th>\n",
       "      <th>Fence</th>\n",
       "      <th>MiscFeature</th>\n",
       "      <th>SaleType</th>\n",
       "      <th>SaleCondition</th>\n",
       "    </tr>\n",
       "  </thead>\n",
       "  <tbody>\n",
       "    <tr>\n",
       "      <th>0</th>\n",
       "      <td>60</td>\n",
       "      <td>RL</td>\n",
       "      <td>No</td>\n",
       "      <td>Reg</td>\n",
       "      <td>Lvl</td>\n",
       "      <td>Inside</td>\n",
       "      <td>Gtl</td>\n",
       "      <td>CollgCr</td>\n",
       "      <td>Norm</td>\n",
       "      <td>Norm</td>\n",
       "      <td>...</td>\n",
       "      <td>Typ</td>\n",
       "      <td>No</td>\n",
       "      <td>Attchd</td>\n",
       "      <td>RFn</td>\n",
       "      <td>TA</td>\n",
       "      <td>Y</td>\n",
       "      <td>No</td>\n",
       "      <td>No</td>\n",
       "      <td>WD</td>\n",
       "      <td>Normal</td>\n",
       "    </tr>\n",
       "    <tr>\n",
       "      <th>1</th>\n",
       "      <td>20</td>\n",
       "      <td>RL</td>\n",
       "      <td>No</td>\n",
       "      <td>Reg</td>\n",
       "      <td>Lvl</td>\n",
       "      <td>FR2</td>\n",
       "      <td>Gtl</td>\n",
       "      <td>Veenker</td>\n",
       "      <td>Feedr</td>\n",
       "      <td>Norm</td>\n",
       "      <td>...</td>\n",
       "      <td>Typ</td>\n",
       "      <td>TA</td>\n",
       "      <td>Attchd</td>\n",
       "      <td>RFn</td>\n",
       "      <td>TA</td>\n",
       "      <td>Y</td>\n",
       "      <td>No</td>\n",
       "      <td>No</td>\n",
       "      <td>WD</td>\n",
       "      <td>Normal</td>\n",
       "    </tr>\n",
       "    <tr>\n",
       "      <th>2</th>\n",
       "      <td>60</td>\n",
       "      <td>RL</td>\n",
       "      <td>No</td>\n",
       "      <td>IR1</td>\n",
       "      <td>Lvl</td>\n",
       "      <td>Inside</td>\n",
       "      <td>Gtl</td>\n",
       "      <td>CollgCr</td>\n",
       "      <td>Norm</td>\n",
       "      <td>Norm</td>\n",
       "      <td>...</td>\n",
       "      <td>Typ</td>\n",
       "      <td>TA</td>\n",
       "      <td>Attchd</td>\n",
       "      <td>RFn</td>\n",
       "      <td>TA</td>\n",
       "      <td>Y</td>\n",
       "      <td>No</td>\n",
       "      <td>No</td>\n",
       "      <td>WD</td>\n",
       "      <td>Normal</td>\n",
       "    </tr>\n",
       "    <tr>\n",
       "      <th>3</th>\n",
       "      <td>70</td>\n",
       "      <td>RL</td>\n",
       "      <td>No</td>\n",
       "      <td>IR1</td>\n",
       "      <td>Lvl</td>\n",
       "      <td>Corner</td>\n",
       "      <td>Gtl</td>\n",
       "      <td>Crawfor</td>\n",
       "      <td>Norm</td>\n",
       "      <td>Norm</td>\n",
       "      <td>...</td>\n",
       "      <td>Typ</td>\n",
       "      <td>Gd</td>\n",
       "      <td>Detchd</td>\n",
       "      <td>Unf</td>\n",
       "      <td>TA</td>\n",
       "      <td>Y</td>\n",
       "      <td>No</td>\n",
       "      <td>No</td>\n",
       "      <td>WD</td>\n",
       "      <td>Abnorml</td>\n",
       "    </tr>\n",
       "    <tr>\n",
       "      <th>4</th>\n",
       "      <td>60</td>\n",
       "      <td>RL</td>\n",
       "      <td>No</td>\n",
       "      <td>IR1</td>\n",
       "      <td>Lvl</td>\n",
       "      <td>FR2</td>\n",
       "      <td>Gtl</td>\n",
       "      <td>NoRidge</td>\n",
       "      <td>Norm</td>\n",
       "      <td>Norm</td>\n",
       "      <td>...</td>\n",
       "      <td>Typ</td>\n",
       "      <td>TA</td>\n",
       "      <td>Attchd</td>\n",
       "      <td>RFn</td>\n",
       "      <td>TA</td>\n",
       "      <td>Y</td>\n",
       "      <td>No</td>\n",
       "      <td>No</td>\n",
       "      <td>WD</td>\n",
       "      <td>Normal</td>\n",
       "    </tr>\n",
       "  </tbody>\n",
       "</table>\n",
       "<p>5 rows × 39 columns</p>\n",
       "</div>"
      ],
      "text/plain": [
       "  MSSubClass MSZoning Alley LotShape LandContour LotConfig LandSlope  \\\n",
       "0         60       RL    No      Reg         Lvl    Inside       Gtl   \n",
       "1         20       RL    No      Reg         Lvl       FR2       Gtl   \n",
       "2         60       RL    No      IR1         Lvl    Inside       Gtl   \n",
       "3         70       RL    No      IR1         Lvl    Corner       Gtl   \n",
       "4         60       RL    No      IR1         Lvl       FR2       Gtl   \n",
       "\n",
       "  Neighborhood Condition1 Condition2  ... Functional FireplaceQu GarageType  \\\n",
       "0      CollgCr       Norm       Norm  ...        Typ          No     Attchd   \n",
       "1      Veenker      Feedr       Norm  ...        Typ          TA     Attchd   \n",
       "2      CollgCr       Norm       Norm  ...        Typ          TA     Attchd   \n",
       "3      Crawfor       Norm       Norm  ...        Typ          Gd     Detchd   \n",
       "4      NoRidge       Norm       Norm  ...        Typ          TA     Attchd   \n",
       "\n",
       "  GarageFinish GarageQual PavedDrive Fence MiscFeature SaleType SaleCondition  \n",
       "0          RFn         TA          Y    No          No       WD        Normal  \n",
       "1          RFn         TA          Y    No          No       WD        Normal  \n",
       "2          RFn         TA          Y    No          No       WD        Normal  \n",
       "3          Unf         TA          Y    No          No       WD       Abnorml  \n",
       "4          RFn         TA          Y    No          No       WD        Normal  \n",
       "\n",
       "[5 rows x 39 columns]"
      ]
     },
     "execution_count": 89,
     "metadata": {},
     "output_type": "execute_result"
    }
   ],
   "source": [
    "#campos_numericos=data_recat.select_dtypes(include=[np.number])\n",
    "campos_categoricos=data_recat.select_dtypes(include=[np.object])\n",
    "campos_categoricos.head()\n",
    "#campos_categoricos.columns"
   ]
  },
  {
   "cell_type": "code",
   "execution_count": 90,
   "id": "9ce638c4",
   "metadata": {},
   "outputs": [],
   "source": [
    "onehot = pd.get_dummies(campos_categoricos, drop_first=True)\n",
    "#plt.hist(data_recat[\"OverallQual\"])"
   ]
  },
  {
   "cell_type": "code",
   "execution_count": 91,
   "id": "b8e2e6e6",
   "metadata": {},
   "outputs": [
    {
     "data": {
      "text/plain": [
       "Index(['MSSubClass_160', 'MSSubClass_180', 'MSSubClass_190', 'MSSubClass_20',\n",
       "       'MSSubClass_30', 'MSSubClass_40', 'MSSubClass_45', 'MSSubClass_50',\n",
       "       'MSSubClass_60', 'MSSubClass_70',\n",
       "       ...\n",
       "       'SaleType_ConLI', 'SaleType_ConLw', 'SaleType_New', 'SaleType_Oth',\n",
       "       'SaleType_WD', 'SaleCondition_AdjLand', 'SaleCondition_Alloca',\n",
       "       'SaleCondition_Family', 'SaleCondition_Normal',\n",
       "       'SaleCondition_Partial'],\n",
       "      dtype='object', length=222)"
      ]
     },
     "execution_count": 91,
     "metadata": {},
     "output_type": "execute_result"
    }
   ],
   "source": [
    "onehot.columns"
   ]
  },
  {
   "cell_type": "code",
   "execution_count": 92,
   "id": "74c6b08b",
   "metadata": {},
   "outputs": [],
   "source": [
    "dataOK = data_recat.copy()\n",
    "dataOK = data_recat.drop(list(campos_categoricos.columns), axis=1)\n",
    "\n",
    "dataOK = pd.concat([dataOK,onehot], axis=1)"
   ]
  },
  {
   "cell_type": "code",
   "execution_count": 93,
   "id": "bfca2dae",
   "metadata": {},
   "outputs": [
    {
     "data": {
      "text/plain": [
       "(1438, 247)"
      ]
     },
     "execution_count": 93,
     "metadata": {},
     "output_type": "execute_result"
    }
   ],
   "source": [
    "dataOK.drop([\"Id\"],axis=1, inplace=True)\n",
    "dataOK.shape"
   ]
  },
  {
   "cell_type": "code",
   "execution_count": 94,
   "id": "d1bed396",
   "metadata": {},
   "outputs": [],
   "source": [
    "X = dataOK\n",
    "y = np.log(X.SalePrice)\n",
    "#y = X[\"SalePrice\"]\n",
    "X = X.drop(\"SalePrice\",1)"
   ]
  },
  {
   "cell_type": "code",
   "execution_count": 95,
   "id": "1ba00bbc",
   "metadata": {},
   "outputs": [
    {
     "data": {
      "text/plain": [
       "(1438, 246)"
      ]
     },
     "execution_count": 95,
     "metadata": {},
     "output_type": "execute_result"
    }
   ],
   "source": [
    "X.shape"
   ]
  },
  {
   "cell_type": "code",
   "execution_count": 96,
   "id": "b7951c76",
   "metadata": {},
   "outputs": [
    {
     "data": {
      "text/plain": [
       "array([[-0.2341111 , -0.28424959,  0.05906931, ..., -0.11876183,\n",
       "         0.46538378, -0.30447523],\n",
       "       [ 0.47923918, -0.06909006,  0.05906931, ..., -0.11876183,\n",
       "         0.46538378, -0.30447523],\n",
       "       [-0.09144104,  0.2396171 ,  0.05906931, ..., -0.11876183,\n",
       "         0.46538378, -0.30447523],\n",
       "       ...,\n",
       "       [-0.18655441, -0.17348921,  0.05906931, ..., -0.11876183,\n",
       "         0.46538378, -0.30447523],\n",
       "       [-0.09144104, -0.04719992,  0.05906931, ..., -0.11876183,\n",
       "         0.46538378, -0.30447523],\n",
       "       [ 0.24145576, -0.00603896,  0.05906931, ..., -0.11876183,\n",
       "         0.46538378, -0.30447523]])"
      ]
     },
     "execution_count": 96,
     "metadata": {},
     "output_type": "execute_result"
    }
   ],
   "source": [
    "from sklearn.preprocessing import StandardScaler\n",
    "escalador = StandardScaler()\n",
    "escalador.fit_transform(X)"
   ]
  },
  {
   "attachments": {},
   "cell_type": "markdown",
   "id": "4a46523b",
   "metadata": {},
   "source": [
    "### Splitting Data into Train Test"
   ]
  },
  {
   "cell_type": "code",
   "execution_count": 97,
   "id": "7ff21419",
   "metadata": {},
   "outputs": [],
   "source": [
    "from sklearn.model_selection import train_test_split\n",
    "X_train, X_test, y_train, y_test = train_test_split(X, y,train_size=0.8,test_size = 0.2, random_state=34)"
   ]
  },
  {
   "cell_type": "code",
   "execution_count": 98,
   "id": "2cb913c8",
   "metadata": {},
   "outputs": [
    {
     "data": {
      "text/plain": [
       "(288, 246)"
      ]
     },
     "execution_count": 98,
     "metadata": {},
     "output_type": "execute_result"
    }
   ],
   "source": [
    "X_test.shape"
   ]
  },
  {
   "cell_type": "code",
   "execution_count": 99,
   "id": "c3bc8880",
   "metadata": {},
   "outputs": [
    {
     "data": {
      "text/plain": [
       "RandomForestRegressor()"
      ]
     },
     "execution_count": 99,
     "metadata": {},
     "output_type": "execute_result"
    }
   ],
   "source": [
    "rf = RandomForestRegressor(n_estimators=100)\n",
    "rf.fit(X_train, y_train)"
   ]
  },
  {
   "cell_type": "code",
   "execution_count": 100,
   "id": "a9336d38",
   "metadata": {},
   "outputs": [
    {
     "data": {
      "text/plain": [
       "Text(0.5, 0, 'Random Forest Feature Importance')"
      ]
     },
     "execution_count": 100,
     "metadata": {},
     "output_type": "execute_result"
    },
    {
     "data": {
      "image/png": "[encoded data removed]",
      "text/plain": [
       "<Figure size 720x2736 with 1 Axes>"
      ]
     },
     "metadata": {
      "needs_background": "light"
     },
     "output_type": "display_data"
    }
   ],
   "source": [
    "plt.rcParams.update({'figure.figsize': (10, 38)})\n",
    "plt.rcParams.update({'font.size': 10})\n",
    "#plt.barh(X.columns, rf.feature_importances_)\n",
    "sorted_idx = rf.feature_importances_.argsort()\n",
    "plt.barh(X.columns[sorted_idx], rf.feature_importances_[sorted_idx])\n",
    "plt.xlabel(\"Random Forest Feature Importance\")"
   ]
  },
  {
   "attachments": {},
   "cell_type": "markdown",
   "id": "4a5e95f2",
   "metadata": {},
   "source": [
    "# 7. Construcción del Modelo"
   ]
  },
  {
   "attachments": {},
   "cell_type": "markdown",
   "id": "33060f19",
   "metadata": {},
   "source": [
    "### Regresión Lineal"
   ]
  },
  {
   "cell_type": "code",
   "execution_count": 101,
   "id": "54879b5c",
   "metadata": {},
   "outputs": [
    {
     "data": {
      "text/plain": [
       "LinearRegression()"
      ]
     },
     "execution_count": 101,
     "metadata": {},
     "output_type": "execute_result"
    }
   ],
   "source": [
    "lr = LinearRegression()\n",
    "lr.fit(X_train, y_train)"
   ]
  },
  {
   "cell_type": "code",
   "execution_count": 102,
   "id": "fc6991ca",
   "metadata": {},
   "outputs": [
    {
     "name": "stdout",
     "output_type": "stream",
     "text": [
      "R2 Train Score:  0.9519121153301198\n",
      "Mean Squared Train Error Train:  0.007275644692377993\n",
      "Mean Squared Train Error Test:  0.018492935505615246\n"
     ]
    }
   ],
   "source": [
    "y_pred_train_lr = lr.predict(X_train)\n",
    "y_pred_test_lr = lr.predict(X_test)\n",
    "\n",
    "# metric_lr = []\n",
    "r2_train_lr = r2_score(y_train, y_pred_train_lr)\n",
    "print(\"R2 Train Score: \", r2_train_lr)\n",
    "# metric_lr.append(r2_train_lr)\n",
    "\n",
    "mse_train_lr = mean_squared_error(y_train, y_pred_train_lr)\n",
    "print(\"Mean Squared Train Error Train: \", mse_train_lr)\n",
    "mse_test_lr = mean_squared_error(y_test, y_pred_test_lr)\n",
    "print(\"Mean Squared Train Error Test: \", mse_test_lr)\n",
    "#metric_lr.append(mse_train_lr**0.5)"
   ]
  },
  {
   "attachments": {},
   "cell_type": "markdown",
   "id": "74be6bef",
   "metadata": {},
   "source": [
    "### Ridge Regression"
   ]
  },
  {
   "cell_type": "code",
   "execution_count": 103,
   "id": "52dc765b",
   "metadata": {},
   "outputs": [],
   "source": [
    "parametros = {'alpha': [0.0001, 0.001, 0.01, 0.1, 0.3, 0.5, 0.7, 0.9, 1,3,5,7,9,10,20,50,100,500,1000]}"
   ]
  },
  {
   "cell_type": "code",
   "execution_count": 104,
   "id": "e1b85cdc",
   "metadata": {},
   "outputs": [
    {
     "name": "stdout",
     "output_type": "stream",
     "text": [
      "Fitting 5 folds for each of 19 candidates, totalling 95 fits\n"
     ]
    },
    {
     "data": {
      "text/plain": [
       "GridSearchCV(cv=5, estimator=Ridge(),\n",
       "             param_grid={'alpha': [0.0001, 0.001, 0.01, 0.1, 0.3, 0.5, 0.7, 0.9,\n",
       "                                   1, 3, 5, 7, 9, 10, 20, 50, 100, 500, 1000]},\n",
       "             return_train_score=True, scoring='neg_mean_absolute_error',\n",
       "             verbose=1)"
      ]
     },
     "execution_count": 104,
     "metadata": {},
     "output_type": "execute_result"
    }
   ],
   "source": [
    "ridge = Ridge()\n",
    "\n",
    "folds = 5\n",
    "model_cv = GridSearchCV(estimator = ridge, param_grid = parametros, scoring= 'neg_mean_absolute_error', cv = folds,return_train_score=True,verbose = 1)            \n",
    "model_cv.fit(X_train, y_train) "
   ]
  },
  {
   "cell_type": "code",
   "execution_count": 105,
   "id": "db4ac5a9",
   "metadata": {},
   "outputs": [
    {
     "name": "stdout",
     "output_type": "stream",
     "text": [
      "{'alpha': 10}\n",
      "-0.07846541551744501\n"
     ]
    }
   ],
   "source": [
    "print(model_cv.best_params_)\n",
    "print(model_cv.best_score_)"
   ]
  },
  {
   "cell_type": "code",
   "execution_count": 106,
   "id": "b6f76f8a",
   "metadata": {},
   "outputs": [
    {
     "data": {
      "text/html": [
       "<div>\n",
       "<style scoped>\n",
       "    .dataframe tbody tr th:only-of-type {\n",
       "        vertical-align: middle;\n",
       "    }\n",
       "\n",
       "    .dataframe tbody tr th {\n",
       "        vertical-align: top;\n",
       "    }\n",
       "\n",
       "    .dataframe thead th {\n",
       "        text-align: right;\n",
       "    }\n",
       "</style>\n",
       "<table border=\"1\" class=\"dataframe\">\n",
       "  <thead>\n",
       "    <tr style=\"text-align: right;\">\n",
       "      <th></th>\n",
       "      <th>mean_fit_time</th>\n",
       "      <th>std_fit_time</th>\n",
       "      <th>mean_score_time</th>\n",
       "      <th>std_score_time</th>\n",
       "      <th>param_alpha</th>\n",
       "      <th>params</th>\n",
       "      <th>split0_test_score</th>\n",
       "      <th>split1_test_score</th>\n",
       "      <th>split2_test_score</th>\n",
       "      <th>split3_test_score</th>\n",
       "      <th>...</th>\n",
       "      <th>mean_test_score</th>\n",
       "      <th>std_test_score</th>\n",
       "      <th>rank_test_score</th>\n",
       "      <th>split0_train_score</th>\n",
       "      <th>split1_train_score</th>\n",
       "      <th>split2_train_score</th>\n",
       "      <th>split3_train_score</th>\n",
       "      <th>split4_train_score</th>\n",
       "      <th>mean_train_score</th>\n",
       "      <th>std_train_score</th>\n",
       "    </tr>\n",
       "  </thead>\n",
       "  <tbody>\n",
       "    <tr>\n",
       "      <th>0</th>\n",
       "      <td>0.02</td>\n",
       "      <td>0.00</td>\n",
       "      <td>0.01</td>\n",
       "      <td>0.00</td>\n",
       "      <td>0.00</td>\n",
       "      <td>{'alpha': 0.0001}</td>\n",
       "      <td>-0.08</td>\n",
       "      <td>-0.10</td>\n",
       "      <td>-0.09</td>\n",
       "      <td>-0.09</td>\n",
       "      <td>...</td>\n",
       "      <td>-0.09</td>\n",
       "      <td>0.01</td>\n",
       "      <td>17</td>\n",
       "      <td>-0.06</td>\n",
       "      <td>-0.06</td>\n",
       "      <td>-0.06</td>\n",
       "      <td>-0.06</td>\n",
       "      <td>-0.06</td>\n",
       "      <td>-0.06</td>\n",
       "      <td>0.00</td>\n",
       "    </tr>\n",
       "    <tr>\n",
       "      <th>1</th>\n",
       "      <td>0.02</td>\n",
       "      <td>0.00</td>\n",
       "      <td>0.01</td>\n",
       "      <td>0.00</td>\n",
       "      <td>0.00</td>\n",
       "      <td>{'alpha': 0.001}</td>\n",
       "      <td>-0.08</td>\n",
       "      <td>-0.10</td>\n",
       "      <td>-0.09</td>\n",
       "      <td>-0.09</td>\n",
       "      <td>...</td>\n",
       "      <td>-0.09</td>\n",
       "      <td>0.01</td>\n",
       "      <td>16</td>\n",
       "      <td>-0.06</td>\n",
       "      <td>-0.06</td>\n",
       "      <td>-0.06</td>\n",
       "      <td>-0.06</td>\n",
       "      <td>-0.06</td>\n",
       "      <td>-0.06</td>\n",
       "      <td>0.00</td>\n",
       "    </tr>\n",
       "    <tr>\n",
       "      <th>2</th>\n",
       "      <td>0.01</td>\n",
       "      <td>0.00</td>\n",
       "      <td>0.01</td>\n",
       "      <td>0.00</td>\n",
       "      <td>0.01</td>\n",
       "      <td>{'alpha': 0.01}</td>\n",
       "      <td>-0.08</td>\n",
       "      <td>-0.10</td>\n",
       "      <td>-0.09</td>\n",
       "      <td>-0.09</td>\n",
       "      <td>...</td>\n",
       "      <td>-0.09</td>\n",
       "      <td>0.01</td>\n",
       "      <td>15</td>\n",
       "      <td>-0.06</td>\n",
       "      <td>-0.06</td>\n",
       "      <td>-0.06</td>\n",
       "      <td>-0.06</td>\n",
       "      <td>-0.06</td>\n",
       "      <td>-0.06</td>\n",
       "      <td>0.00</td>\n",
       "    </tr>\n",
       "    <tr>\n",
       "      <th>3</th>\n",
       "      <td>0.01</td>\n",
       "      <td>0.00</td>\n",
       "      <td>0.01</td>\n",
       "      <td>0.00</td>\n",
       "      <td>0.10</td>\n",
       "      <td>{'alpha': 0.1}</td>\n",
       "      <td>-0.08</td>\n",
       "      <td>-0.09</td>\n",
       "      <td>-0.09</td>\n",
       "      <td>-0.09</td>\n",
       "      <td>...</td>\n",
       "      <td>-0.08</td>\n",
       "      <td>0.01</td>\n",
       "      <td>14</td>\n",
       "      <td>-0.06</td>\n",
       "      <td>-0.06</td>\n",
       "      <td>-0.06</td>\n",
       "      <td>-0.06</td>\n",
       "      <td>-0.06</td>\n",
       "      <td>-0.06</td>\n",
       "      <td>0.00</td>\n",
       "    </tr>\n",
       "    <tr>\n",
       "      <th>4</th>\n",
       "      <td>0.03</td>\n",
       "      <td>0.02</td>\n",
       "      <td>0.01</td>\n",
       "      <td>0.00</td>\n",
       "      <td>0.30</td>\n",
       "      <td>{'alpha': 0.3}</td>\n",
       "      <td>-0.08</td>\n",
       "      <td>-0.09</td>\n",
       "      <td>-0.08</td>\n",
       "      <td>-0.09</td>\n",
       "      <td>...</td>\n",
       "      <td>-0.08</td>\n",
       "      <td>0.01</td>\n",
       "      <td>13</td>\n",
       "      <td>-0.06</td>\n",
       "      <td>-0.06</td>\n",
       "      <td>-0.06</td>\n",
       "      <td>-0.06</td>\n",
       "      <td>-0.06</td>\n",
       "      <td>-0.06</td>\n",
       "      <td>0.00</td>\n",
       "    </tr>\n",
       "    <tr>\n",
       "      <th>5</th>\n",
       "      <td>0.01</td>\n",
       "      <td>0.00</td>\n",
       "      <td>0.00</td>\n",
       "      <td>0.00</td>\n",
       "      <td>0.50</td>\n",
       "      <td>{'alpha': 0.5}</td>\n",
       "      <td>-0.07</td>\n",
       "      <td>-0.09</td>\n",
       "      <td>-0.08</td>\n",
       "      <td>-0.09</td>\n",
       "      <td>...</td>\n",
       "      <td>-0.08</td>\n",
       "      <td>0.01</td>\n",
       "      <td>12</td>\n",
       "      <td>-0.06</td>\n",
       "      <td>-0.06</td>\n",
       "      <td>-0.06</td>\n",
       "      <td>-0.06</td>\n",
       "      <td>-0.06</td>\n",
       "      <td>-0.06</td>\n",
       "      <td>0.00</td>\n",
       "    </tr>\n",
       "    <tr>\n",
       "      <th>6</th>\n",
       "      <td>0.01</td>\n",
       "      <td>0.00</td>\n",
       "      <td>0.00</td>\n",
       "      <td>0.00</td>\n",
       "      <td>0.70</td>\n",
       "      <td>{'alpha': 0.7}</td>\n",
       "      <td>-0.07</td>\n",
       "      <td>-0.09</td>\n",
       "      <td>-0.08</td>\n",
       "      <td>-0.09</td>\n",
       "      <td>...</td>\n",
       "      <td>-0.08</td>\n",
       "      <td>0.01</td>\n",
       "      <td>11</td>\n",
       "      <td>-0.06</td>\n",
       "      <td>-0.06</td>\n",
       "      <td>-0.06</td>\n",
       "      <td>-0.06</td>\n",
       "      <td>-0.06</td>\n",
       "      <td>-0.06</td>\n",
       "      <td>0.00</td>\n",
       "    </tr>\n",
       "    <tr>\n",
       "      <th>7</th>\n",
       "      <td>0.01</td>\n",
       "      <td>0.00</td>\n",
       "      <td>0.00</td>\n",
       "      <td>0.00</td>\n",
       "      <td>0.90</td>\n",
       "      <td>{'alpha': 0.9}</td>\n",
       "      <td>-0.07</td>\n",
       "      <td>-0.09</td>\n",
       "      <td>-0.08</td>\n",
       "      <td>-0.08</td>\n",
       "      <td>...</td>\n",
       "      <td>-0.08</td>\n",
       "      <td>0.01</td>\n",
       "      <td>9</td>\n",
       "      <td>-0.06</td>\n",
       "      <td>-0.06</td>\n",
       "      <td>-0.06</td>\n",
       "      <td>-0.06</td>\n",
       "      <td>-0.06</td>\n",
       "      <td>-0.06</td>\n",
       "      <td>0.00</td>\n",
       "    </tr>\n",
       "    <tr>\n",
       "      <th>8</th>\n",
       "      <td>0.01</td>\n",
       "      <td>0.00</td>\n",
       "      <td>0.00</td>\n",
       "      <td>0.00</td>\n",
       "      <td>1</td>\n",
       "      <td>{'alpha': 1}</td>\n",
       "      <td>-0.07</td>\n",
       "      <td>-0.09</td>\n",
       "      <td>-0.08</td>\n",
       "      <td>-0.08</td>\n",
       "      <td>...</td>\n",
       "      <td>-0.08</td>\n",
       "      <td>0.01</td>\n",
       "      <td>8</td>\n",
       "      <td>-0.06</td>\n",
       "      <td>-0.06</td>\n",
       "      <td>-0.06</td>\n",
       "      <td>-0.06</td>\n",
       "      <td>-0.06</td>\n",
       "      <td>-0.06</td>\n",
       "      <td>0.00</td>\n",
       "    </tr>\n",
       "    <tr>\n",
       "      <th>9</th>\n",
       "      <td>0.01</td>\n",
       "      <td>0.00</td>\n",
       "      <td>0.00</td>\n",
       "      <td>0.00</td>\n",
       "      <td>3</td>\n",
       "      <td>{'alpha': 3}</td>\n",
       "      <td>-0.07</td>\n",
       "      <td>-0.09</td>\n",
       "      <td>-0.08</td>\n",
       "      <td>-0.08</td>\n",
       "      <td>...</td>\n",
       "      <td>-0.08</td>\n",
       "      <td>0.00</td>\n",
       "      <td>6</td>\n",
       "      <td>-0.07</td>\n",
       "      <td>-0.06</td>\n",
       "      <td>-0.06</td>\n",
       "      <td>-0.06</td>\n",
       "      <td>-0.07</td>\n",
       "      <td>-0.06</td>\n",
       "      <td>0.00</td>\n",
       "    </tr>\n",
       "    <tr>\n",
       "      <th>10</th>\n",
       "      <td>0.01</td>\n",
       "      <td>0.00</td>\n",
       "      <td>0.00</td>\n",
       "      <td>0.00</td>\n",
       "      <td>5</td>\n",
       "      <td>{'alpha': 5}</td>\n",
       "      <td>-0.07</td>\n",
       "      <td>-0.08</td>\n",
       "      <td>-0.08</td>\n",
       "      <td>-0.08</td>\n",
       "      <td>...</td>\n",
       "      <td>-0.08</td>\n",
       "      <td>0.00</td>\n",
       "      <td>5</td>\n",
       "      <td>-0.07</td>\n",
       "      <td>-0.06</td>\n",
       "      <td>-0.07</td>\n",
       "      <td>-0.06</td>\n",
       "      <td>-0.07</td>\n",
       "      <td>-0.07</td>\n",
       "      <td>0.00</td>\n",
       "    </tr>\n",
       "    <tr>\n",
       "      <th>11</th>\n",
       "      <td>0.01</td>\n",
       "      <td>0.00</td>\n",
       "      <td>0.00</td>\n",
       "      <td>0.00</td>\n",
       "      <td>7</td>\n",
       "      <td>{'alpha': 7}</td>\n",
       "      <td>-0.07</td>\n",
       "      <td>-0.08</td>\n",
       "      <td>-0.08</td>\n",
       "      <td>-0.08</td>\n",
       "      <td>...</td>\n",
       "      <td>-0.08</td>\n",
       "      <td>0.00</td>\n",
       "      <td>4</td>\n",
       "      <td>-0.07</td>\n",
       "      <td>-0.06</td>\n",
       "      <td>-0.07</td>\n",
       "      <td>-0.06</td>\n",
       "      <td>-0.07</td>\n",
       "      <td>-0.07</td>\n",
       "      <td>0.00</td>\n",
       "    </tr>\n",
       "    <tr>\n",
       "      <th>12</th>\n",
       "      <td>0.01</td>\n",
       "      <td>0.00</td>\n",
       "      <td>0.01</td>\n",
       "      <td>0.00</td>\n",
       "      <td>9</td>\n",
       "      <td>{'alpha': 9}</td>\n",
       "      <td>-0.07</td>\n",
       "      <td>-0.08</td>\n",
       "      <td>-0.08</td>\n",
       "      <td>-0.08</td>\n",
       "      <td>...</td>\n",
       "      <td>-0.08</td>\n",
       "      <td>0.00</td>\n",
       "      <td>3</td>\n",
       "      <td>-0.07</td>\n",
       "      <td>-0.06</td>\n",
       "      <td>-0.07</td>\n",
       "      <td>-0.07</td>\n",
       "      <td>-0.07</td>\n",
       "      <td>-0.07</td>\n",
       "      <td>0.00</td>\n",
       "    </tr>\n",
       "    <tr>\n",
       "      <th>13</th>\n",
       "      <td>0.01</td>\n",
       "      <td>0.00</td>\n",
       "      <td>0.00</td>\n",
       "      <td>0.00</td>\n",
       "      <td>10</td>\n",
       "      <td>{'alpha': 10}</td>\n",
       "      <td>-0.07</td>\n",
       "      <td>-0.08</td>\n",
       "      <td>-0.08</td>\n",
       "      <td>-0.08</td>\n",
       "      <td>...</td>\n",
       "      <td>-0.08</td>\n",
       "      <td>0.00</td>\n",
       "      <td>1</td>\n",
       "      <td>-0.07</td>\n",
       "      <td>-0.06</td>\n",
       "      <td>-0.07</td>\n",
       "      <td>-0.07</td>\n",
       "      <td>-0.07</td>\n",
       "      <td>-0.07</td>\n",
       "      <td>0.00</td>\n",
       "    </tr>\n",
       "    <tr>\n",
       "      <th>14</th>\n",
       "      <td>0.01</td>\n",
       "      <td>0.00</td>\n",
       "      <td>0.00</td>\n",
       "      <td>0.00</td>\n",
       "      <td>20</td>\n",
       "      <td>{'alpha': 20}</td>\n",
       "      <td>-0.07</td>\n",
       "      <td>-0.08</td>\n",
       "      <td>-0.08</td>\n",
       "      <td>-0.08</td>\n",
       "      <td>...</td>\n",
       "      <td>-0.08</td>\n",
       "      <td>0.00</td>\n",
       "      <td>2</td>\n",
       "      <td>-0.07</td>\n",
       "      <td>-0.07</td>\n",
       "      <td>-0.07</td>\n",
       "      <td>-0.07</td>\n",
       "      <td>-0.07</td>\n",
       "      <td>-0.07</td>\n",
       "      <td>0.00</td>\n",
       "    </tr>\n",
       "    <tr>\n",
       "      <th>15</th>\n",
       "      <td>0.01</td>\n",
       "      <td>0.00</td>\n",
       "      <td>0.00</td>\n",
       "      <td>0.00</td>\n",
       "      <td>50</td>\n",
       "      <td>{'alpha': 50}</td>\n",
       "      <td>-0.08</td>\n",
       "      <td>-0.08</td>\n",
       "      <td>-0.08</td>\n",
       "      <td>-0.08</td>\n",
       "      <td>...</td>\n",
       "      <td>-0.08</td>\n",
       "      <td>0.00</td>\n",
       "      <td>7</td>\n",
       "      <td>-0.07</td>\n",
       "      <td>-0.07</td>\n",
       "      <td>-0.07</td>\n",
       "      <td>-0.07</td>\n",
       "      <td>-0.07</td>\n",
       "      <td>-0.07</td>\n",
       "      <td>0.00</td>\n",
       "    </tr>\n",
       "    <tr>\n",
       "      <th>16</th>\n",
       "      <td>0.01</td>\n",
       "      <td>0.00</td>\n",
       "      <td>0.01</td>\n",
       "      <td>0.00</td>\n",
       "      <td>100</td>\n",
       "      <td>{'alpha': 100}</td>\n",
       "      <td>-0.08</td>\n",
       "      <td>-0.09</td>\n",
       "      <td>-0.08</td>\n",
       "      <td>-0.09</td>\n",
       "      <td>...</td>\n",
       "      <td>-0.08</td>\n",
       "      <td>0.00</td>\n",
       "      <td>10</td>\n",
       "      <td>-0.08</td>\n",
       "      <td>-0.07</td>\n",
       "      <td>-0.08</td>\n",
       "      <td>-0.07</td>\n",
       "      <td>-0.08</td>\n",
       "      <td>-0.08</td>\n",
       "      <td>0.00</td>\n",
       "    </tr>\n",
       "    <tr>\n",
       "      <th>17</th>\n",
       "      <td>0.01</td>\n",
       "      <td>0.00</td>\n",
       "      <td>0.00</td>\n",
       "      <td>0.00</td>\n",
       "      <td>500</td>\n",
       "      <td>{'alpha': 500}</td>\n",
       "      <td>-0.09</td>\n",
       "      <td>-0.10</td>\n",
       "      <td>-0.09</td>\n",
       "      <td>-0.09</td>\n",
       "      <td>...</td>\n",
       "      <td>-0.09</td>\n",
       "      <td>0.00</td>\n",
       "      <td>18</td>\n",
       "      <td>-0.09</td>\n",
       "      <td>-0.08</td>\n",
       "      <td>-0.09</td>\n",
       "      <td>-0.08</td>\n",
       "      <td>-0.09</td>\n",
       "      <td>-0.09</td>\n",
       "      <td>0.00</td>\n",
       "    </tr>\n",
       "    <tr>\n",
       "      <th>18</th>\n",
       "      <td>0.01</td>\n",
       "      <td>0.00</td>\n",
       "      <td>0.00</td>\n",
       "      <td>0.00</td>\n",
       "      <td>1000</td>\n",
       "      <td>{'alpha': 1000}</td>\n",
       "      <td>-0.09</td>\n",
       "      <td>-0.10</td>\n",
       "      <td>-0.09</td>\n",
       "      <td>-0.10</td>\n",
       "      <td>...</td>\n",
       "      <td>-0.10</td>\n",
       "      <td>0.00</td>\n",
       "      <td>19</td>\n",
       "      <td>-0.09</td>\n",
       "      <td>-0.09</td>\n",
       "      <td>-0.09</td>\n",
       "      <td>-0.09</td>\n",
       "      <td>-0.09</td>\n",
       "      <td>-0.09</td>\n",
       "      <td>0.00</td>\n",
       "    </tr>\n",
       "  </tbody>\n",
       "</table>\n",
       "<p>19 rows × 21 columns</p>\n",
       "</div>"
      ],
      "text/plain": [
       "    mean_fit_time  std_fit_time  mean_score_time  std_score_time param_alpha  \\\n",
       "0            0.02          0.00             0.01            0.00        0.00   \n",
       "1            0.02          0.00             0.01            0.00        0.00   \n",
       "2            0.01          0.00             0.01            0.00        0.01   \n",
       "3            0.01          0.00             0.01            0.00        0.10   \n",
       "4            0.03          0.02             0.01            0.00        0.30   \n",
       "5            0.01          0.00             0.00            0.00        0.50   \n",
       "6            0.01          0.00             0.00            0.00        0.70   \n",
       "7            0.01          0.00             0.00            0.00        0.90   \n",
       "8            0.01          0.00             0.00            0.00           1   \n",
       "9            0.01          0.00             0.00            0.00           3   \n",
       "10           0.01          0.00             0.00            0.00           5   \n",
       "11           0.01          0.00             0.00            0.00           7   \n",
       "12           0.01          0.00             0.01            0.00           9   \n",
       "13           0.01          0.00             0.00            0.00          10   \n",
       "14           0.01          0.00             0.00            0.00          20   \n",
       "15           0.01          0.00             0.00            0.00          50   \n",
       "16           0.01          0.00             0.01            0.00         100   \n",
       "17           0.01          0.00             0.00            0.00         500   \n",
       "18           0.01          0.00             0.00            0.00        1000   \n",
       "\n",
       "               params  split0_test_score  split1_test_score  \\\n",
       "0   {'alpha': 0.0001}              -0.08              -0.10   \n",
       "1    {'alpha': 0.001}              -0.08              -0.10   \n",
       "2     {'alpha': 0.01}              -0.08              -0.10   \n",
       "3      {'alpha': 0.1}              -0.08              -0.09   \n",
       "4      {'alpha': 0.3}              -0.08              -0.09   \n",
       "5      {'alpha': 0.5}              -0.07              -0.09   \n",
       "6      {'alpha': 0.7}              -0.07              -0.09   \n",
       "7      {'alpha': 0.9}              -0.07              -0.09   \n",
       "8        {'alpha': 1}              -0.07              -0.09   \n",
       "9        {'alpha': 3}              -0.07              -0.09   \n",
       "10       {'alpha': 5}              -0.07              -0.08   \n",
       "11       {'alpha': 7}              -0.07              -0.08   \n",
       "12       {'alpha': 9}              -0.07              -0.08   \n",
       "13      {'alpha': 10}              -0.07              -0.08   \n",
       "14      {'alpha': 20}              -0.07              -0.08   \n",
       "15      {'alpha': 50}              -0.08              -0.08   \n",
       "16     {'alpha': 100}              -0.08              -0.09   \n",
       "17     {'alpha': 500}              -0.09              -0.10   \n",
       "18    {'alpha': 1000}              -0.09              -0.10   \n",
       "\n",
       "    split2_test_score  split3_test_score  ...  mean_test_score  \\\n",
       "0               -0.09              -0.09  ...            -0.09   \n",
       "1               -0.09              -0.09  ...            -0.09   \n",
       "2               -0.09              -0.09  ...            -0.09   \n",
       "3               -0.09              -0.09  ...            -0.08   \n",
       "4               -0.08              -0.09  ...            -0.08   \n",
       "5               -0.08              -0.09  ...            -0.08   \n",
       "6               -0.08              -0.09  ...            -0.08   \n",
       "7               -0.08              -0.08  ...            -0.08   \n",
       "8               -0.08              -0.08  ...            -0.08   \n",
       "9               -0.08              -0.08  ...            -0.08   \n",
       "10              -0.08              -0.08  ...            -0.08   \n",
       "11              -0.08              -0.08  ...            -0.08   \n",
       "12              -0.08              -0.08  ...            -0.08   \n",
       "13              -0.08              -0.08  ...            -0.08   \n",
       "14              -0.08              -0.08  ...            -0.08   \n",
       "15              -0.08              -0.08  ...            -0.08   \n",
       "16              -0.08              -0.09  ...            -0.08   \n",
       "17              -0.09              -0.09  ...            -0.09   \n",
       "18              -0.09              -0.10  ...            -0.10   \n",
       "\n",
       "    std_test_score  rank_test_score  split0_train_score  split1_train_score  \\\n",
       "0             0.01               17               -0.06               -0.06   \n",
       "1             0.01               16               -0.06               -0.06   \n",
       "2             0.01               15               -0.06               -0.06   \n",
       "3             0.01               14               -0.06               -0.06   \n",
       "4             0.01               13               -0.06               -0.06   \n",
       "5             0.01               12               -0.06               -0.06   \n",
       "6             0.01               11               -0.06               -0.06   \n",
       "7             0.01                9               -0.06               -0.06   \n",
       "8             0.01                8               -0.06               -0.06   \n",
       "9             0.00                6               -0.07               -0.06   \n",
       "10            0.00                5               -0.07               -0.06   \n",
       "11            0.00                4               -0.07               -0.06   \n",
       "12            0.00                3               -0.07               -0.06   \n",
       "13            0.00                1               -0.07               -0.06   \n",
       "14            0.00                2               -0.07               -0.07   \n",
       "15            0.00                7               -0.07               -0.07   \n",
       "16            0.00               10               -0.08               -0.07   \n",
       "17            0.00               18               -0.09               -0.08   \n",
       "18            0.00               19               -0.09               -0.09   \n",
       "\n",
       "    split2_train_score  split3_train_score  split4_train_score  \\\n",
       "0                -0.06               -0.06               -0.06   \n",
       "1                -0.06               -0.06               -0.06   \n",
       "2                -0.06               -0.06               -0.06   \n",
       "3                -0.06               -0.06               -0.06   \n",
       "4                -0.06               -0.06               -0.06   \n",
       "5                -0.06               -0.06               -0.06   \n",
       "6                -0.06               -0.06               -0.06   \n",
       "7                -0.06               -0.06               -0.06   \n",
       "8                -0.06               -0.06               -0.06   \n",
       "9                -0.06               -0.06               -0.07   \n",
       "10               -0.07               -0.06               -0.07   \n",
       "11               -0.07               -0.06               -0.07   \n",
       "12               -0.07               -0.07               -0.07   \n",
       "13               -0.07               -0.07               -0.07   \n",
       "14               -0.07               -0.07               -0.07   \n",
       "15               -0.07               -0.07               -0.07   \n",
       "16               -0.08               -0.07               -0.08   \n",
       "17               -0.09               -0.08               -0.09   \n",
       "18               -0.09               -0.09               -0.09   \n",
       "\n",
       "    mean_train_score  std_train_score  \n",
       "0              -0.06             0.00  \n",
       "1              -0.06             0.00  \n",
       "2              -0.06             0.00  \n",
       "3              -0.06             0.00  \n",
       "4              -0.06             0.00  \n",
       "5              -0.06             0.00  \n",
       "6              -0.06             0.00  \n",
       "7              -0.06             0.00  \n",
       "8              -0.06             0.00  \n",
       "9              -0.06             0.00  \n",
       "10             -0.07             0.00  \n",
       "11             -0.07             0.00  \n",
       "12             -0.07             0.00  \n",
       "13             -0.07             0.00  \n",
       "14             -0.07             0.00  \n",
       "15             -0.07             0.00  \n",
       "16             -0.08             0.00  \n",
       "17             -0.09             0.00  \n",
       "18             -0.09             0.00  \n",
       "\n",
       "[19 rows x 21 columns]"
      ]
     },
     "execution_count": 106,
     "metadata": {},
     "output_type": "execute_result"
    }
   ],
   "source": [
    "cv_results = pd.DataFrame(model_cv.cv_results_)\n",
    "cv_results = cv_results[cv_results['param_alpha']<=1000]\n",
    "cv_results"
   ]
  },
  {
   "cell_type": "code",
   "execution_count": 107,
   "id": "1dc3c3b4",
   "metadata": {},
   "outputs": [
    {
     "data": {
      "image/png": "[encoded data removed]",
      "text/plain": [
       "<Figure size 1152x360 with 1 Axes>"
      ]
     },
     "metadata": {
      "needs_background": "light"
     },
     "output_type": "display_data"
    }
   ],
   "source": [
    "# plotting mean test and train scoes with alpha \n",
    "cv_results['param_alpha'] = cv_results['param_alpha'].astype('int32')\n",
    "plt.figure(figsize=(16,5))\n",
    "\n",
    "# plotting\n",
    "plt.plot(cv_results['param_alpha'], cv_results['mean_train_score'])\n",
    "plt.plot(cv_results['param_alpha'], cv_results['mean_test_score'])\n",
    "plt.xlabel('alpha')\n",
    "plt.ylabel('Negative Mean Absolute Error')\n",
    "plt.title(\"Negative Mean Absolute Error and alpha\")\n",
    "plt.legend(['train score', 'test score'], loc='upper right')\n",
    "#mejor=int(model_cv.best_params_[1])\n",
    "\n",
    "plt.axvline(x = model_cv.best_params_['alpha'], color = 'black', label = 'best')\n",
    "plt.show()"
   ]
  },
  {
   "cell_type": "code",
   "execution_count": 108,
   "id": "a334089c",
   "metadata": {},
   "outputs": [
    {
     "data": {
      "text/plain": [
       "array([ 4.46002004e-04,  5.11363584e-06,  2.30678601e-02,  9.23439548e-03,\n",
       "        4.66586153e-02,  4.27436924e-02,  3.14484902e-05,  6.26380570e-02,\n",
       "        1.24522203e-04, -3.78216956e-03, -4.05750978e-02,  3.29402325e-02,\n",
       "        1.06492313e-04,  0.00000000e+00,  3.30904348e-06, -5.02503497e-04,\n",
       "        1.21506125e-04,  3.71561317e-02,  1.22067723e-04, -2.06571852e-03,\n",
       "       -2.18533749e-05,  3.32449040e-03, -9.41277970e-04,  6.08755050e-02,\n",
       "       -4.09358414e-02, -1.31971417e-02, -3.82092936e-03,  1.10050344e-02,\n",
       "       -3.10547243e-02, -2.72204278e-03,  6.54941115e-03,  2.52919847e-02,\n",
       "       -2.00605001e-03,  4.71453858e-02, -9.96838037e-04,  2.01078982e-03,\n",
       "        4.14483917e-03, -5.95859278e-03,  6.12309483e-02,  3.27787662e-02,\n",
       "        6.98702097e-02,  4.67933359e-02, -5.04661492e-03, -2.03917580e-03,\n",
       "        5.34486594e-03,  8.38853917e-04,  3.48768248e-03,  1.34552944e-02,\n",
       "       -2.06818201e-02, -2.79601785e-03,  2.01575571e-02, -2.04933588e-02,\n",
       "       -1.20881748e-02, -6.48274006e-03, -2.12278242e-03, -8.75279971e-03,\n",
       "        3.85627353e-04,  2.30361567e-03,  2.64587958e-02, -7.56985980e-04,\n",
       "        3.82247968e-03,  7.52737196e-02, -3.81863788e-02, -5.47452614e-03,\n",
       "       -2.29620001e-02, -2.46626181e-02, -3.01640111e-02, -3.25045503e-03,\n",
       "        7.27559012e-03, -1.33928723e-02, -2.58423393e-02, -5.35012506e-03,\n",
       "       -3.68044515e-02, -1.62628370e-02,  3.21950730e-03,  8.66830822e-03,\n",
       "        6.11597370e-02,  4.67469669e-02, -8.63989383e-03,  1.61097370e-02,\n",
       "        2.00239578e-02,  5.97322976e-02, -1.30517064e-02,  1.23717446e-02,\n",
       "       -3.03850724e-02,  1.74232832e-02, -3.10746124e-03,  1.87717899e-02,\n",
       "        5.43434607e-03,  8.70122636e-03,  1.36075210e-02, -4.97156436e-03,\n",
       "       -7.78988556e-03, -6.46587203e-03, -3.82092936e-03, -5.95859278e-03,\n",
       "       -3.43313699e-02, -1.69388854e-02,  3.23869575e-03, -1.33808228e-02,\n",
       "       -2.78935186e-02,  1.15370204e-02, -4.11168929e-03, -3.77896673e-04,\n",
       "        6.99252817e-03, -8.37145826e-04, -1.62099640e-02,  8.13284573e-03,\n",
       "        1.99788305e-02,  1.32167609e-02,  0.00000000e+00,  4.79975654e-03,\n",
       "       -5.42025098e-03, -3.61597387e-02,  3.43005977e-03, -9.48648743e-04,\n",
       "        0.00000000e+00, -2.59469241e-02,  5.64294577e-02, -3.71303578e-03,\n",
       "       -3.50579984e-03, -1.76438079e-02,  3.49808634e-03,  1.33509993e-02,\n",
       "        2.10079260e-03, -4.76233400e-03,  1.75800894e-02, -4.60612554e-03,\n",
       "       -2.05560401e-02,  1.64224593e-02,  5.57881457e-03, -1.03371852e-02,\n",
       "       -8.63308279e-03, -3.71303578e-03,  6.81435503e-03,  6.71181018e-03,\n",
       "        4.70887866e-04, -6.86292466e-04,  0.00000000e+00,  3.66463236e-03,\n",
       "        8.80627119e-03,  5.74872025e-03, -2.24219088e-03,  2.07013893e-02,\n",
       "       -1.18261162e-02,  1.03061432e-02, -3.14616426e-04,  1.07062050e-02,\n",
       "        2.52167381e-02, -1.81946007e-02, -4.07471310e-03, -8.78165227e-03,\n",
       "       -2.18586684e-02, -6.62337614e-03,  4.68889307e-03,  9.26836988e-03,\n",
       "       -4.73614054e-03,  2.40546717e-02, -9.19677117e-03, -5.05773386e-03,\n",
       "        6.03577795e-03,  7.11777825e-04, -3.96003678e-02,  2.22165192e-03,\n",
       "       -2.72560062e-02,  1.59247197e-02,  2.22165192e-03,  1.08817017e-02,\n",
       "        2.29947073e-02,  5.31372421e-02, -6.78244813e-03, -1.11753964e-02,\n",
       "       -2.57015989e-03,  4.49225749e-03, -1.09809956e-02,  2.22165192e-03,\n",
       "       -7.62795104e-03, -4.74614477e-02, -3.72928045e-02,  1.11881334e-02,\n",
       "        7.64887471e-03, -4.89679650e-03, -2.35933532e-02,  9.25301835e-03,\n",
       "       -6.97565045e-04,  1.81927378e-02, -3.18504494e-02, -1.04142195e-03,\n",
       "        1.53966986e-02, -2.47170253e-02, -1.55909142e-02, -4.67089748e-03,\n",
       "       -2.47294004e-02,  9.13111667e-03, -4.15816384e-03,  2.73240900e-03,\n",
       "       -8.69877246e-03, -1.40969247e-02, -3.35230365e-02, -2.46584979e-02,\n",
       "       -5.32248343e-02,  2.42840807e-02,  1.92911088e-02, -1.92235033e-02,\n",
       "       -2.19080278e-02,  6.47284676e-02, -8.31999763e-03,  1.70651485e-02,\n",
       "       -2.09619984e-02,  1.75165141e-04,  1.40024764e-02,  1.51856666e-02,\n",
       "       -5.67817558e-03,  1.05494555e-02, -1.73951645e-02,  1.29869013e-02,\n",
       "        2.27097131e-03,  2.27097131e-03, -5.23322776e-03, -7.39884750e-03,\n",
       "       -2.56978922e-02,  1.22704782e-02,  2.27097131e-03,  3.74490956e-03,\n",
       "        2.96274338e-03,  5.02904459e-03,  3.15683701e-02, -1.42687478e-02,\n",
       "        1.01675453e-02, -3.17051900e-03,  9.86918755e-03, -7.00128344e-03,\n",
       "       -6.62791565e-03,  1.85218339e-02,  6.37652520e-03,  4.00289661e-02,\n",
       "       -1.31639050e-02,  2.45968509e-04,  6.28090919e-02, -3.16077215e-03,\n",
       "       -1.25277866e-02,  2.39336362e-02, -3.41514318e-03,  3.86964827e-02,\n",
       "        5.20065617e-02,  2.46866589e-02])"
      ]
     },
     "execution_count": 108,
     "metadata": {},
     "output_type": "execute_result"
    }
   ],
   "source": [
    "alpha = model_cv.best_params_['alpha']\n",
    "ridge = Ridge(alpha=alpha)\n",
    "\n",
    "ridge.fit(X_train, y_train)\n",
    "ridge.coef_"
   ]
  },
  {
   "cell_type": "code",
   "execution_count": 109,
   "id": "741d1aa1",
   "metadata": {},
   "outputs": [
    {
     "name": "stdout",
     "output_type": "stream",
     "text": [
      "R2 Train Score:  0.9401331629301428\n",
      "Mean Squared Train Error Train:  0.009057787390044689\n",
      "Mean Squared Train Error Test:  0.013658096599928553\n"
     ]
    }
   ],
   "source": [
    "y_pred_train_ridge = ridge.predict(X_train)\n",
    "y_pred_test_ridge = ridge.predict(X_test)\n",
    "\n",
    "# metric_lr = []\n",
    "r2_train_ridge = r2_score(y_train, y_pred_train_ridge)\n",
    "print(\"R2 Train Score: \", r2_train_ridge)\n",
    "# metric_lr.append(r2_train_lr)\n",
    "\n",
    "mse_train_ridge = mean_squared_error(y_train, y_pred_train_ridge)\n",
    "print(\"Mean Squared Train Error Train: \", mse_train_ridge)\n",
    "mse_test_ridge = mean_squared_error(y_test, y_pred_test_ridge)\n",
    "print(\"Mean Squared Train Error Test: \", mse_test_ridge)\n",
    "#metric_lr.append(mse_train_lr**0.5)"
   ]
  },
  {
   "attachments": {},
   "cell_type": "markdown",
   "id": "18508adc",
   "metadata": {},
   "source": [
    "### Lasso Regression"
   ]
  },
  {
   "cell_type": "code",
   "execution_count": 110,
   "id": "45f2fcc1",
   "metadata": {},
   "outputs": [
    {
     "name": "stdout",
     "output_type": "stream",
     "text": [
      "Fitting 5 folds for each of 19 candidates, totalling 95 fits\n"
     ]
    },
    {
     "data": {
      "text/plain": [
       "GridSearchCV(cv=5, estimator=Lasso(),\n",
       "             param_grid={'alpha': [0.0001, 0.001, 0.01, 0.1, 0.3, 0.5, 0.7, 0.9,\n",
       "                                   1, 3, 5, 7, 9, 10, 20, 50, 100, 500, 1000]},\n",
       "             return_train_score=True, scoring='neg_mean_absolute_error',\n",
       "             verbose=1)"
      ]
     },
     "execution_count": 110,
     "metadata": {},
     "output_type": "execute_result"
    }
   ],
   "source": [
    "lasso = Lasso()\n",
    "\n",
    "# cross validation\n",
    "model_cv = GridSearchCV(estimator = lasso,param_grid = parametros,scoring= 'neg_mean_absolute_error', cv = folds, return_train_score=True, verbose = 1)            \n",
    "\n",
    "model_cv.fit(X_train, y_train) "
   ]
  },
  {
   "cell_type": "code",
   "execution_count": 111,
   "id": "cc41842d",
   "metadata": {},
   "outputs": [
    {
     "data": {
      "text/html": [
       "<div>\n",
       "<style scoped>\n",
       "    .dataframe tbody tr th:only-of-type {\n",
       "        vertical-align: middle;\n",
       "    }\n",
       "\n",
       "    .dataframe tbody tr th {\n",
       "        vertical-align: top;\n",
       "    }\n",
       "\n",
       "    .dataframe thead th {\n",
       "        text-align: right;\n",
       "    }\n",
       "</style>\n",
       "<table border=\"1\" class=\"dataframe\">\n",
       "  <thead>\n",
       "    <tr style=\"text-align: right;\">\n",
       "      <th></th>\n",
       "      <th>mean_fit_time</th>\n",
       "      <th>std_fit_time</th>\n",
       "      <th>mean_score_time</th>\n",
       "      <th>std_score_time</th>\n",
       "      <th>param_alpha</th>\n",
       "      <th>params</th>\n",
       "      <th>split0_test_score</th>\n",
       "      <th>split1_test_score</th>\n",
       "      <th>split2_test_score</th>\n",
       "      <th>split3_test_score</th>\n",
       "      <th>...</th>\n",
       "      <th>mean_test_score</th>\n",
       "      <th>std_test_score</th>\n",
       "      <th>rank_test_score</th>\n",
       "      <th>split0_train_score</th>\n",
       "      <th>split1_train_score</th>\n",
       "      <th>split2_train_score</th>\n",
       "      <th>split3_train_score</th>\n",
       "      <th>split4_train_score</th>\n",
       "      <th>mean_train_score</th>\n",
       "      <th>std_train_score</th>\n",
       "    </tr>\n",
       "  </thead>\n",
       "  <tbody>\n",
       "    <tr>\n",
       "      <th>0</th>\n",
       "      <td>0.10</td>\n",
       "      <td>0.03</td>\n",
       "      <td>0.01</td>\n",
       "      <td>0.00</td>\n",
       "      <td>0.00</td>\n",
       "      <td>{'alpha': 0.0001}</td>\n",
       "      <td>-0.07</td>\n",
       "      <td>-0.09</td>\n",
       "      <td>-0.08</td>\n",
       "      <td>-0.08</td>\n",
       "      <td>...</td>\n",
       "      <td>-0.08</td>\n",
       "      <td>0.01</td>\n",
       "      <td>2</td>\n",
       "      <td>-0.06</td>\n",
       "      <td>-0.06</td>\n",
       "      <td>-0.06</td>\n",
       "      <td>-0.06</td>\n",
       "      <td>-0.06</td>\n",
       "      <td>-0.06</td>\n",
       "      <td>0.00</td>\n",
       "    </tr>\n",
       "    <tr>\n",
       "      <th>1</th>\n",
       "      <td>0.03</td>\n",
       "      <td>0.01</td>\n",
       "      <td>0.01</td>\n",
       "      <td>0.00</td>\n",
       "      <td>0.00</td>\n",
       "      <td>{'alpha': 0.001}</td>\n",
       "      <td>-0.08</td>\n",
       "      <td>-0.08</td>\n",
       "      <td>-0.08</td>\n",
       "      <td>-0.08</td>\n",
       "      <td>...</td>\n",
       "      <td>-0.08</td>\n",
       "      <td>0.00</td>\n",
       "      <td>1</td>\n",
       "      <td>-0.07</td>\n",
       "      <td>-0.07</td>\n",
       "      <td>-0.07</td>\n",
       "      <td>-0.07</td>\n",
       "      <td>-0.07</td>\n",
       "      <td>-0.07</td>\n",
       "      <td>0.00</td>\n",
       "    </tr>\n",
       "    <tr>\n",
       "      <th>2</th>\n",
       "      <td>0.02</td>\n",
       "      <td>0.00</td>\n",
       "      <td>0.00</td>\n",
       "      <td>0.00</td>\n",
       "      <td>0.01</td>\n",
       "      <td>{'alpha': 0.01}</td>\n",
       "      <td>-0.09</td>\n",
       "      <td>-0.10</td>\n",
       "      <td>-0.09</td>\n",
       "      <td>-0.10</td>\n",
       "      <td>...</td>\n",
       "      <td>-0.09</td>\n",
       "      <td>0.00</td>\n",
       "      <td>3</td>\n",
       "      <td>-0.09</td>\n",
       "      <td>-0.09</td>\n",
       "      <td>-0.09</td>\n",
       "      <td>-0.09</td>\n",
       "      <td>-0.09</td>\n",
       "      <td>-0.09</td>\n",
       "      <td>0.00</td>\n",
       "    </tr>\n",
       "    <tr>\n",
       "      <th>3</th>\n",
       "      <td>0.01</td>\n",
       "      <td>0.00</td>\n",
       "      <td>0.00</td>\n",
       "      <td>0.00</td>\n",
       "      <td>0.10</td>\n",
       "      <td>{'alpha': 0.1}</td>\n",
       "      <td>-0.11</td>\n",
       "      <td>-0.12</td>\n",
       "      <td>-0.11</td>\n",
       "      <td>-0.12</td>\n",
       "      <td>...</td>\n",
       "      <td>-0.11</td>\n",
       "      <td>0.00</td>\n",
       "      <td>4</td>\n",
       "      <td>-0.11</td>\n",
       "      <td>-0.11</td>\n",
       "      <td>-0.11</td>\n",
       "      <td>-0.11</td>\n",
       "      <td>-0.11</td>\n",
       "      <td>-0.11</td>\n",
       "      <td>0.00</td>\n",
       "    </tr>\n",
       "    <tr>\n",
       "      <th>4</th>\n",
       "      <td>0.01</td>\n",
       "      <td>0.00</td>\n",
       "      <td>0.00</td>\n",
       "      <td>0.00</td>\n",
       "      <td>0.30</td>\n",
       "      <td>{'alpha': 0.3}</td>\n",
       "      <td>-0.11</td>\n",
       "      <td>-0.12</td>\n",
       "      <td>-0.11</td>\n",
       "      <td>-0.12</td>\n",
       "      <td>...</td>\n",
       "      <td>-0.12</td>\n",
       "      <td>0.00</td>\n",
       "      <td>5</td>\n",
       "      <td>-0.11</td>\n",
       "      <td>-0.11</td>\n",
       "      <td>-0.11</td>\n",
       "      <td>-0.11</td>\n",
       "      <td>-0.11</td>\n",
       "      <td>-0.11</td>\n",
       "      <td>0.00</td>\n",
       "    </tr>\n",
       "    <tr>\n",
       "      <th>5</th>\n",
       "      <td>0.02</td>\n",
       "      <td>0.02</td>\n",
       "      <td>0.00</td>\n",
       "      <td>0.00</td>\n",
       "      <td>0.50</td>\n",
       "      <td>{'alpha': 0.5}</td>\n",
       "      <td>-0.11</td>\n",
       "      <td>-0.12</td>\n",
       "      <td>-0.11</td>\n",
       "      <td>-0.12</td>\n",
       "      <td>...</td>\n",
       "      <td>-0.12</td>\n",
       "      <td>0.00</td>\n",
       "      <td>6</td>\n",
       "      <td>-0.12</td>\n",
       "      <td>-0.11</td>\n",
       "      <td>-0.11</td>\n",
       "      <td>-0.11</td>\n",
       "      <td>-0.12</td>\n",
       "      <td>-0.11</td>\n",
       "      <td>0.00</td>\n",
       "    </tr>\n",
       "    <tr>\n",
       "      <th>6</th>\n",
       "      <td>0.02</td>\n",
       "      <td>0.00</td>\n",
       "      <td>0.00</td>\n",
       "      <td>0.00</td>\n",
       "      <td>0.70</td>\n",
       "      <td>{'alpha': 0.7}</td>\n",
       "      <td>-0.12</td>\n",
       "      <td>-0.12</td>\n",
       "      <td>-0.12</td>\n",
       "      <td>-0.12</td>\n",
       "      <td>...</td>\n",
       "      <td>-0.12</td>\n",
       "      <td>0.00</td>\n",
       "      <td>7</td>\n",
       "      <td>-0.12</td>\n",
       "      <td>-0.11</td>\n",
       "      <td>-0.12</td>\n",
       "      <td>-0.11</td>\n",
       "      <td>-0.12</td>\n",
       "      <td>-0.12</td>\n",
       "      <td>0.00</td>\n",
       "    </tr>\n",
       "    <tr>\n",
       "      <th>7</th>\n",
       "      <td>0.02</td>\n",
       "      <td>0.00</td>\n",
       "      <td>0.01</td>\n",
       "      <td>0.00</td>\n",
       "      <td>0.90</td>\n",
       "      <td>{'alpha': 0.9}</td>\n",
       "      <td>-0.12</td>\n",
       "      <td>-0.12</td>\n",
       "      <td>-0.12</td>\n",
       "      <td>-0.12</td>\n",
       "      <td>...</td>\n",
       "      <td>-0.12</td>\n",
       "      <td>0.00</td>\n",
       "      <td>8</td>\n",
       "      <td>-0.12</td>\n",
       "      <td>-0.12</td>\n",
       "      <td>-0.12</td>\n",
       "      <td>-0.12</td>\n",
       "      <td>-0.12</td>\n",
       "      <td>-0.12</td>\n",
       "      <td>0.00</td>\n",
       "    </tr>\n",
       "    <tr>\n",
       "      <th>8</th>\n",
       "      <td>0.01</td>\n",
       "      <td>0.00</td>\n",
       "      <td>0.00</td>\n",
       "      <td>0.00</td>\n",
       "      <td>1</td>\n",
       "      <td>{'alpha': 1}</td>\n",
       "      <td>-0.12</td>\n",
       "      <td>-0.13</td>\n",
       "      <td>-0.12</td>\n",
       "      <td>-0.12</td>\n",
       "      <td>...</td>\n",
       "      <td>-0.12</td>\n",
       "      <td>0.00</td>\n",
       "      <td>9</td>\n",
       "      <td>-0.12</td>\n",
       "      <td>-0.12</td>\n",
       "      <td>-0.12</td>\n",
       "      <td>-0.12</td>\n",
       "      <td>-0.12</td>\n",
       "      <td>-0.12</td>\n",
       "      <td>0.00</td>\n",
       "    </tr>\n",
       "    <tr>\n",
       "      <th>9</th>\n",
       "      <td>0.01</td>\n",
       "      <td>0.00</td>\n",
       "      <td>0.00</td>\n",
       "      <td>0.00</td>\n",
       "      <td>3</td>\n",
       "      <td>{'alpha': 3}</td>\n",
       "      <td>-0.15</td>\n",
       "      <td>-0.15</td>\n",
       "      <td>-0.16</td>\n",
       "      <td>-0.15</td>\n",
       "      <td>...</td>\n",
       "      <td>-0.15</td>\n",
       "      <td>0.00</td>\n",
       "      <td>10</td>\n",
       "      <td>-0.15</td>\n",
       "      <td>-0.15</td>\n",
       "      <td>-0.15</td>\n",
       "      <td>-0.15</td>\n",
       "      <td>-0.15</td>\n",
       "      <td>-0.15</td>\n",
       "      <td>0.00</td>\n",
       "    </tr>\n",
       "    <tr>\n",
       "      <th>10</th>\n",
       "      <td>0.01</td>\n",
       "      <td>0.00</td>\n",
       "      <td>0.00</td>\n",
       "      <td>0.00</td>\n",
       "      <td>5</td>\n",
       "      <td>{'alpha': 5}</td>\n",
       "      <td>-0.16</td>\n",
       "      <td>-0.16</td>\n",
       "      <td>-0.16</td>\n",
       "      <td>-0.16</td>\n",
       "      <td>...</td>\n",
       "      <td>-0.16</td>\n",
       "      <td>0.00</td>\n",
       "      <td>11</td>\n",
       "      <td>-0.16</td>\n",
       "      <td>-0.16</td>\n",
       "      <td>-0.16</td>\n",
       "      <td>-0.16</td>\n",
       "      <td>-0.16</td>\n",
       "      <td>-0.16</td>\n",
       "      <td>0.00</td>\n",
       "    </tr>\n",
       "    <tr>\n",
       "      <th>11</th>\n",
       "      <td>0.01</td>\n",
       "      <td>0.00</td>\n",
       "      <td>0.01</td>\n",
       "      <td>0.00</td>\n",
       "      <td>7</td>\n",
       "      <td>{'alpha': 7}</td>\n",
       "      <td>-0.16</td>\n",
       "      <td>-0.16</td>\n",
       "      <td>-0.16</td>\n",
       "      <td>-0.16</td>\n",
       "      <td>...</td>\n",
       "      <td>-0.16</td>\n",
       "      <td>0.00</td>\n",
       "      <td>12</td>\n",
       "      <td>-0.16</td>\n",
       "      <td>-0.16</td>\n",
       "      <td>-0.16</td>\n",
       "      <td>-0.16</td>\n",
       "      <td>-0.16</td>\n",
       "      <td>-0.16</td>\n",
       "      <td>0.00</td>\n",
       "    </tr>\n",
       "    <tr>\n",
       "      <th>12</th>\n",
       "      <td>0.01</td>\n",
       "      <td>0.00</td>\n",
       "      <td>0.01</td>\n",
       "      <td>0.00</td>\n",
       "      <td>9</td>\n",
       "      <td>{'alpha': 9}</td>\n",
       "      <td>-0.16</td>\n",
       "      <td>-0.16</td>\n",
       "      <td>-0.17</td>\n",
       "      <td>-0.16</td>\n",
       "      <td>...</td>\n",
       "      <td>-0.16</td>\n",
       "      <td>0.00</td>\n",
       "      <td>13</td>\n",
       "      <td>-0.16</td>\n",
       "      <td>-0.16</td>\n",
       "      <td>-0.16</td>\n",
       "      <td>-0.16</td>\n",
       "      <td>-0.16</td>\n",
       "      <td>-0.16</td>\n",
       "      <td>0.00</td>\n",
       "    </tr>\n",
       "    <tr>\n",
       "      <th>13</th>\n",
       "      <td>0.02</td>\n",
       "      <td>0.00</td>\n",
       "      <td>0.01</td>\n",
       "      <td>0.00</td>\n",
       "      <td>10</td>\n",
       "      <td>{'alpha': 10}</td>\n",
       "      <td>-0.16</td>\n",
       "      <td>-0.16</td>\n",
       "      <td>-0.17</td>\n",
       "      <td>-0.16</td>\n",
       "      <td>...</td>\n",
       "      <td>-0.16</td>\n",
       "      <td>0.00</td>\n",
       "      <td>14</td>\n",
       "      <td>-0.16</td>\n",
       "      <td>-0.16</td>\n",
       "      <td>-0.16</td>\n",
       "      <td>-0.16</td>\n",
       "      <td>-0.16</td>\n",
       "      <td>-0.16</td>\n",
       "      <td>0.00</td>\n",
       "    </tr>\n",
       "    <tr>\n",
       "      <th>14</th>\n",
       "      <td>0.01</td>\n",
       "      <td>0.00</td>\n",
       "      <td>0.01</td>\n",
       "      <td>0.00</td>\n",
       "      <td>20</td>\n",
       "      <td>{'alpha': 20}</td>\n",
       "      <td>-0.17</td>\n",
       "      <td>-0.16</td>\n",
       "      <td>-0.17</td>\n",
       "      <td>-0.16</td>\n",
       "      <td>...</td>\n",
       "      <td>-0.17</td>\n",
       "      <td>0.00</td>\n",
       "      <td>15</td>\n",
       "      <td>-0.16</td>\n",
       "      <td>-0.16</td>\n",
       "      <td>-0.16</td>\n",
       "      <td>-0.17</td>\n",
       "      <td>-0.17</td>\n",
       "      <td>-0.17</td>\n",
       "      <td>0.00</td>\n",
       "    </tr>\n",
       "    <tr>\n",
       "      <th>15</th>\n",
       "      <td>0.01</td>\n",
       "      <td>0.00</td>\n",
       "      <td>0.00</td>\n",
       "      <td>0.00</td>\n",
       "      <td>50</td>\n",
       "      <td>{'alpha': 50}</td>\n",
       "      <td>-0.18</td>\n",
       "      <td>-0.17</td>\n",
       "      <td>-0.18</td>\n",
       "      <td>-0.18</td>\n",
       "      <td>...</td>\n",
       "      <td>-0.18</td>\n",
       "      <td>0.00</td>\n",
       "      <td>16</td>\n",
       "      <td>-0.18</td>\n",
       "      <td>-0.18</td>\n",
       "      <td>-0.18</td>\n",
       "      <td>-0.18</td>\n",
       "      <td>-0.18</td>\n",
       "      <td>-0.18</td>\n",
       "      <td>0.00</td>\n",
       "    </tr>\n",
       "    <tr>\n",
       "      <th>16</th>\n",
       "      <td>0.01</td>\n",
       "      <td>0.00</td>\n",
       "      <td>0.00</td>\n",
       "      <td>0.00</td>\n",
       "      <td>100</td>\n",
       "      <td>{'alpha': 100}</td>\n",
       "      <td>-0.21</td>\n",
       "      <td>-0.19</td>\n",
       "      <td>-0.21</td>\n",
       "      <td>-0.21</td>\n",
       "      <td>...</td>\n",
       "      <td>-0.20</td>\n",
       "      <td>0.01</td>\n",
       "      <td>17</td>\n",
       "      <td>-0.20</td>\n",
       "      <td>-0.20</td>\n",
       "      <td>-0.20</td>\n",
       "      <td>-0.20</td>\n",
       "      <td>-0.20</td>\n",
       "      <td>-0.20</td>\n",
       "      <td>0.00</td>\n",
       "    </tr>\n",
       "    <tr>\n",
       "      <th>17</th>\n",
       "      <td>0.01</td>\n",
       "      <td>0.00</td>\n",
       "      <td>0.01</td>\n",
       "      <td>0.00</td>\n",
       "      <td>500</td>\n",
       "      <td>{'alpha': 500}</td>\n",
       "      <td>-0.30</td>\n",
       "      <td>-0.25</td>\n",
       "      <td>-0.31</td>\n",
       "      <td>-0.31</td>\n",
       "      <td>...</td>\n",
       "      <td>-0.29</td>\n",
       "      <td>0.02</td>\n",
       "      <td>18</td>\n",
       "      <td>-0.29</td>\n",
       "      <td>-0.30</td>\n",
       "      <td>-0.29</td>\n",
       "      <td>-0.29</td>\n",
       "      <td>-0.29</td>\n",
       "      <td>-0.29</td>\n",
       "      <td>0.00</td>\n",
       "    </tr>\n",
       "    <tr>\n",
       "      <th>18</th>\n",
       "      <td>0.01</td>\n",
       "      <td>0.00</td>\n",
       "      <td>0.01</td>\n",
       "      <td>0.00</td>\n",
       "      <td>1000</td>\n",
       "      <td>{'alpha': 1000}</td>\n",
       "      <td>-0.31</td>\n",
       "      <td>-0.26</td>\n",
       "      <td>-0.32</td>\n",
       "      <td>-0.32</td>\n",
       "      <td>...</td>\n",
       "      <td>-0.30</td>\n",
       "      <td>0.02</td>\n",
       "      <td>19</td>\n",
       "      <td>-0.30</td>\n",
       "      <td>-0.31</td>\n",
       "      <td>-0.30</td>\n",
       "      <td>-0.30</td>\n",
       "      <td>-0.30</td>\n",
       "      <td>-0.30</td>\n",
       "      <td>0.01</td>\n",
       "    </tr>\n",
       "  </tbody>\n",
       "</table>\n",
       "<p>19 rows × 21 columns</p>\n",
       "</div>"
      ],
      "text/plain": [
       "    mean_fit_time  std_fit_time  mean_score_time  std_score_time param_alpha  \\\n",
       "0            0.10          0.03             0.01            0.00        0.00   \n",
       "1            0.03          0.01             0.01            0.00        0.00   \n",
       "2            0.02          0.00             0.00            0.00        0.01   \n",
       "3            0.01          0.00             0.00            0.00        0.10   \n",
       "4            0.01          0.00             0.00            0.00        0.30   \n",
       "5            0.02          0.02             0.00            0.00        0.50   \n",
       "6            0.02          0.00             0.00            0.00        0.70   \n",
       "7            0.02          0.00             0.01            0.00        0.90   \n",
       "8            0.01          0.00             0.00            0.00           1   \n",
       "9            0.01          0.00             0.00            0.00           3   \n",
       "10           0.01          0.00             0.00            0.00           5   \n",
       "11           0.01          0.00             0.01            0.00           7   \n",
       "12           0.01          0.00             0.01            0.00           9   \n",
       "13           0.02          0.00             0.01            0.00          10   \n",
       "14           0.01          0.00             0.01            0.00          20   \n",
       "15           0.01          0.00             0.00            0.00          50   \n",
       "16           0.01          0.00             0.00            0.00         100   \n",
       "17           0.01          0.00             0.01            0.00         500   \n",
       "18           0.01          0.00             0.01            0.00        1000   \n",
       "\n",
       "               params  split0_test_score  split1_test_score  \\\n",
       "0   {'alpha': 0.0001}              -0.07              -0.09   \n",
       "1    {'alpha': 0.001}              -0.08              -0.08   \n",
       "2     {'alpha': 0.01}              -0.09              -0.10   \n",
       "3      {'alpha': 0.1}              -0.11              -0.12   \n",
       "4      {'alpha': 0.3}              -0.11              -0.12   \n",
       "5      {'alpha': 0.5}              -0.11              -0.12   \n",
       "6      {'alpha': 0.7}              -0.12              -0.12   \n",
       "7      {'alpha': 0.9}              -0.12              -0.12   \n",
       "8        {'alpha': 1}              -0.12              -0.13   \n",
       "9        {'alpha': 3}              -0.15              -0.15   \n",
       "10       {'alpha': 5}              -0.16              -0.16   \n",
       "11       {'alpha': 7}              -0.16              -0.16   \n",
       "12       {'alpha': 9}              -0.16              -0.16   \n",
       "13      {'alpha': 10}              -0.16              -0.16   \n",
       "14      {'alpha': 20}              -0.17              -0.16   \n",
       "15      {'alpha': 50}              -0.18              -0.17   \n",
       "16     {'alpha': 100}              -0.21              -0.19   \n",
       "17     {'alpha': 500}              -0.30              -0.25   \n",
       "18    {'alpha': 1000}              -0.31              -0.26   \n",
       "\n",
       "    split2_test_score  split3_test_score  ...  mean_test_score  \\\n",
       "0               -0.08              -0.08  ...            -0.08   \n",
       "1               -0.08              -0.08  ...            -0.08   \n",
       "2               -0.09              -0.10  ...            -0.09   \n",
       "3               -0.11              -0.12  ...            -0.11   \n",
       "4               -0.11              -0.12  ...            -0.12   \n",
       "5               -0.11              -0.12  ...            -0.12   \n",
       "6               -0.12              -0.12  ...            -0.12   \n",
       "7               -0.12              -0.12  ...            -0.12   \n",
       "8               -0.12              -0.12  ...            -0.12   \n",
       "9               -0.16              -0.15  ...            -0.15   \n",
       "10              -0.16              -0.16  ...            -0.16   \n",
       "11              -0.16              -0.16  ...            -0.16   \n",
       "12              -0.17              -0.16  ...            -0.16   \n",
       "13              -0.17              -0.16  ...            -0.16   \n",
       "14              -0.17              -0.16  ...            -0.17   \n",
       "15              -0.18              -0.18  ...            -0.18   \n",
       "16              -0.21              -0.21  ...            -0.20   \n",
       "17              -0.31              -0.31  ...            -0.29   \n",
       "18              -0.32              -0.32  ...            -0.30   \n",
       "\n",
       "    std_test_score  rank_test_score  split0_train_score  split1_train_score  \\\n",
       "0             0.01                2               -0.06               -0.06   \n",
       "1             0.00                1               -0.07               -0.07   \n",
       "2             0.00                3               -0.09               -0.09   \n",
       "3             0.00                4               -0.11               -0.11   \n",
       "4             0.00                5               -0.11               -0.11   \n",
       "5             0.00                6               -0.12               -0.11   \n",
       "6             0.00                7               -0.12               -0.11   \n",
       "7             0.00                8               -0.12               -0.12   \n",
       "8             0.00                9               -0.12               -0.12   \n",
       "9             0.00               10               -0.15               -0.15   \n",
       "10            0.00               11               -0.16               -0.16   \n",
       "11            0.00               12               -0.16               -0.16   \n",
       "12            0.00               13               -0.16               -0.16   \n",
       "13            0.00               14               -0.16               -0.16   \n",
       "14            0.00               15               -0.16               -0.16   \n",
       "15            0.00               16               -0.18               -0.18   \n",
       "16            0.01               17               -0.20               -0.20   \n",
       "17            0.02               18               -0.29               -0.30   \n",
       "18            0.02               19               -0.30               -0.31   \n",
       "\n",
       "    split2_train_score  split3_train_score  split4_train_score  \\\n",
       "0                -0.06               -0.06               -0.06   \n",
       "1                -0.07               -0.07               -0.07   \n",
       "2                -0.09               -0.09               -0.09   \n",
       "3                -0.11               -0.11               -0.11   \n",
       "4                -0.11               -0.11               -0.11   \n",
       "5                -0.11               -0.11               -0.12   \n",
       "6                -0.12               -0.11               -0.12   \n",
       "7                -0.12               -0.12               -0.12   \n",
       "8                -0.12               -0.12               -0.12   \n",
       "9                -0.15               -0.15               -0.15   \n",
       "10               -0.16               -0.16               -0.16   \n",
       "11               -0.16               -0.16               -0.16   \n",
       "12               -0.16               -0.16               -0.16   \n",
       "13               -0.16               -0.16               -0.16   \n",
       "14               -0.16               -0.17               -0.17   \n",
       "15               -0.18               -0.18               -0.18   \n",
       "16               -0.20               -0.20               -0.20   \n",
       "17               -0.29               -0.29               -0.29   \n",
       "18               -0.30               -0.30               -0.30   \n",
       "\n",
       "    mean_train_score  std_train_score  \n",
       "0              -0.06             0.00  \n",
       "1              -0.07             0.00  \n",
       "2              -0.09             0.00  \n",
       "3              -0.11             0.00  \n",
       "4              -0.11             0.00  \n",
       "5              -0.11             0.00  \n",
       "6              -0.12             0.00  \n",
       "7              -0.12             0.00  \n",
       "8              -0.12             0.00  \n",
       "9              -0.15             0.00  \n",
       "10             -0.16             0.00  \n",
       "11             -0.16             0.00  \n",
       "12             -0.16             0.00  \n",
       "13             -0.16             0.00  \n",
       "14             -0.17             0.00  \n",
       "15             -0.18             0.00  \n",
       "16             -0.20             0.00  \n",
       "17             -0.29             0.00  \n",
       "18             -0.30             0.01  \n",
       "\n",
       "[19 rows x 21 columns]"
      ]
     },
     "execution_count": 111,
     "metadata": {},
     "output_type": "execute_result"
    }
   ],
   "source": [
    "cv_results = pd.DataFrame(model_cv.cv_results_)\n",
    "cv_results"
   ]
  },
  {
   "cell_type": "code",
   "execution_count": 112,
   "id": "c2c95aa9",
   "metadata": {},
   "outputs": [
    {
     "name": "stdout",
     "output_type": "stream",
     "text": [
      "Fitting 5 folds for each of 19 candidates, totalling 95 fits\n"
     ]
    },
    {
     "data": {
      "text/plain": [
       "GridSearchCV(cv=5, estimator=Lasso(),\n",
       "             param_grid={'alpha': [0.0001, 0.001, 0.01, 0.1, 0.3, 0.5, 0.7, 0.9,\n",
       "                                   1, 3, 5, 7, 9, 10, 20, 50, 100, 500, 1000]},\n",
       "             return_train_score=True, scoring='r2', verbose=1)"
      ]
     },
     "execution_count": 112,
     "metadata": {},
     "output_type": "execute_result"
    }
   ],
   "source": [
    "# Rcuadrado del modelo lasso\n",
    "model_cv1 = GridSearchCV(estimator = lasso,  param_grid = parametros, scoring= 'r2', cv = folds,  verbose = 1, return_train_score=True)      \n",
    "\n",
    "# fit the model\n",
    "model_cv1.fit(X_train, y_train) "
   ]
  },
  {
   "cell_type": "code",
   "execution_count": 113,
   "id": "441f29ac",
   "metadata": {},
   "outputs": [
    {
     "data": {
      "text/html": [
       "<div>\n",
       "<style scoped>\n",
       "    .dataframe tbody tr th:only-of-type {\n",
       "        vertical-align: middle;\n",
       "    }\n",
       "\n",
       "    .dataframe tbody tr th {\n",
       "        vertical-align: top;\n",
       "    }\n",
       "\n",
       "    .dataframe thead th {\n",
       "        text-align: right;\n",
       "    }\n",
       "</style>\n",
       "<table border=\"1\" class=\"dataframe\">\n",
       "  <thead>\n",
       "    <tr style=\"text-align: right;\">\n",
       "      <th></th>\n",
       "      <th>mean_fit_time</th>\n",
       "      <th>std_fit_time</th>\n",
       "      <th>mean_score_time</th>\n",
       "      <th>std_score_time</th>\n",
       "      <th>param_alpha</th>\n",
       "      <th>params</th>\n",
       "      <th>split0_test_score</th>\n",
       "      <th>split1_test_score</th>\n",
       "      <th>split2_test_score</th>\n",
       "      <th>split3_test_score</th>\n",
       "      <th>...</th>\n",
       "      <th>mean_test_score</th>\n",
       "      <th>std_test_score</th>\n",
       "      <th>rank_test_score</th>\n",
       "      <th>split0_train_score</th>\n",
       "      <th>split1_train_score</th>\n",
       "      <th>split2_train_score</th>\n",
       "      <th>split3_train_score</th>\n",
       "      <th>split4_train_score</th>\n",
       "      <th>mean_train_score</th>\n",
       "      <th>std_train_score</th>\n",
       "    </tr>\n",
       "  </thead>\n",
       "  <tbody>\n",
       "    <tr>\n",
       "      <th>0</th>\n",
       "      <td>0.14</td>\n",
       "      <td>0.07</td>\n",
       "      <td>0.00</td>\n",
       "      <td>0.00</td>\n",
       "      <td>0.00</td>\n",
       "      <td>{'alpha': 0.0001}</td>\n",
       "      <td>0.94</td>\n",
       "      <td>0.86</td>\n",
       "      <td>0.92</td>\n",
       "      <td>0.91</td>\n",
       "      <td>...</td>\n",
       "      <td>0.91</td>\n",
       "      <td>0.03</td>\n",
       "      <td>2</td>\n",
       "      <td>0.95</td>\n",
       "      <td>0.96</td>\n",
       "      <td>0.95</td>\n",
       "      <td>0.96</td>\n",
       "      <td>0.95</td>\n",
       "      <td>0.95</td>\n",
       "      <td>0.00</td>\n",
       "    </tr>\n",
       "    <tr>\n",
       "      <th>1</th>\n",
       "      <td>0.02</td>\n",
       "      <td>0.00</td>\n",
       "      <td>0.01</td>\n",
       "      <td>0.00</td>\n",
       "      <td>0.00</td>\n",
       "      <td>{'alpha': 0.001}</td>\n",
       "      <td>0.94</td>\n",
       "      <td>0.87</td>\n",
       "      <td>0.93</td>\n",
       "      <td>0.91</td>\n",
       "      <td>...</td>\n",
       "      <td>0.91</td>\n",
       "      <td>0.03</td>\n",
       "      <td>1</td>\n",
       "      <td>0.93</td>\n",
       "      <td>0.94</td>\n",
       "      <td>0.93</td>\n",
       "      <td>0.93</td>\n",
       "      <td>0.93</td>\n",
       "      <td>0.93</td>\n",
       "      <td>0.01</td>\n",
       "    </tr>\n",
       "    <tr>\n",
       "      <th>2</th>\n",
       "      <td>0.02</td>\n",
       "      <td>0.00</td>\n",
       "      <td>0.00</td>\n",
       "      <td>0.00</td>\n",
       "      <td>0.01</td>\n",
       "      <td>{'alpha': 0.01}</td>\n",
       "      <td>0.91</td>\n",
       "      <td>0.81</td>\n",
       "      <td>0.90</td>\n",
       "      <td>0.88</td>\n",
       "      <td>...</td>\n",
       "      <td>0.88</td>\n",
       "      <td>0.03</td>\n",
       "      <td>3</td>\n",
       "      <td>0.88</td>\n",
       "      <td>0.90</td>\n",
       "      <td>0.88</td>\n",
       "      <td>0.89</td>\n",
       "      <td>0.88</td>\n",
       "      <td>0.89</td>\n",
       "      <td>0.01</td>\n",
       "    </tr>\n",
       "    <tr>\n",
       "      <th>3</th>\n",
       "      <td>0.02</td>\n",
       "      <td>0.00</td>\n",
       "      <td>0.00</td>\n",
       "      <td>0.00</td>\n",
       "      <td>0.10</td>\n",
       "      <td>{'alpha': 0.1}</td>\n",
       "      <td>0.86</td>\n",
       "      <td>0.73</td>\n",
       "      <td>0.85</td>\n",
       "      <td>0.83</td>\n",
       "      <td>...</td>\n",
       "      <td>0.82</td>\n",
       "      <td>0.05</td>\n",
       "      <td>4</td>\n",
       "      <td>0.83</td>\n",
       "      <td>0.85</td>\n",
       "      <td>0.83</td>\n",
       "      <td>0.84</td>\n",
       "      <td>0.83</td>\n",
       "      <td>0.84</td>\n",
       "      <td>0.01</td>\n",
       "    </tr>\n",
       "    <tr>\n",
       "      <th>4</th>\n",
       "      <td>0.03</td>\n",
       "      <td>0.02</td>\n",
       "      <td>0.01</td>\n",
       "      <td>0.00</td>\n",
       "      <td>0.30</td>\n",
       "      <td>{'alpha': 0.3}</td>\n",
       "      <td>0.86</td>\n",
       "      <td>0.73</td>\n",
       "      <td>0.85</td>\n",
       "      <td>0.84</td>\n",
       "      <td>...</td>\n",
       "      <td>0.82</td>\n",
       "      <td>0.05</td>\n",
       "      <td>5</td>\n",
       "      <td>0.82</td>\n",
       "      <td>0.85</td>\n",
       "      <td>0.83</td>\n",
       "      <td>0.83</td>\n",
       "      <td>0.83</td>\n",
       "      <td>0.83</td>\n",
       "      <td>0.01</td>\n",
       "    </tr>\n",
       "    <tr>\n",
       "      <th>5</th>\n",
       "      <td>0.01</td>\n",
       "      <td>0.00</td>\n",
       "      <td>0.00</td>\n",
       "      <td>0.00</td>\n",
       "      <td>0.50</td>\n",
       "      <td>{'alpha': 0.5}</td>\n",
       "      <td>0.85</td>\n",
       "      <td>0.73</td>\n",
       "      <td>0.84</td>\n",
       "      <td>0.84</td>\n",
       "      <td>...</td>\n",
       "      <td>0.82</td>\n",
       "      <td>0.05</td>\n",
       "      <td>6</td>\n",
       "      <td>0.82</td>\n",
       "      <td>0.85</td>\n",
       "      <td>0.82</td>\n",
       "      <td>0.83</td>\n",
       "      <td>0.83</td>\n",
       "      <td>0.83</td>\n",
       "      <td>0.01</td>\n",
       "    </tr>\n",
       "    <tr>\n",
       "      <th>6</th>\n",
       "      <td>0.02</td>\n",
       "      <td>0.00</td>\n",
       "      <td>0.01</td>\n",
       "      <td>0.00</td>\n",
       "      <td>0.70</td>\n",
       "      <td>{'alpha': 0.7}</td>\n",
       "      <td>0.85</td>\n",
       "      <td>0.72</td>\n",
       "      <td>0.84</td>\n",
       "      <td>0.83</td>\n",
       "      <td>...</td>\n",
       "      <td>0.81</td>\n",
       "      <td>0.05</td>\n",
       "      <td>7</td>\n",
       "      <td>0.82</td>\n",
       "      <td>0.84</td>\n",
       "      <td>0.82</td>\n",
       "      <td>0.82</td>\n",
       "      <td>0.82</td>\n",
       "      <td>0.82</td>\n",
       "      <td>0.01</td>\n",
       "    </tr>\n",
       "    <tr>\n",
       "      <th>7</th>\n",
       "      <td>0.01</td>\n",
       "      <td>0.00</td>\n",
       "      <td>0.00</td>\n",
       "      <td>0.00</td>\n",
       "      <td>0.90</td>\n",
       "      <td>{'alpha': 0.9}</td>\n",
       "      <td>0.84</td>\n",
       "      <td>0.72</td>\n",
       "      <td>0.83</td>\n",
       "      <td>0.83</td>\n",
       "      <td>...</td>\n",
       "      <td>0.81</td>\n",
       "      <td>0.05</td>\n",
       "      <td>8</td>\n",
       "      <td>0.81</td>\n",
       "      <td>0.84</td>\n",
       "      <td>0.81</td>\n",
       "      <td>0.82</td>\n",
       "      <td>0.81</td>\n",
       "      <td>0.82</td>\n",
       "      <td>0.01</td>\n",
       "    </tr>\n",
       "    <tr>\n",
       "      <th>8</th>\n",
       "      <td>0.01</td>\n",
       "      <td>0.00</td>\n",
       "      <td>0.00</td>\n",
       "      <td>0.00</td>\n",
       "      <td>1</td>\n",
       "      <td>{'alpha': 1}</td>\n",
       "      <td>0.83</td>\n",
       "      <td>0.71</td>\n",
       "      <td>0.83</td>\n",
       "      <td>0.83</td>\n",
       "      <td>...</td>\n",
       "      <td>0.80</td>\n",
       "      <td>0.05</td>\n",
       "      <td>9</td>\n",
       "      <td>0.81</td>\n",
       "      <td>0.83</td>\n",
       "      <td>0.81</td>\n",
       "      <td>0.81</td>\n",
       "      <td>0.81</td>\n",
       "      <td>0.81</td>\n",
       "      <td>0.01</td>\n",
       "    </tr>\n",
       "    <tr>\n",
       "      <th>9</th>\n",
       "      <td>0.02</td>\n",
       "      <td>0.00</td>\n",
       "      <td>0.00</td>\n",
       "      <td>0.00</td>\n",
       "      <td>3</td>\n",
       "      <td>{'alpha': 3}</td>\n",
       "      <td>0.75</td>\n",
       "      <td>0.61</td>\n",
       "      <td>0.73</td>\n",
       "      <td>0.77</td>\n",
       "      <td>...</td>\n",
       "      <td>0.71</td>\n",
       "      <td>0.06</td>\n",
       "      <td>10</td>\n",
       "      <td>0.72</td>\n",
       "      <td>0.75</td>\n",
       "      <td>0.72</td>\n",
       "      <td>0.72</td>\n",
       "      <td>0.72</td>\n",
       "      <td>0.73</td>\n",
       "      <td>0.01</td>\n",
       "    </tr>\n",
       "    <tr>\n",
       "      <th>10</th>\n",
       "      <td>0.01</td>\n",
       "      <td>0.00</td>\n",
       "      <td>0.01</td>\n",
       "      <td>0.00</td>\n",
       "      <td>5</td>\n",
       "      <td>{'alpha': 5}</td>\n",
       "      <td>0.72</td>\n",
       "      <td>0.57</td>\n",
       "      <td>0.71</td>\n",
       "      <td>0.74</td>\n",
       "      <td>...</td>\n",
       "      <td>0.69</td>\n",
       "      <td>0.06</td>\n",
       "      <td>11</td>\n",
       "      <td>0.69</td>\n",
       "      <td>0.72</td>\n",
       "      <td>0.69</td>\n",
       "      <td>0.69</td>\n",
       "      <td>0.70</td>\n",
       "      <td>0.70</td>\n",
       "      <td>0.01</td>\n",
       "    </tr>\n",
       "    <tr>\n",
       "      <th>11</th>\n",
       "      <td>0.01</td>\n",
       "      <td>0.00</td>\n",
       "      <td>0.00</td>\n",
       "      <td>0.00</td>\n",
       "      <td>7</td>\n",
       "      <td>{'alpha': 7}</td>\n",
       "      <td>0.72</td>\n",
       "      <td>0.57</td>\n",
       "      <td>0.71</td>\n",
       "      <td>0.74</td>\n",
       "      <td>...</td>\n",
       "      <td>0.68</td>\n",
       "      <td>0.06</td>\n",
       "      <td>12</td>\n",
       "      <td>0.69</td>\n",
       "      <td>0.72</td>\n",
       "      <td>0.69</td>\n",
       "      <td>0.68</td>\n",
       "      <td>0.70</td>\n",
       "      <td>0.69</td>\n",
       "      <td>0.01</td>\n",
       "    </tr>\n",
       "    <tr>\n",
       "      <th>12</th>\n",
       "      <td>0.01</td>\n",
       "      <td>0.00</td>\n",
       "      <td>0.01</td>\n",
       "      <td>0.00</td>\n",
       "      <td>9</td>\n",
       "      <td>{'alpha': 9}</td>\n",
       "      <td>0.72</td>\n",
       "      <td>0.57</td>\n",
       "      <td>0.71</td>\n",
       "      <td>0.73</td>\n",
       "      <td>...</td>\n",
       "      <td>0.68</td>\n",
       "      <td>0.06</td>\n",
       "      <td>13</td>\n",
       "      <td>0.68</td>\n",
       "      <td>0.72</td>\n",
       "      <td>0.69</td>\n",
       "      <td>0.68</td>\n",
       "      <td>0.69</td>\n",
       "      <td>0.69</td>\n",
       "      <td>0.01</td>\n",
       "    </tr>\n",
       "    <tr>\n",
       "      <th>13</th>\n",
       "      <td>0.01</td>\n",
       "      <td>0.00</td>\n",
       "      <td>0.00</td>\n",
       "      <td>0.00</td>\n",
       "      <td>10</td>\n",
       "      <td>{'alpha': 10}</td>\n",
       "      <td>0.71</td>\n",
       "      <td>0.57</td>\n",
       "      <td>0.71</td>\n",
       "      <td>0.73</td>\n",
       "      <td>...</td>\n",
       "      <td>0.68</td>\n",
       "      <td>0.06</td>\n",
       "      <td>14</td>\n",
       "      <td>0.68</td>\n",
       "      <td>0.71</td>\n",
       "      <td>0.69</td>\n",
       "      <td>0.68</td>\n",
       "      <td>0.69</td>\n",
       "      <td>0.69</td>\n",
       "      <td>0.01</td>\n",
       "    </tr>\n",
       "    <tr>\n",
       "      <th>14</th>\n",
       "      <td>0.02</td>\n",
       "      <td>0.01</td>\n",
       "      <td>0.01</td>\n",
       "      <td>0.01</td>\n",
       "      <td>20</td>\n",
       "      <td>{'alpha': 20}</td>\n",
       "      <td>0.70</td>\n",
       "      <td>0.56</td>\n",
       "      <td>0.69</td>\n",
       "      <td>0.72</td>\n",
       "      <td>...</td>\n",
       "      <td>0.67</td>\n",
       "      <td>0.06</td>\n",
       "      <td>15</td>\n",
       "      <td>0.67</td>\n",
       "      <td>0.70</td>\n",
       "      <td>0.68</td>\n",
       "      <td>0.67</td>\n",
       "      <td>0.68</td>\n",
       "      <td>0.68</td>\n",
       "      <td>0.01</td>\n",
       "    </tr>\n",
       "    <tr>\n",
       "      <th>15</th>\n",
       "      <td>0.02</td>\n",
       "      <td>0.01</td>\n",
       "      <td>0.01</td>\n",
       "      <td>0.00</td>\n",
       "      <td>50</td>\n",
       "      <td>{'alpha': 50}</td>\n",
       "      <td>0.65</td>\n",
       "      <td>0.52</td>\n",
       "      <td>0.65</td>\n",
       "      <td>0.67</td>\n",
       "      <td>...</td>\n",
       "      <td>0.62</td>\n",
       "      <td>0.05</td>\n",
       "      <td>16</td>\n",
       "      <td>0.63</td>\n",
       "      <td>0.66</td>\n",
       "      <td>0.63</td>\n",
       "      <td>0.62</td>\n",
       "      <td>0.63</td>\n",
       "      <td>0.63</td>\n",
       "      <td>0.01</td>\n",
       "    </tr>\n",
       "    <tr>\n",
       "      <th>16</th>\n",
       "      <td>0.02</td>\n",
       "      <td>0.00</td>\n",
       "      <td>0.01</td>\n",
       "      <td>0.00</td>\n",
       "      <td>100</td>\n",
       "      <td>{'alpha': 100}</td>\n",
       "      <td>0.56</td>\n",
       "      <td>0.45</td>\n",
       "      <td>0.54</td>\n",
       "      <td>0.56</td>\n",
       "      <td>...</td>\n",
       "      <td>0.53</td>\n",
       "      <td>0.04</td>\n",
       "      <td>17</td>\n",
       "      <td>0.53</td>\n",
       "      <td>0.58</td>\n",
       "      <td>0.53</td>\n",
       "      <td>0.52</td>\n",
       "      <td>0.54</td>\n",
       "      <td>0.54</td>\n",
       "      <td>0.02</td>\n",
       "    </tr>\n",
       "    <tr>\n",
       "      <th>17</th>\n",
       "      <td>0.01</td>\n",
       "      <td>0.00</td>\n",
       "      <td>0.00</td>\n",
       "      <td>0.00</td>\n",
       "      <td>500</td>\n",
       "      <td>{'alpha': 500}</td>\n",
       "      <td>0.05</td>\n",
       "      <td>0.05</td>\n",
       "      <td>0.04</td>\n",
       "      <td>0.05</td>\n",
       "      <td>...</td>\n",
       "      <td>0.05</td>\n",
       "      <td>0.00</td>\n",
       "      <td>18</td>\n",
       "      <td>0.04</td>\n",
       "      <td>0.07</td>\n",
       "      <td>0.05</td>\n",
       "      <td>0.04</td>\n",
       "      <td>0.05</td>\n",
       "      <td>0.05</td>\n",
       "      <td>0.01</td>\n",
       "    </tr>\n",
       "    <tr>\n",
       "      <th>18</th>\n",
       "      <td>0.01</td>\n",
       "      <td>0.00</td>\n",
       "      <td>0.01</td>\n",
       "      <td>0.00</td>\n",
       "      <td>1000</td>\n",
       "      <td>{'alpha': 1000}</td>\n",
       "      <td>-0.00</td>\n",
       "      <td>-0.00</td>\n",
       "      <td>-0.00</td>\n",
       "      <td>-0.00</td>\n",
       "      <td>...</td>\n",
       "      <td>-0.00</td>\n",
       "      <td>0.00</td>\n",
       "      <td>19</td>\n",
       "      <td>0.00</td>\n",
       "      <td>0.00</td>\n",
       "      <td>0.00</td>\n",
       "      <td>0.00</td>\n",
       "      <td>0.00</td>\n",
       "      <td>0.00</td>\n",
       "      <td>0.00</td>\n",
       "    </tr>\n",
       "  </tbody>\n",
       "</table>\n",
       "<p>19 rows × 21 columns</p>\n",
       "</div>"
      ],
      "text/plain": [
       "    mean_fit_time  std_fit_time  mean_score_time  std_score_time param_alpha  \\\n",
       "0            0.14          0.07             0.00            0.00        0.00   \n",
       "1            0.02          0.00             0.01            0.00        0.00   \n",
       "2            0.02          0.00             0.00            0.00        0.01   \n",
       "3            0.02          0.00             0.00            0.00        0.10   \n",
       "4            0.03          0.02             0.01            0.00        0.30   \n",
       "5            0.01          0.00             0.00            0.00        0.50   \n",
       "6            0.02          0.00             0.01            0.00        0.70   \n",
       "7            0.01          0.00             0.00            0.00        0.90   \n",
       "8            0.01          0.00             0.00            0.00           1   \n",
       "9            0.02          0.00             0.00            0.00           3   \n",
       "10           0.01          0.00             0.01            0.00           5   \n",
       "11           0.01          0.00             0.00            0.00           7   \n",
       "12           0.01          0.00             0.01            0.00           9   \n",
       "13           0.01          0.00             0.00            0.00          10   \n",
       "14           0.02          0.01             0.01            0.01          20   \n",
       "15           0.02          0.01             0.01            0.00          50   \n",
       "16           0.02          0.00             0.01            0.00         100   \n",
       "17           0.01          0.00             0.00            0.00         500   \n",
       "18           0.01          0.00             0.01            0.00        1000   \n",
       "\n",
       "               params  split0_test_score  split1_test_score  \\\n",
       "0   {'alpha': 0.0001}               0.94               0.86   \n",
       "1    {'alpha': 0.001}               0.94               0.87   \n",
       "2     {'alpha': 0.01}               0.91               0.81   \n",
       "3      {'alpha': 0.1}               0.86               0.73   \n",
       "4      {'alpha': 0.3}               0.86               0.73   \n",
       "5      {'alpha': 0.5}               0.85               0.73   \n",
       "6      {'alpha': 0.7}               0.85               0.72   \n",
       "7      {'alpha': 0.9}               0.84               0.72   \n",
       "8        {'alpha': 1}               0.83               0.71   \n",
       "9        {'alpha': 3}               0.75               0.61   \n",
       "10       {'alpha': 5}               0.72               0.57   \n",
       "11       {'alpha': 7}               0.72               0.57   \n",
       "12       {'alpha': 9}               0.72               0.57   \n",
       "13      {'alpha': 10}               0.71               0.57   \n",
       "14      {'alpha': 20}               0.70               0.56   \n",
       "15      {'alpha': 50}               0.65               0.52   \n",
       "16     {'alpha': 100}               0.56               0.45   \n",
       "17     {'alpha': 500}               0.05               0.05   \n",
       "18    {'alpha': 1000}              -0.00              -0.00   \n",
       "\n",
       "    split2_test_score  split3_test_score  ...  mean_test_score  \\\n",
       "0                0.92               0.91  ...             0.91   \n",
       "1                0.93               0.91  ...             0.91   \n",
       "2                0.90               0.88  ...             0.88   \n",
       "3                0.85               0.83  ...             0.82   \n",
       "4                0.85               0.84  ...             0.82   \n",
       "5                0.84               0.84  ...             0.82   \n",
       "6                0.84               0.83  ...             0.81   \n",
       "7                0.83               0.83  ...             0.81   \n",
       "8                0.83               0.83  ...             0.80   \n",
       "9                0.73               0.77  ...             0.71   \n",
       "10               0.71               0.74  ...             0.69   \n",
       "11               0.71               0.74  ...             0.68   \n",
       "12               0.71               0.73  ...             0.68   \n",
       "13               0.71               0.73  ...             0.68   \n",
       "14               0.69               0.72  ...             0.67   \n",
       "15               0.65               0.67  ...             0.62   \n",
       "16               0.54               0.56  ...             0.53   \n",
       "17               0.04               0.05  ...             0.05   \n",
       "18              -0.00              -0.00  ...            -0.00   \n",
       "\n",
       "    std_test_score  rank_test_score  split0_train_score  split1_train_score  \\\n",
       "0             0.03                2                0.95                0.96   \n",
       "1             0.03                1                0.93                0.94   \n",
       "2             0.03                3                0.88                0.90   \n",
       "3             0.05                4                0.83                0.85   \n",
       "4             0.05                5                0.82                0.85   \n",
       "5             0.05                6                0.82                0.85   \n",
       "6             0.05                7                0.82                0.84   \n",
       "7             0.05                8                0.81                0.84   \n",
       "8             0.05                9                0.81                0.83   \n",
       "9             0.06               10                0.72                0.75   \n",
       "10            0.06               11                0.69                0.72   \n",
       "11            0.06               12                0.69                0.72   \n",
       "12            0.06               13                0.68                0.72   \n",
       "13            0.06               14                0.68                0.71   \n",
       "14            0.06               15                0.67                0.70   \n",
       "15            0.05               16                0.63                0.66   \n",
       "16            0.04               17                0.53                0.58   \n",
       "17            0.00               18                0.04                0.07   \n",
       "18            0.00               19                0.00                0.00   \n",
       "\n",
       "    split2_train_score  split3_train_score  split4_train_score  \\\n",
       "0                 0.95                0.96                0.95   \n",
       "1                 0.93                0.93                0.93   \n",
       "2                 0.88                0.89                0.88   \n",
       "3                 0.83                0.84                0.83   \n",
       "4                 0.83                0.83                0.83   \n",
       "5                 0.82                0.83                0.83   \n",
       "6                 0.82                0.82                0.82   \n",
       "7                 0.81                0.82                0.81   \n",
       "8                 0.81                0.81                0.81   \n",
       "9                 0.72                0.72                0.72   \n",
       "10                0.69                0.69                0.70   \n",
       "11                0.69                0.68                0.70   \n",
       "12                0.69                0.68                0.69   \n",
       "13                0.69                0.68                0.69   \n",
       "14                0.68                0.67                0.68   \n",
       "15                0.63                0.62                0.63   \n",
       "16                0.53                0.52                0.54   \n",
       "17                0.05                0.04                0.05   \n",
       "18                0.00                0.00                0.00   \n",
       "\n",
       "    mean_train_score  std_train_score  \n",
       "0               0.95             0.00  \n",
       "1               0.93             0.01  \n",
       "2               0.89             0.01  \n",
       "3               0.84             0.01  \n",
       "4               0.83             0.01  \n",
       "5               0.83             0.01  \n",
       "6               0.82             0.01  \n",
       "7               0.82             0.01  \n",
       "8               0.81             0.01  \n",
       "9               0.73             0.01  \n",
       "10              0.70             0.01  \n",
       "11              0.69             0.01  \n",
       "12              0.69             0.01  \n",
       "13              0.69             0.01  \n",
       "14              0.68             0.01  \n",
       "15              0.63             0.01  \n",
       "16              0.54             0.02  \n",
       "17              0.05             0.01  \n",
       "18              0.00             0.00  \n",
       "\n",
       "[19 rows x 21 columns]"
      ]
     },
     "execution_count": 113,
     "metadata": {},
     "output_type": "execute_result"
    }
   ],
   "source": [
    "cv_results1 = pd.DataFrame(model_cv1.cv_results_)\n",
    "cv_results1"
   ]
  },
  {
   "cell_type": "code",
   "execution_count": 114,
   "id": "cf26bf62",
   "metadata": {},
   "outputs": [
    {
     "data": {
      "text/plain": [
       "<matplotlib.legend.Legend at 0x182e0bbee20>"
      ]
     },
     "execution_count": 114,
     "metadata": {},
     "output_type": "execute_result"
    },
    {
     "data": {
      "image/png": "[encoded data removed]",
      "text/plain": [
       "<Figure size 1152x288 with 1 Axes>"
      ]
     },
     "metadata": {
      "needs_background": "light"
     },
     "output_type": "display_data"
    }
   ],
   "source": [
    "plt.figure(figsize=(16,4))\n",
    "\n",
    "plt.plot(cv_results1[\"param_alpha\"], cv_results1[\"mean_test_score\"])\n",
    "plt.plot(cv_results1[\"param_alpha\"], cv_results1[\"mean_train_score\"])\n",
    "plt.xlabel('features')\n",
    "plt.ylabel('R cuadrado')\n",
    "plt.title(\"Numero optimo de variables independientes\")\n",
    "plt.legend(['test score', 'train score'], loc='upper right')"
   ]
  },
  {
   "cell_type": "code",
   "execution_count": 115,
   "id": "db22e013",
   "metadata": {},
   "outputs": [
    {
     "name": "stdout",
     "output_type": "stream",
     "text": [
      "{'alpha': 0.001}\n",
      "-0.07850649703280731\n"
     ]
    }
   ],
   "source": [
    "print(model_cv.best_params_)\n",
    "print(model_cv.best_score_)"
   ]
  },
  {
   "cell_type": "code",
   "execution_count": 116,
   "id": "4e099973",
   "metadata": {},
   "outputs": [
    {
     "data": {
      "text/plain": [
       "Lasso(alpha=0.0001)"
      ]
     },
     "execution_count": 116,
     "metadata": {},
     "output_type": "execute_result"
    }
   ],
   "source": [
    "alpha = 0.0001\n",
    "\n",
    "lasso = Lasso(alpha=alpha)\n",
    "        \n",
    "lasso.fit(X_train, y_train) "
   ]
  },
  {
   "cell_type": "code",
   "execution_count": 117,
   "id": "a44a915a",
   "metadata": {},
   "outputs": [
    {
     "name": "stdout",
     "output_type": "stream",
     "text": [
      "0.911138511950464\n"
     ]
    }
   ],
   "source": [
    "#lets predict the R-squared value of test and train data\n",
    "y_test_pred = lasso.predict(X_test)\n",
    "print(metrics.r2_score(y_true=y_test, y_pred=y_test_pred))"
   ]
  },
  {
   "cell_type": "code",
   "execution_count": 118,
   "id": "edbaa01c",
   "metadata": {},
   "outputs": [
    {
     "name": "stdout",
     "output_type": "stream",
     "text": [
      "R2 Train Score:  0.9484161589957895\n",
      "Mean Squared Train Error Train:  0.007804579086628585\n",
      "Mean Squared Train Error Test:  0.01485908049544448\n"
     ]
    }
   ],
   "source": [
    "y_pred_train_lasso = lasso.predict(X_train)\n",
    "y_pred_test_lasso = lasso.predict(X_test)\n",
    "\n",
    "r2_train_lasso = r2_score(y_train, y_pred_train_lasso)\n",
    "print(\"R2 Train Score: \", r2_train_lasso)\n",
    "\n",
    "mse_train_lasso = mean_squared_error(y_train, y_pred_train_lasso)\n",
    "print(\"Mean Squared Train Error Train: \", mse_train_lasso)\n",
    "mse_test_lasso = mean_squared_error(y_test, y_pred_test_lasso)\n",
    "print(\"Mean Squared Train Error Test: \", mse_test_lasso)"
   ]
  },
  {
   "attachments": {},
   "cell_type": "markdown",
   "id": "deec00d0",
   "metadata": {},
   "source": [
    "# 8. Conclusiones y Observaciones"
   ]
  }
 ],
 "metadata": {
  "kernelspec": {
   "display_name": "base",
   "language": "python",
   "name": "python3"
  },
  "language_info": {
   "codemirror_mode": {
    "name": "ipython",
    "version": 3
   },
   "file_extension": ".py",
   "mimetype": "text/x-python",
   "name": "python",
   "nbconvert_exporter": "python",
   "pygments_lexer": "ipython3",
   "version": "3.9.12"
  },
  "toc-autonumbering": false,
  "toc-showmarkdowntxt": false,
  "vscode": {
   "interpreter": {
    "hash": "dd2d689c6f491821d908ecd1a8f5021ebf14ee3bee68eadf5672d0c615f4e526"
   }
  }
 },
 "nbformat": 4,
 "nbformat_minor": 5
}
